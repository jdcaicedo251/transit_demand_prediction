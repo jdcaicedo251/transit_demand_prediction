{
 "cells": [
  {
   "cell_type": "code",
   "execution_count": 1,
   "metadata": {},
   "outputs": [],
   "source": [
    "import pandas as pd \n",
    "import numpy as np "
   ]
  },
  {
   "cell_type": "code",
   "execution_count": 2,
   "metadata": {},
   "outputs": [],
   "source": [
    "def read_data(input_path = 'data/'):\n",
    "    df = pd.read_csv(input_path + 'clean_transactions.csv', parse_dates = ['timestamp'])\n",
    "    return df "
   ]
  },
  {
   "cell_type": "code",
   "execution_count": 3,
   "metadata": {},
   "outputs": [],
   "source": [
    "def preprocess_data(input_path):\n",
    "    df = read_data(input_path)\n",
    "\n",
    "    station_cols = df.columns[~df.columns.str.contains('time')]\n",
    "    # transactions[station_cols] = transactions[station_cols] + 1\n",
    "    # transactions[station_cols] = transactions[station_cols].transform(np.log)\n",
    "\n",
    "    # Time variables\n",
    "    df['year'] = df.timestamp.dt.year\n",
    "    df['month'] = df.timestamp.dt.month\n",
    "    df['day'] = df.timestamp.dt.day\n",
    "    df['hour'] = df.timestamp.dt.hour\n",
    "    df['dayofweek'] = df.timestamp.dt.dayofweek \n",
    "    df['weekday'] = (df.day <= 4).astype(int)\n",
    "\n",
    "    # Cleaning operation times \n",
    "    df = df[~df.hour.isin([0,1,2,3,23])]\n",
    "    # del df\n",
    "    return df\n",
    "\n"
   ]
  },
  {
   "cell_type": "code",
   "execution_count": 22,
   "metadata": {},
   "outputs": [],
   "source": [
    "def aggreagtion(df, aggregation = None):\n",
    "    \"\"\"\n",
    "    Aggrefates transactions by the given aggregation parameter. \n",
    "    \n",
    "    Parameters:\n",
    "    -----------\n",
    "    - df: Pandas DataFrame, \n",
    "        Transactions by station. \n",
    "    - aggregation: str, default = None. \n",
    "        Aggregation interval. If none, it returns transactions every 15 mins. \n",
    "        One of ['hour','day','month']\n",
    "    \"\"\"\n",
    "\n",
    "    if aggregation is None:\n",
    "        \n",
    "        return df.reset_index(drop = True)\n",
    "\n",
    "\n",
    "    if aggregation == 'hour':\n",
    "        groupby_list = ['year', 'month', 'day', 'hour']\n",
    "    elif aggregation == 'day':\n",
    "        groupby_list = ['year', 'month', 'day']\n",
    "    elif aggregation == 'month':\n",
    "        groupby_list = ['year', 'month']\n",
    "    else:\n",
    "        raise ValueError \n",
    "\n",
    "    #Groupby \n",
    "    df1 = df.groupby(groupby_list).sum().reset_index()\n",
    "    return df1.reset_index(drop = True)"
   ]
  },
  {
   "cell_type": "code",
   "execution_count": 37,
   "metadata": {},
   "outputs": [],
   "source": [
    "def split_data(input_path, \n",
    "               train_date = (2018, 8, 1), \n",
    "               covid_date = (2020, 3, 1), \n",
    "               aggreagation = None):\n",
    "    df = preprocess_data(input_path)\n",
    "    df = aggreagtion(df, aggregation = aggreagation)\n",
    "\n",
    "    if aggreagation == 'month':\n",
    "        train_date_index = df[(df.year == train_date[0]) & (df.month == train_date[1])].index[0]\n",
    "        pre_covid_index = df[(df.year == covid_date[0]) & (df.month == covid_date[1])].index[0]\n",
    "\n",
    "    else: \n",
    "        train_date_index = df[(df.year == train_date[0]) & (df.month == train_date[1]) & (df.day == train_date[2])].index[0]\n",
    "        pre_covid_index = df[(df.year == covid_date[0]) & (df.month == covid_date[1]) & (df.day == covid_date[2])].index[0]\n",
    "\n",
    "    train_df = df[0:train_date_index]\n",
    "    pre_covid_df = df[train_date_index:pre_covid_index]\n",
    "    post_covid_df = df[pre_covid_index:]\n",
    "    return train_df, pre_covid_df, post_covid_df"
   ]
  },
  {
   "cell_type": "code",
   "execution_count": 42,
   "metadata": {},
   "outputs": [],
   "source": [
    "# a, b, c = split_data('data/', aggreagation = 'hour')"
   ]
  }
 ],
 "metadata": {
  "kernelspec": {
   "display_name": "Python 3.8.8 64-bit ('prediction': conda)",
   "name": "python388jvsc74a57bd09156c5fe81c128768729ffddff8e92efa661f491c3f6eae9c54847e138d37eca"
  },
  "language_info": {
   "codemirror_mode": {
    "name": "ipython",
    "version": 3
   },
   "file_extension": ".py",
   "mimetype": "text/x-python",
   "name": "python",
   "nbconvert_exporter": "python",
   "pygments_lexer": "ipython3",
   "version": "3.8.8"
  },
  "orig_nbformat": 2
 },
 "nbformat": 4,
 "nbformat_minor": 2
}