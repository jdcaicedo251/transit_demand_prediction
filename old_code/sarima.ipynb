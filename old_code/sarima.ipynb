{
 "cells": [
  {
   "cell_type": "code",
   "execution_count": 34,
   "metadata": {},
   "outputs": [],
   "source": [
    "import pandas as pd \n",
    "import numpy as np \n",
    "from data import split_data\n",
    "import os \n",
    "import joblib \n",
    "import pmdarima as pm"
   ]
  },
  {
   "cell_type": "code",
   "execution_count": 31,
   "metadata": {},
   "outputs": [],
   "source": [
    "data_directory = 'data'\n",
    "aggregation = 'day'\n",
    "transformation = 'log'\n",
    "\n",
    "train, test = split_data(data_directory , \n",
    "               train_date = (2018, 8, 1), aggreagation = 'day', transformation = 'log')"
   ]
  },
  {
   "cell_type": "code",
   "execution_count": 41,
   "metadata": {},
   "outputs": [
    {
     "data": {
      "text/plain": "33.757902524017084"
     },
     "execution_count": 41,
     "metadata": {},
     "output_type": "execute_result"
    },
    {
     "data": {
      "image/png": "[encoded data removed]",
      "text/plain": "<Figure size 432x288 with 1 Axes>"
     },
     "metadata": {
      "needs_background": "light"
     },
     "output_type": "display_data"
    }
   ],
   "source": [
    "train['(04107) escuela militar'].plot()#[train['(04107) escuela militar'].isnull()]\n",
    "train['(04107) escuela militar'].std()"
   ]
  },
  {
   "cell_type": "code",
   "execution_count": 48,
   "metadata": {},
   "outputs": [
    {
     "name": "stderr",
     "output_type": "stream",
     "text": [
      "/Users/juandavidcaicedocastro/anaconda3/envs/prediction/lib/python3.8/site-packages/statsmodels/tsa/statespace/sarimax.py:966: UserWarning: Non-stationary starting autoregressive parameters found. Using zeros as starting parameters.\n",
      "  warn('Non-stationary starting autoregressive parameters'\n",
      "/Users/juandavidcaicedocastro/anaconda3/envs/prediction/lib/python3.8/site-packages/statsmodels/tsa/statespace/sarimax.py:978: UserWarning: Non-invertible starting MA parameters found. Using zeros as starting parameters.\n",
      "  warn('Non-invertible starting MA parameters found.'\n",
      "/Users/juandavidcaicedocastro/anaconda3/envs/prediction/lib/python3.8/site-packages/statsmodels/base/model.py:566: ConvergenceWarning: Maximum Likelihood optimization failed to converge. Check mle_retvals\n",
      "  warnings.warn(\"Maximum Likelihood optimization failed to \"\n",
      "/Users/juandavidcaicedocastro/anaconda3/envs/prediction/lib/python3.8/site-packages/statsmodels/base/model.py:566: ConvergenceWarning: Maximum Likelihood optimization failed to converge. Check mle_retvals\n",
      "  warnings.warn(\"Maximum Likelihood optimization failed to \"\n",
      "/Users/juandavidcaicedocastro/anaconda3/envs/prediction/lib/python3.8/site-packages/statsmodels/base/model.py:566: ConvergenceWarning: Maximum Likelihood optimization failed to converge. Check mle_retvals\n",
      "  warnings.warn(\"Maximum Likelihood optimization failed to \"\n",
      "/Users/juandavidcaicedocastro/anaconda3/envs/prediction/lib/python3.8/site-packages/statsmodels/base/model.py:566: ConvergenceWarning: Maximum Likelihood optimization failed to converge. Check mle_retvals\n",
      "  warnings.warn(\"Maximum Likelihood optimization failed to \"\n",
      "/Users/juandavidcaicedocastro/anaconda3/envs/prediction/lib/python3.8/site-packages/statsmodels/base/model.py:566: ConvergenceWarning: Maximum Likelihood optimization failed to converge. Check mle_retvals\n",
      "  warnings.warn(\"Maximum Likelihood optimization failed to \"\n",
      "/Users/juandavidcaicedocastro/anaconda3/envs/prediction/lib/python3.8/site-packages/statsmodels/base/model.py:566: ConvergenceWarning: Maximum Likelihood optimization failed to converge. Check mle_retvals\n",
      "  warnings.warn(\"Maximum Likelihood optimization failed to \"\n",
      "/Users/juandavidcaicedocastro/anaconda3/envs/prediction/lib/python3.8/site-packages/statsmodels/base/model.py:566: ConvergenceWarning: Maximum Likelihood optimization failed to converge. Check mle_retvals\n",
      "  warnings.warn(\"Maximum Likelihood optimization failed to \"\n",
      "/Users/juandavidcaicedocastro/anaconda3/envs/prediction/lib/python3.8/site-packages/statsmodels/base/model.py:566: ConvergenceWarning: Maximum Likelihood optimization failed to converge. Check mle_retvals\n",
      "  warnings.warn(\"Maximum Likelihood optimization failed to \"\n",
      "/Users/juandavidcaicedocastro/anaconda3/envs/prediction/lib/python3.8/site-packages/statsmodels/base/model.py:566: ConvergenceWarning: Maximum Likelihood optimization failed to converge. Check mle_retvals\n",
      "  warnings.warn(\"Maximum Likelihood optimization failed to \"\n",
      "/Users/juandavidcaicedocastro/anaconda3/envs/prediction/lib/python3.8/site-packages/statsmodels/base/model.py:566: ConvergenceWarning: Maximum Likelihood optimization failed to converge. Check mle_retvals\n",
      "  warnings.warn(\"Maximum Likelihood optimization failed to \"\n",
      "/Users/juandavidcaicedocastro/anaconda3/envs/prediction/lib/python3.8/site-packages/statsmodels/base/model.py:566: ConvergenceWarning: Maximum Likelihood optimization failed to converge. Check mle_retvals\n",
      "  warnings.warn(\"Maximum Likelihood optimization failed to \"\n",
      "/Users/juandavidcaicedocastro/anaconda3/envs/prediction/lib/python3.8/site-packages/statsmodels/base/model.py:566: ConvergenceWarning: Maximum Likelihood optimization failed to converge. Check mle_retvals\n",
      "  warnings.warn(\"Maximum Likelihood optimization failed to \"\n",
      "/Users/juandavidcaicedocastro/anaconda3/envs/prediction/lib/python3.8/site-packages/statsmodels/base/model.py:566: ConvergenceWarning: Maximum Likelihood optimization failed to converge. Check mle_retvals\n",
      "  warnings.warn(\"Maximum Likelihood optimization failed to \"\n",
      "/Users/juandavidcaicedocastro/anaconda3/envs/prediction/lib/python3.8/site-packages/statsmodels/base/model.py:566: ConvergenceWarning: Maximum Likelihood optimization failed to converge. Check mle_retvals\n",
      "  warnings.warn(\"Maximum Likelihood optimization failed to \"\n",
      "/Users/juandavidcaicedocastro/anaconda3/envs/prediction/lib/python3.8/site-packages/statsmodels/base/model.py:566: ConvergenceWarning: Maximum Likelihood optimization failed to converge. Check mle_retvals\n",
      "  warnings.warn(\"Maximum Likelihood optimization failed to \"\n",
      "/Users/juandavidcaicedocastro/anaconda3/envs/prediction/lib/python3.8/site-packages/statsmodels/base/model.py:566: ConvergenceWarning: Maximum Likelihood optimization failed to converge. Check mle_retvals\n",
      "  warnings.warn(\"Maximum Likelihood optimization failed to \"\n",
      "/Users/juandavidcaicedocastro/anaconda3/envs/prediction/lib/python3.8/site-packages/statsmodels/base/model.py:566: ConvergenceWarning: Maximum Likelihood optimization failed to converge. Check mle_retvals\n",
      "  warnings.warn(\"Maximum Likelihood optimization failed to \"\n",
      "/Users/juandavidcaicedocastro/anaconda3/envs/prediction/lib/python3.8/site-packages/statsmodels/base/model.py:566: ConvergenceWarning: Maximum Likelihood optimization failed to converge. Check mle_retvals\n",
      "  warnings.warn(\"Maximum Likelihood optimization failed to \"\n",
      "/Users/juandavidcaicedocastro/anaconda3/envs/prediction/lib/python3.8/site-packages/statsmodels/tsa/statespace/sarimax.py:966: UserWarning: Non-stationary starting autoregressive parameters found. Using zeros as starting parameters.\n",
      "  warn('Non-stationary starting autoregressive parameters'\n",
      "/Users/juandavidcaicedocastro/anaconda3/envs/prediction/lib/python3.8/site-packages/statsmodels/base/model.py:566: ConvergenceWarning: Maximum Likelihood optimization failed to converge. Check mle_retvals\n",
      "  warnings.warn(\"Maximum Likelihood optimization failed to \"\n",
      "/Users/juandavidcaicedocastro/anaconda3/envs/prediction/lib/python3.8/site-packages/statsmodels/base/model.py:566: ConvergenceWarning: Maximum Likelihood optimization failed to converge. Check mle_retvals\n",
      "  warnings.warn(\"Maximum Likelihood optimization failed to \"\n",
      "/Users/juandavidcaicedocastro/anaconda3/envs/prediction/lib/python3.8/site-packages/statsmodels/base/model.py:566: ConvergenceWarning: Maximum Likelihood optimization failed to converge. Check mle_retvals\n",
      "  warnings.warn(\"Maximum Likelihood optimization failed to \"\n",
      "/Users/juandavidcaicedocastro/anaconda3/envs/prediction/lib/python3.8/site-packages/statsmodels/base/model.py:566: ConvergenceWarning: Maximum Likelihood optimization failed to converge. Check mle_retvals\n",
      "  warnings.warn(\"Maximum Likelihood optimization failed to \"\n",
      "/Users/juandavidcaicedocastro/anaconda3/envs/prediction/lib/python3.8/site-packages/statsmodels/base/model.py:566: ConvergenceWarning: Maximum Likelihood optimization failed to converge. Check mle_retvals\n",
      "  warnings.warn(\"Maximum Likelihood optimization failed to \"\n",
      "/Users/juandavidcaicedocastro/anaconda3/envs/prediction/lib/python3.8/site-packages/statsmodels/tsa/statespace/sarimax.py:966: UserWarning: Non-stationary starting autoregressive parameters found. Using zeros as starting parameters.\n",
      "  warn('Non-stationary starting autoregressive parameters'\n",
      "/Users/juandavidcaicedocastro/anaconda3/envs/prediction/lib/python3.8/site-packages/statsmodels/base/model.py:566: ConvergenceWarning: Maximum Likelihood optimization failed to converge. Check mle_retvals\n",
      "  warnings.warn(\"Maximum Likelihood optimization failed to \"\n",
      "/Users/juandavidcaicedocastro/anaconda3/envs/prediction/lib/python3.8/site-packages/statsmodels/base/model.py:566: ConvergenceWarning: Maximum Likelihood optimization failed to converge. Check mle_retvals\n",
      "  warnings.warn(\"Maximum Likelihood optimization failed to \"\n"
     ]
    }
   ],
   "source": [
    "s = train['(04107) escuela militar']\n",
    "model = pm.auto_arima(s, start_p=2, d=None, start_q=2, max_p=10, max_q=10,\n",
    "                        srtart_P=1, start_Q = 1, max_P = 5, max_Q = 5, m = 7, seasonal=True, \n",
    "                        stepwise=True, suppress_warnings=False, error_action='trace')"
   ]
  },
  {
   "cell_type": "code",
   "execution_count": 50,
   "metadata": {},
   "outputs": [
    {
     "data": {
      "text/html": "<table class=\"simpletable\">\n<caption>SARIMAX Results</caption>\n<tr>\n  <th>Dep. Variable:</th>                 <td>y</td>               <th>  No. Observations:  </th>   <td>1096</td>   \n</tr>\n<tr>\n  <th>Model:</th>           <td>SARIMAX(6, 1, 0)x(3, 0, 0, 7)</td> <th>  Log Likelihood     </th> <td>-4993.209</td>\n</tr>\n<tr>\n  <th>Date:</th>                  <td>Tue, 02 Nov 2021</td>        <th>  AIC                </th> <td>10006.418</td>\n</tr>\n<tr>\n  <th>Time:</th>                      <td>13:50:37</td>            <th>  BIC                </th> <td>10056.403</td>\n</tr>\n<tr>\n  <th>Sample:</th>                        <td>0</td>               <th>  HQIC               </th> <td>10025.332</td>\n</tr>\n<tr>\n  <th></th>                            <td> - 1096</td>            <th>                     </th>     <td> </td>    \n</tr>\n<tr>\n  <th>Covariance Type:</th>              <td>opg</td>              <th>                     </th>     <td> </td>    \n</tr>\n</table>\n<table class=\"simpletable\">\n<tr>\n      <td></td>        <th>coef</th>     <th>std err</th>      <th>z</th>      <th>P>|z|</th>  <th>[0.025</th>    <th>0.975]</th>  \n</tr>\n<tr>\n  <th>ar.L1</th>    <td>   -0.6050</td> <td>    0.024</td> <td>  -24.792</td> <td> 0.000</td> <td>   -0.653</td> <td>   -0.557</td>\n</tr>\n<tr>\n  <th>ar.L2</th>    <td>   -0.4227</td> <td>    0.042</td> <td>  -10.053</td> <td> 0.000</td> <td>   -0.505</td> <td>   -0.340</td>\n</tr>\n<tr>\n  <th>ar.L3</th>    <td>   -0.4026</td> <td>    0.036</td> <td>  -11.304</td> <td> 0.000</td> <td>   -0.472</td> <td>   -0.333</td>\n</tr>\n<tr>\n  <th>ar.L4</th>    <td>   -0.3310</td> <td>    0.036</td> <td>   -9.219</td> <td> 0.000</td> <td>   -0.401</td> <td>   -0.261</td>\n</tr>\n<tr>\n  <th>ar.L5</th>    <td>   -0.2422</td> <td>    0.045</td> <td>   -5.413</td> <td> 0.000</td> <td>   -0.330</td> <td>   -0.155</td>\n</tr>\n<tr>\n  <th>ar.L6</th>    <td>   -0.1273</td> <td>    0.035</td> <td>   -3.622</td> <td> 0.000</td> <td>   -0.196</td> <td>   -0.058</td>\n</tr>\n<tr>\n  <th>ar.S.L7</th>  <td>    0.2665</td> <td>    0.035</td> <td>    7.640</td> <td> 0.000</td> <td>    0.198</td> <td>    0.335</td>\n</tr>\n<tr>\n  <th>ar.S.L14</th> <td>    0.2221</td> <td>    0.023</td> <td>    9.639</td> <td> 0.000</td> <td>    0.177</td> <td>    0.267</td>\n</tr>\n<tr>\n  <th>ar.S.L21</th> <td>    0.3150</td> <td>    0.023</td> <td>   13.483</td> <td> 0.000</td> <td>    0.269</td> <td>    0.361</td>\n</tr>\n<tr>\n  <th>sigma2</th>   <td>  531.1647</td> <td>   15.986</td> <td>   33.226</td> <td> 0.000</td> <td>  499.832</td> <td>  562.498</td>\n</tr>\n</table>\n<table class=\"simpletable\">\n<tr>\n  <th>Ljung-Box (L1) (Q):</th>     <td>0.12</td> <th>  Jarque-Bera (JB):  </th> <td>1462.05</td>\n</tr>\n<tr>\n  <th>Prob(Q):</th>                <td>0.73</td> <th>  Prob(JB):          </th>  <td>0.00</td>  \n</tr>\n<tr>\n  <th>Heteroskedasticity (H):</th> <td>1.11</td> <th>  Skew:              </th>  <td>-0.99</td> \n</tr>\n<tr>\n  <th>Prob(H) (two-sided):</th>    <td>0.33</td> <th>  Kurtosis:          </th>  <td>8.30</td>  \n</tr>\n</table><br/><br/>Warnings:<br/>[1] Covariance matrix calculated using the outer product of gradients (complex-step).",
      "text/plain": "<class 'statsmodels.iolib.summary.Summary'>\n\"\"\"\n                                     SARIMAX Results                                     \n=========================================================================================\nDep. Variable:                                 y   No. Observations:                 1096\nModel:             SARIMAX(6, 1, 0)x(3, 0, 0, 7)   Log Likelihood               -4993.209\nDate:                           Tue, 02 Nov 2021   AIC                          10006.418\nTime:                                   13:50:37   BIC                          10056.403\nSample:                                        0   HQIC                         10025.332\n                                          - 1096                                         \nCovariance Type:                             opg                                         \n==============================================================================\n                 coef    std err          z      P>|z|      [0.025      0.975]\n------------------------------------------------------------------------------\nar.L1         -0.6050      0.024    -24.792      0.000      -0.653      -0.557\nar.L2         -0.4227      0.042    -10.053      0.000      -0.505      -0.340\nar.L3         -0.4026      0.036    -11.304      0.000      -0.472      -0.333\nar.L4         -0.3310      0.036     -9.219      0.000      -0.401      -0.261\nar.L5         -0.2422      0.045     -5.413      0.000      -0.330      -0.155\nar.L6         -0.1273      0.035     -3.622      0.000      -0.196      -0.058\nar.S.L7        0.2665      0.035      7.640      0.000       0.198       0.335\nar.S.L14       0.2221      0.023      9.639      0.000       0.177       0.267\nar.S.L21       0.3150      0.023     13.483      0.000       0.269       0.361\nsigma2       531.1647     15.986     33.226      0.000     499.832     562.498\n===================================================================================\nLjung-Box (L1) (Q):                   0.12   Jarque-Bera (JB):              1462.05\nProb(Q):                              0.73   Prob(JB):                         0.00\nHeteroskedasticity (H):               1.11   Skew:                            -0.99\nProb(H) (two-sided):                  0.33   Kurtosis:                         8.30\n===================================================================================\n\nWarnings:\n[1] Covariance matrix calculated using the outer product of gradients (complex-step).\n\"\"\""
     },
     "execution_count": 50,
     "metadata": {},
     "output_type": "execute_result"
    }
   ],
   "source": [
    "model.summary()"
   ]
  },
  {
   "cell_type": "code",
   "execution_count": 45,
   "metadata": {},
   "outputs": [
    {
     "data": {
      "text/html": "<table class=\"simpletable\">\n<caption>SARIMAX Results</caption>\n<tr>\n  <th>Dep. Variable:</th>                 <td>y</td>               <th>  No. Observations:  </th>   <td>1096</td>   \n</tr>\n<tr>\n  <th>Model:</th>           <td>SARIMAX(6, 1, 0)x(3, 0, 0, 7)</td> <th>  Log Likelihood     </th> <td>-4993.209</td>\n</tr>\n<tr>\n  <th>Date:</th>                  <td>Tue, 02 Nov 2021</td>        <th>  AIC                </th> <td>10006.418</td>\n</tr>\n<tr>\n  <th>Time:</th>                      <td>12:54:57</td>            <th>  BIC                </th> <td>10056.403</td>\n</tr>\n<tr>\n  <th>Sample:</th>                        <td>0</td>               <th>  HQIC               </th> <td>10025.332</td>\n</tr>\n<tr>\n  <th></th>                            <td> - 1096</td>            <th>                     </th>     <td> </td>    \n</tr>\n<tr>\n  <th>Covariance Type:</th>              <td>opg</td>              <th>                     </th>     <td> </td>    \n</tr>\n</table>\n<table class=\"simpletable\">\n<tr>\n      <td></td>        <th>coef</th>     <th>std err</th>      <th>z</th>      <th>P>|z|</th>  <th>[0.025</th>    <th>0.975]</th>  \n</tr>\n<tr>\n  <th>ar.L1</th>    <td>   -0.6050</td> <td>    0.024</td> <td>  -24.792</td> <td> 0.000</td> <td>   -0.653</td> <td>   -0.557</td>\n</tr>\n<tr>\n  <th>ar.L2</th>    <td>   -0.4227</td> <td>    0.042</td> <td>  -10.053</td> <td> 0.000</td> <td>   -0.505</td> <td>   -0.340</td>\n</tr>\n<tr>\n  <th>ar.L3</th>    <td>   -0.4026</td> <td>    0.036</td> <td>  -11.304</td> <td> 0.000</td> <td>   -0.472</td> <td>   -0.333</td>\n</tr>\n<tr>\n  <th>ar.L4</th>    <td>   -0.3310</td> <td>    0.036</td> <td>   -9.219</td> <td> 0.000</td> <td>   -0.401</td> <td>   -0.261</td>\n</tr>\n<tr>\n  <th>ar.L5</th>    <td>   -0.2422</td> <td>    0.045</td> <td>   -5.413</td> <td> 0.000</td> <td>   -0.330</td> <td>   -0.155</td>\n</tr>\n<tr>\n  <th>ar.L6</th>    <td>   -0.1273</td> <td>    0.035</td> <td>   -3.622</td> <td> 0.000</td> <td>   -0.196</td> <td>   -0.058</td>\n</tr>\n<tr>\n  <th>ar.S.L7</th>  <td>    0.2665</td> <td>    0.035</td> <td>    7.640</td> <td> 0.000</td> <td>    0.198</td> <td>    0.335</td>\n</tr>\n<tr>\n  <th>ar.S.L14</th> <td>    0.2221</td> <td>    0.023</td> <td>    9.639</td> <td> 0.000</td> <td>    0.177</td> <td>    0.267</td>\n</tr>\n<tr>\n  <th>ar.S.L21</th> <td>    0.3150</td> <td>    0.023</td> <td>   13.483</td> <td> 0.000</td> <td>    0.269</td> <td>    0.361</td>\n</tr>\n<tr>\n  <th>sigma2</th>   <td>  531.1647</td> <td>   15.986</td> <td>   33.226</td> <td> 0.000</td> <td>  499.832</td> <td>  562.498</td>\n</tr>\n</table>\n<table class=\"simpletable\">\n<tr>\n  <th>Ljung-Box (L1) (Q):</th>     <td>0.12</td> <th>  Jarque-Bera (JB):  </th> <td>1462.05</td>\n</tr>\n<tr>\n  <th>Prob(Q):</th>                <td>0.73</td> <th>  Prob(JB):          </th>  <td>0.00</td>  \n</tr>\n<tr>\n  <th>Heteroskedasticity (H):</th> <td>1.11</td> <th>  Skew:              </th>  <td>-0.99</td> \n</tr>\n<tr>\n  <th>Prob(H) (two-sided):</th>    <td>0.33</td> <th>  Kurtosis:          </th>  <td>8.30</td>  \n</tr>\n</table><br/><br/>Warnings:<br/>[1] Covariance matrix calculated using the outer product of gradients (complex-step).",
      "text/plain": "<class 'statsmodels.iolib.summary.Summary'>\n\"\"\"\n                                     SARIMAX Results                                     \n=========================================================================================\nDep. Variable:                                 y   No. Observations:                 1096\nModel:             SARIMAX(6, 1, 0)x(3, 0, 0, 7)   Log Likelihood               -4993.209\nDate:                           Tue, 02 Nov 2021   AIC                          10006.418\nTime:                                   12:54:57   BIC                          10056.403\nSample:                                        0   HQIC                         10025.332\n                                          - 1096                                         \nCovariance Type:                             opg                                         \n==============================================================================\n                 coef    std err          z      P>|z|      [0.025      0.975]\n------------------------------------------------------------------------------\nar.L1         -0.6050      0.024    -24.792      0.000      -0.653      -0.557\nar.L2         -0.4227      0.042    -10.053      0.000      -0.505      -0.340\nar.L3         -0.4026      0.036    -11.304      0.000      -0.472      -0.333\nar.L4         -0.3310      0.036     -9.219      0.000      -0.401      -0.261\nar.L5         -0.2422      0.045     -5.413      0.000      -0.330      -0.155\nar.L6         -0.1273      0.035     -3.622      0.000      -0.196      -0.058\nar.S.L7        0.2665      0.035      7.640      0.000       0.198       0.335\nar.S.L14       0.2221      0.023      9.639      0.000       0.177       0.267\nar.S.L21       0.3150      0.023     13.483      0.000       0.269       0.361\nsigma2       531.1647     15.986     33.226      0.000     499.832     562.498\n===================================================================================\nLjung-Box (L1) (Q):                   0.12   Jarque-Bera (JB):              1462.05\nProb(Q):                              0.73   Prob(JB):                         0.00\nHeteroskedasticity (H):               1.11   Skew:                            -0.99\nProb(H) (two-sided):                  0.33   Kurtosis:                         8.30\n===================================================================================\n\nWarnings:\n[1] Covariance matrix calculated using the outer product of gradients (complex-step).\n\"\"\""
     },
     "execution_count": 45,
     "metadata": {},
     "output_type": "execute_result"
    }
   ],
   "source": [
    "model.summary()"
   ]
  },
  {
   "cell_type": "code",
   "execution_count": null,
   "metadata": {},
   "outputs": [],
   "source": []
  },
  {
   "cell_type": "code",
   "execution_count": 13,
   "metadata": {},
   "outputs": [],
   "source": [
    "def read_plk(directory):\n",
    "    fpath = os.path.join(directory)\n",
    "    plk = joblib.load(fpath)\n",
    "    return plk"
   ]
  },
  {
   "cell_type": "code",
   "execution_count": null,
   "metadata": {},
   "outputs": [],
   "source": []
  },
  {
   "cell_type": "code",
   "execution_count": 24,
   "metadata": {},
   "outputs": [],
   "source": [
    "model = read_plk('output/sarima/models/day/train/(04107) escuela militar.pkl')"
   ]
  },
  {
   "cell_type": "code",
   "execution_count": 25,
   "metadata": {},
   "outputs": [
    {
     "name": "stderr",
     "output_type": "stream",
     "text": [
      "/Users/juandavidcaicedocastro/anaconda3/envs/prediction/lib/python3.8/site-packages/statsmodels/tsa/statespace/mlemodel.py:2937: RuntimeWarning: divide by zero encountered in true_divide\n",
      "  return self.params / self.bse\n",
      "/Users/juandavidcaicedocastro/anaconda3/envs/prediction/lib/python3.8/site-packages/statsmodels/tsa/statespace/mlemodel.py:3108: RuntimeWarning: invalid value encountered in double_scalars\n",
      "  test_statistic = np.sum(numer_resid) / np.sum(denom_resid)\n",
      "/Users/juandavidcaicedocastro/anaconda3/envs/prediction/lib/python3.8/site-packages/statsmodels/tsa/stattools.py:677: RuntimeWarning: invalid value encountered in true_divide\n",
      "  acf = avf[: nlags + 1] / avf[0]\n"
     ]
    },
    {
     "data": {
      "text/html": "<table class=\"simpletable\">\n<caption>SARIMAX Results</caption>\n<tr>\n  <th>Dep. Variable:</th>                  <td>y</td>                <th>  No. Observations:  </th>  <td>1096</td> \n</tr>\n<tr>\n  <th>Model:</th>           <td>SARIMAX(1, 0, 0)x(2, 0, [1], 7)</td> <th>  Log Likelihood     </th>  <td>0.000</td>\n</tr>\n<tr>\n  <th>Date:</th>                   <td>Tue, 02 Nov 2021</td>         <th>  AIC                </th> <td>12.000</td>\n</tr>\n<tr>\n  <th>Time:</th>                       <td>12:30:10</td>             <th>  BIC                </th> <td>41.997</td>\n</tr>\n<tr>\n  <th>Sample:</th>                         <td>0</td>                <th>  HQIC               </th> <td>23.350</td>\n</tr>\n<tr>\n  <th></th>                             <td> - 1096</td>             <th>                     </th>    <td> </td>  \n</tr>\n<tr>\n  <th>Covariance Type:</th>               <td>opg</td>               <th>                     </th>    <td> </td>  \n</tr>\n</table>\n<table class=\"simpletable\">\n<tr>\n      <td></td>         <th>coef</th>     <th>std err</th>      <th>z</th>      <th>P>|z|</th>  <th>[0.025</th>    <th>0.975]</th>  \n</tr>\n<tr>\n  <th>intercept</th> <td>  199.6233</td> <td>       -0</td> <td>     -inf</td> <td> 0.000</td> <td>  199.623</td> <td>  199.623</td>\n</tr>\n<tr>\n  <th>ar.L1</th>     <td>    0.9630</td> <td> 2.12e-10</td> <td> 4.54e+09</td> <td> 0.000</td> <td>    0.963</td> <td>    0.963</td>\n</tr>\n<tr>\n  <th>ar.S.L7</th>   <td> 1.016e-05</td> <td>       -0</td> <td>     -inf</td> <td> 0.000</td> <td> 1.02e-05</td> <td> 1.02e-05</td>\n</tr>\n<tr>\n  <th>ar.S.L14</th>  <td>    1.0000</td> <td> 2.22e-14</td> <td>  4.5e+13</td> <td> 0.000</td> <td>    1.000</td> <td>    1.000</td>\n</tr>\n<tr>\n  <th>ma.S.L7</th>   <td>    0.8667</td> <td>       -0</td> <td>     -inf</td> <td> 0.000</td> <td>    0.867</td> <td>    0.867</td>\n</tr>\n<tr>\n  <th>sigma2</th>    <td> 4.648e+04</td> <td>       -0</td> <td>     -inf</td> <td> 0.000</td> <td> 4.65e+04</td> <td> 4.65e+04</td>\n</tr>\n</table>\n<table class=\"simpletable\">\n<tr>\n  <th>Ljung-Box (L1) (Q):</th>     <td>nan</td> <th>  Jarque-Bera (JB):  </th> <td>411.00</td>\n</tr>\n<tr>\n  <th>Prob(Q):</th>                <td>nan</td> <th>  Prob(JB):          </th>  <td>0.00</td> \n</tr>\n<tr>\n  <th>Heteroskedasticity (H):</th> <td>nan</td> <th>  Skew:              </th>  <td>0.00</td> \n</tr>\n<tr>\n  <th>Prob(H) (two-sided):</th>    <td>nan</td> <th>  Kurtosis:          </th>  <td>0.00</td> \n</tr>\n</table><br/><br/>Warnings:<br/>[1] Covariance matrix calculated using the outer product of gradients (complex-step).<br/>[2] Covariance matrix is singular or near-singular, with condition number    inf. Standard errors may be unstable.",
      "text/plain": "<class 'statsmodels.iolib.summary.Summary'>\n\"\"\"\n                                      SARIMAX Results                                      \n===========================================================================================\nDep. Variable:                                   y   No. Observations:                 1096\nModel:             SARIMAX(1, 0, 0)x(2, 0, [1], 7)   Log Likelihood                   0.000\nDate:                             Tue, 02 Nov 2021   AIC                             12.000\nTime:                                     12:30:10   BIC                             41.997\nSample:                                          0   HQIC                            23.350\n                                            - 1096                                         \nCovariance Type:                               opg                                         \n==============================================================================\n                 coef    std err          z      P>|z|      [0.025      0.975]\n------------------------------------------------------------------------------\nintercept    199.6233         -0       -inf      0.000     199.623     199.623\nar.L1          0.9630   2.12e-10   4.54e+09      0.000       0.963       0.963\nar.S.L7     1.016e-05         -0       -inf      0.000    1.02e-05    1.02e-05\nar.S.L14       1.0000   2.22e-14    4.5e+13      0.000       1.000       1.000\nma.S.L7        0.8667         -0       -inf      0.000       0.867       0.867\nsigma2      4.648e+04         -0       -inf      0.000    4.65e+04    4.65e+04\n===================================================================================\nLjung-Box (L1) (Q):                    nan   Jarque-Bera (JB):               411.00\nProb(Q):                               nan   Prob(JB):                         0.00\nHeteroskedasticity (H):                nan   Skew:                             0.00\nProb(H) (two-sided):                   nan   Kurtosis:                         0.00\n===================================================================================\n\nWarnings:\n[1] Covariance matrix calculated using the outer product of gradients (complex-step).\n[2] Covariance matrix is singular or near-singular, with condition number    inf. Standard errors may be unstable.\n\"\"\""
     },
     "execution_count": 25,
     "metadata": {},
     "output_type": "execute_result"
    }
   ],
   "source": [
    "model.summary()"
   ]
  },
  {
   "cell_type": "code",
   "execution_count": 19,
   "metadata": {},
   "outputs": [
    {
     "name": "stderr",
     "output_type": "stream",
     "text": [
      "/Users/juandavidcaicedocastro/anaconda3/envs/prediction/lib/python3.8/site-packages/statsmodels/tsa/statespace/mlemodel.py:2937: RuntimeWarning: divide by zero encountered in true_divide\n",
      "  return self.params / self.bse\n",
      "/Users/juandavidcaicedocastro/anaconda3/envs/prediction/lib/python3.8/site-packages/statsmodels/tsa/statespace/mlemodel.py:3108: RuntimeWarning: invalid value encountered in double_scalars\n",
      "  test_statistic = np.sum(numer_resid) / np.sum(denom_resid)\n",
      "/Users/juandavidcaicedocastro/anaconda3/envs/prediction/lib/python3.8/site-packages/statsmodels/tsa/stattools.py:677: RuntimeWarning: invalid value encountered in true_divide\n",
      "  acf = avf[: nlags + 1] / avf[0]\n"
     ]
    },
    {
     "data": {
      "text/html": "<table class=\"simpletable\">\n<caption>SARIMAX Results</caption>\n<tr>\n  <th>Dep. Variable:</th>                  <td>y</td>                <th>  No. Observations:  </th>  <td>1096</td> \n</tr>\n<tr>\n  <th>Model:</th>           <td>SARIMAX(1, 0, 0)x(2, 0, [1], 7)</td> <th>  Log Likelihood     </th>  <td>0.000</td>\n</tr>\n<tr>\n  <th>Date:</th>                   <td>Tue, 02 Nov 2021</td>         <th>  AIC                </th> <td>12.000</td>\n</tr>\n<tr>\n  <th>Time:</th>                       <td>12:19:33</td>             <th>  BIC                </th> <td>41.997</td>\n</tr>\n<tr>\n  <th>Sample:</th>                         <td>0</td>                <th>  HQIC               </th> <td>23.350</td>\n</tr>\n<tr>\n  <th></th>                             <td> - 1096</td>             <th>                     </th>    <td> </td>  \n</tr>\n<tr>\n  <th>Covariance Type:</th>               <td>opg</td>               <th>                     </th>    <td> </td>  \n</tr>\n</table>\n<table class=\"simpletable\">\n<tr>\n      <td></td>         <th>coef</th>     <th>std err</th>      <th>z</th>      <th>P>|z|</th>  <th>[0.025</th>    <th>0.975]</th>  \n</tr>\n<tr>\n  <th>intercept</th> <td>  199.6233</td> <td>       -0</td> <td>     -inf</td> <td> 0.000</td> <td>  199.623</td> <td>  199.623</td>\n</tr>\n<tr>\n  <th>ar.L1</th>     <td>    0.9630</td> <td> 2.12e-10</td> <td> 4.54e+09</td> <td> 0.000</td> <td>    0.963</td> <td>    0.963</td>\n</tr>\n<tr>\n  <th>ar.S.L7</th>   <td> 1.016e-05</td> <td>       -0</td> <td>     -inf</td> <td> 0.000</td> <td> 1.02e-05</td> <td> 1.02e-05</td>\n</tr>\n<tr>\n  <th>ar.S.L14</th>  <td>    1.0000</td> <td> 2.22e-14</td> <td>  4.5e+13</td> <td> 0.000</td> <td>    1.000</td> <td>    1.000</td>\n</tr>\n<tr>\n  <th>ma.S.L7</th>   <td>    0.8667</td> <td>       -0</td> <td>     -inf</td> <td> 0.000</td> <td>    0.867</td> <td>    0.867</td>\n</tr>\n<tr>\n  <th>sigma2</th>    <td> 4.648e+04</td> <td>       -0</td> <td>     -inf</td> <td> 0.000</td> <td> 4.65e+04</td> <td> 4.65e+04</td>\n</tr>\n</table>\n<table class=\"simpletable\">\n<tr>\n  <th>Ljung-Box (L1) (Q):</th>     <td>nan</td> <th>  Jarque-Bera (JB):  </th> <td>411.00</td>\n</tr>\n<tr>\n  <th>Prob(Q):</th>                <td>nan</td> <th>  Prob(JB):          </th>  <td>0.00</td> \n</tr>\n<tr>\n  <th>Heteroskedasticity (H):</th> <td>nan</td> <th>  Skew:              </th>  <td>0.00</td> \n</tr>\n<tr>\n  <th>Prob(H) (two-sided):</th>    <td>nan</td> <th>  Kurtosis:          </th>  <td>0.00</td> \n</tr>\n</table><br/><br/>Warnings:<br/>[1] Covariance matrix calculated using the outer product of gradients (complex-step).<br/>[2] Covariance matrix is singular or near-singular, with condition number    inf. Standard errors may be unstable.",
      "text/plain": "<class 'statsmodels.iolib.summary.Summary'>\n\"\"\"\n                                      SARIMAX Results                                      \n===========================================================================================\nDep. Variable:                                   y   No. Observations:                 1096\nModel:             SARIMAX(1, 0, 0)x(2, 0, [1], 7)   Log Likelihood                   0.000\nDate:                             Tue, 02 Nov 2021   AIC                             12.000\nTime:                                     12:19:33   BIC                             41.997\nSample:                                          0   HQIC                            23.350\n                                            - 1096                                         \nCovariance Type:                               opg                                         \n==============================================================================\n                 coef    std err          z      P>|z|      [0.025      0.975]\n------------------------------------------------------------------------------\nintercept    199.6233         -0       -inf      0.000     199.623     199.623\nar.L1          0.9630   2.12e-10   4.54e+09      0.000       0.963       0.963\nar.S.L7     1.016e-05         -0       -inf      0.000    1.02e-05    1.02e-05\nar.S.L14       1.0000   2.22e-14    4.5e+13      0.000       1.000       1.000\nma.S.L7        0.8667         -0       -inf      0.000       0.867       0.867\nsigma2      4.648e+04         -0       -inf      0.000    4.65e+04    4.65e+04\n===================================================================================\nLjung-Box (L1) (Q):                    nan   Jarque-Bera (JB):               411.00\nProb(Q):                               nan   Prob(JB):                         0.00\nHeteroskedasticity (H):                nan   Skew:                             0.00\nProb(H) (two-sided):                   nan   Kurtosis:                         0.00\n===================================================================================\n\nWarnings:\n[1] Covariance matrix calculated using the outer product of gradients (complex-step).\n[2] Covariance matrix is singular or near-singular, with condition number    inf. Standard errors may be unstable.\n\"\"\""
     },
     "execution_count": 19,
     "metadata": {},
     "output_type": "execute_result"
    }
   ],
   "source": [
    "model.summary()"
   ]
  },
  {
   "cell_type": "code",
   "execution_count": null,
   "metadata": {},
   "outputs": [],
   "source": []
  }
 ],
 "metadata": {
  "kernelspec": {
   "display_name": "Python 3.8.8 64-bit",
   "name": "python388jvsc74a57bd09156c5fe81c128768729ffddff8e92efa661f491c3f6eae9c54847e138d37eca"
  },
  "language_info": {
   "codemirror_mode": {
    "name": "ipython",
    "version": 3
   },
   "file_extension": ".py",
   "mimetype": "text/x-python",
   "name": "python",
   "nbconvert_exporter": "python",
   "pygments_lexer": "ipython3",
   "version": "3.8.8"
  },
  "orig_nbformat": 2
 },
 "nbformat": 4,
 "nbformat_minor": 2
}