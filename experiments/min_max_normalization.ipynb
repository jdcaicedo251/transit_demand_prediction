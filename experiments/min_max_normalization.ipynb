{
 "cells": [
  {
   "cell_type": "code",
   "execution_count": 1,
   "metadata": {},
   "outputs": [],
   "source": [
    "import pandas as pd \n",
    "import numpy as np "
   ]
  },
  {
   "cell_type": "code",
   "execution_count": 2,
   "metadata": {},
   "outputs": [],
   "source": [
    "def min_max_normalize(train, test):\n",
    "    \"\"\" Returns the min-max normalzation of the train and test data\n",
    "    Parameters: \n",
    "    - train: array-like. Train dataset \n",
    "    - test: array-like. Test dataset\n",
    "\n",
    "    Return:\n",
    "    - train min-max normalization\n",
    "    - test min-max normalization \n",
    "    - min value for train. float or array-like\n",
    "    - max value for train. float or array-like\n",
    "    \"\"\"\n",
    "    train_copy = train.copy(deep = True)\n",
    "    test_copy = test.copy(deep = True)\n",
    "\n",
    "    min_x = train.min(axis = 0)\n",
    "    max_x = train.max(axis = 0)\n",
    "    z_train = (train_copy - min_x) / (max_x - min_x)\n",
    "    z_test = (test_copy - min_x) / (max_x - min_x)\n",
    "    return z_train, z_test, min_x, max_x \n",
    "\n",
    "def unnormalize_mix_max(normalized_prediction, min_x, max_x):\n",
    "    \" Unnormlaize a normalize number or array\"\n",
    "    #TO DO: Add assert Shape (n,j) of normalized must be the same on min_x [n,] or max_x[n,] \n",
    "\n",
    "    return normalized_prediction * (max_x - min_x) + min_x"
   ]
  },
  {
   "cell_type": "code",
   "execution_count": 6,
   "metadata": {},
   "outputs": [],
   "source": [
    "## Example: \n",
    "stations = 10 \n",
    "observations = 100\n",
    "numpy_array = np.random.randint(low = 0, high=10000, size = (observations, stations))\n",
    "np_train = numpy_array[:80,:]\n",
    "np_test = numpy_array[80:,:]\n",
    "df = pd.DataFrame(numpy_array)\n",
    "df_train = df.iloc[:80,:]\n",
    "df_test = df.iloc[80:,:]"
   ]
  },
  {
   "cell_type": "markdown",
   "metadata": {},
   "source": [
    "## Test "
   ]
  },
  {
   "cell_type": "code",
   "execution_count": 42,
   "metadata": {},
   "outputs": [],
   "source": [
    "###############################\n",
    "## Test for a single series ##\n",
    "###############################\n",
    "s_train = df_train[0] \n",
    "s_test = df_test[0]\n",
    "\n",
    "# Normalization Function\n",
    "z_train_f, z_test_f, min_x_f, max_x_f = min_max_normalize(s_train, s_test)\n",
    "\n",
    "# Manual\n",
    "min_x_m, max_x_m = s_train.min(), s_train.max()\n",
    "z_train_m = (s_train - min_x_m)/(max_x_f - min_x_m)\n",
    "z_test_m = (s_test - min_x_m)/(max_x_f - min_x_m)\n",
    "\n",
    "# Test \n",
    "assert z_train_f.equals(z_train_m)\n",
    "assert z_test_f.equals(z_test_m)\n",
    "assert min_x_f == min_x_m\n",
    "assert max_x_f == max_x_m\n",
    "\n",
    "# Unormalized funtions\n",
    "train_u_f = unnormalize_mix_max(z_train_f, min_x_f, max_x_f).astype(int)\n",
    "test_u_f = unnormalize_mix_max(z_test_f, min_x_f, max_x_f).astype(int)\n"
   ]
  },
  {
   "cell_type": "code",
   "execution_count": 45,
   "metadata": {},
   "outputs": [],
   "source": [
    "###############################\n",
    "## Test for a full DataFrame ##\n",
    "###############################\n",
    "s_train = df_train[0] \n",
    "s_test = df_test[0]\n",
    "\n",
    "# Function\n",
    "z_train_f, z_test_f, min_x_f, max_x_f = min_max_normalize(df_train, df_test)\n",
    "\n",
    "# Manual\n",
    "min_x_m, max_x_m = df_train.min(), df_train.max()\n",
    "z_train_m = (df_train - min_x_m)/(max_x_f - min_x_m)\n",
    "z_test_m = (df_test - min_x_m)/(max_x_f - min_x_m)\n",
    "\n",
    "# Test \n",
    "assert z_train_f.equals(z_train_m)\n",
    "assert z_test_f.equals(z_test_m)\n",
    "assert min_x_f.equals(min_x_m)\n",
    "assert min_x_f.shape[0] == df_train.shape[1]\n",
    "assert max_x_f.equals(max_x_m)\n",
    "assert max_x_f.shape[0] == df_train.shape[1]"
   ]
  },
  {
   "cell_type": "code",
   "execution_count": 47,
   "metadata": {},
   "outputs": [],
   "source": [
    "train_u_f = unnormalize_mix_max(z_train_f, min_x_f, max_x_f)\n",
    "test_u_f = unnormalize_mix_max(z_test_f, min_x_f, max_x_f)"
   ]
  }
 ],
 "metadata": {
  "kernelspec": {
   "display_name": "Python 3.8.8 64-bit ('prediction': conda)",
   "name": "python388jvsc74a57bd09156c5fe81c128768729ffddff8e92efa661f491c3f6eae9c54847e138d37eca"
  },
  "language_info": {
   "codemirror_mode": {
    "name": "ipython",
    "version": 3
   },
   "file_extension": ".py",
   "mimetype": "text/x-python",
   "name": "python",
   "nbconvert_exporter": "python",
   "pygments_lexer": "ipython3",
   "version": "3.8.8"
  },
  "orig_nbformat": 2
 },
 "nbformat": 4,
 "nbformat_minor": 2
}