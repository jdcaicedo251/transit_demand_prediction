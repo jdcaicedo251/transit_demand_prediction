{
 "cells": [
  {
   "cell_type": "markdown",
   "metadata": {},
   "source": [
    "The objective of this notebook is to test the functionallity of all models' estimation and prediction for every posible experiment. \n",
    "\n",
    "There are 5 models \n",
    "- arima (static and single)\n",
    "- sarima (static and single)\n",
    "- dense (static, online, single and multioutput)\n",
    "- cnn (static, online, single and multioutput)\n",
    "- lstm (static, online, single and multioutput)"
   ]
  },
  {
   "cell_type": "code",
   "execution_count": 31,
   "metadata": {},
   "outputs": [],
   "source": [
    "import warnings\n",
    "warnings.filterwarnings(\"ignore\")\n",
    "\n",
    "import numpy as np \n",
    "import pandas as pd\n",
    "import time\n",
    "import matplotlib.pyplot as plt \n",
    "import tensorflow as tf\n",
    "\n",
    "import os\n",
    "\n",
    "prediction_dir = '/Users/juandavidcaicedocastro/Dropbox/01_berkeley/' \\\n",
    "                 '17_phd/11_Papers/02_SecondPaper/transit_demand_prediction'\n",
    "\n",
    "os.chdir(prediction_dir)\n",
    "import data\n",
    "import utils\n",
    "from time_measure import TicToc"
   ]
  },
  {
   "cell_type": "code",
   "execution_count": 32,
   "metadata": {},
   "outputs": [],
   "source": [
    "directory = 'output'\n",
    "data_directory = 'data'\n",
    "aggregation = 'day'\n",
    "to_drop_stations = ['(40000) cable portal tunal', '(40001) juan pablo ii','(40002) manitas', '(40003) mirador del paraiso']\n",
    "\n",
    "settings = data.read_settings()\n",
    "train, test = data.train_test_data(settings)\n",
    "train = train.drop(columns= to_drop_stations)\n",
    "test = test.drop(columns= to_drop_stations)"
   ]
  },
  {
   "cell_type": "code",
   "execution_count": 33,
   "metadata": {},
   "outputs": [],
   "source": [
    "exog_vars = list(set(train.columns[~train.columns.str.contains(\"\\(\")]))"
   ]
  },
  {
   "cell_type": "code",
   "execution_count": 34,
   "metadata": {},
   "outputs": [],
   "source": [
    "# Create a smaler dataset to test models accuracy \n",
    "exog_vars = list(set(train.columns[~train.columns.str.contains(\"\\(\")]))\n",
    "\n",
    "# For single models \n",
    "station_single = ['(02000) cabecera autopista norte']\n",
    "\n",
    "# For multioutput models \n",
    "stations_multi = ['(02000) cabecera autopista norte',\n",
    "                  '(02001) centro comercial santa fe',\n",
    "                  '(02101) toberin', \n",
    "                  '(02102) calle 161', \n",
    "                  '(02103) mazuren']"
   ]
  },
  {
   "cell_type": "markdown",
   "metadata": {},
   "source": [
    "## Arima - Static and Single model"
   ]
  },
  {
   "cell_type": "code",
   "execution_count": 102,
   "metadata": {},
   "outputs": [],
   "source": [
    "from models.arima import arimaClass"
   ]
  },
  {
   "cell_type": "code",
   "execution_count": 103,
   "metadata": {},
   "outputs": [
    {
     "name": "stderr",
     "output_type": "stream",
     "text": [
      "INFO:root:Model for station (02000) cabecera autopista norte compleated. Time 1.44 minutes\n"
     ]
    },
    {
     "name": "stdout",
     "output_type": "stream",
     "text": [
      "Expected Output shape: (5,7)\n",
      "Output shape: (5, 7)\n"
     ]
    }
   ],
   "source": [
    "arima_ss = arimaClass(settings,station_single[0])\n",
    "arima_ss.fit(train[station_single + exog_vars])\n",
    "result = arima_ss.predict(test[station_single + exog_vars].head(5),\n",
    "                 train_mean = 0, \n",
    "                 train_std = 1)\n",
    "\n",
    "print ('Expected Output shape: ({},{})'.format(5,7))\n",
    "print ('Output shape: {}'.format(result.shape))"
   ]
  },
  {
   "cell_type": "code",
   "execution_count": 114,
   "metadata": {},
   "outputs": [
    {
     "data": {
      "text/plain": [
       "array([[76745.27953149, 72960.61178246, 86543.09306286, 78347.74211219,\n",
       "        63826.79820889, 71660.58630304, 75158.67296821],\n",
       "       [78549.59185754, 87083.30327023, 77784.43259305, 64151.36367601,\n",
       "        71149.36761547, 75853.81056137, 83278.21636381],\n",
       "       [92360.33033836, 78305.39761561, 63629.61267914, 71439.68124541,\n",
       "        75376.62500172, 83964.03939764, 86738.65168132],\n",
       "       [78598.02635868, 63653.28763332, 71406.29830089, 75397.08150723,\n",
       "        83942.13319786, 86776.14494364, 78963.2653474 ],\n",
       "       [58583.27931698, 70901.6635156 , 75920.98147263, 83644.95311022,\n",
       "        87234.90966512, 78305.82823453, 65245.3382123 ]])"
      ]
     },
     "execution_count": 114,
     "metadata": {},
     "output_type": "execute_result"
    }
   ],
   "source": [
    "result"
   ]
  },
  {
   "cell_type": "code",
   "execution_count": 117,
   "metadata": {},
   "outputs": [
    {
     "data": {
      "text/plain": [
       "(1, 5, 7)"
      ]
     },
     "execution_count": 117,
     "metadata": {},
     "output_type": "execute_result"
    }
   ],
   "source": [
    "np.expand_dims(result, axis=0).shape"
   ]
  },
  {
   "cell_type": "code",
   "execution_count": 113,
   "metadata": {},
   "outputs": [
    {
     "data": {
      "text/plain": [
       "True"
      ]
     },
     "execution_count": 113,
     "metadata": {},
     "output_type": "execute_result"
    }
   ],
   "source": [
    "type(a) == list"
   ]
  },
  {
   "cell_type": "code",
   "execution_count": null,
   "metadata": {},
   "outputs": [],
   "source": []
  },
  {
   "cell_type": "code",
   "execution_count": 106,
   "metadata": {},
   "outputs": [
    {
     "data": {
      "text/html": [
       "<div>\n",
       "<style scoped>\n",
       "    .dataframe tbody tr th:only-of-type {\n",
       "        vertical-align: middle;\n",
       "    }\n",
       "\n",
       "    .dataframe tbody tr th {\n",
       "        vertical-align: top;\n",
       "    }\n",
       "\n",
       "    .dataframe thead th {\n",
       "        text-align: right;\n",
       "    }\n",
       "</style>\n",
       "<table border=\"1\" class=\"dataframe\">\n",
       "  <thead>\n",
       "    <tr style=\"text-align: right;\">\n",
       "      <th></th>\n",
       "      <th>(02000) cabecera autopista norte</th>\n",
       "      <th>year_cos</th>\n",
       "      <th>week_cos</th>\n",
       "      <th>week_sin</th>\n",
       "      <th>saturday</th>\n",
       "      <th>holiday</th>\n",
       "      <th>year_sin</th>\n",
       "    </tr>\n",
       "    <tr>\n",
       "      <th>timestamp</th>\n",
       "      <th></th>\n",
       "      <th></th>\n",
       "      <th></th>\n",
       "      <th></th>\n",
       "      <th></th>\n",
       "      <th></th>\n",
       "      <th></th>\n",
       "    </tr>\n",
       "  </thead>\n",
       "  <tbody>\n",
       "    <tr>\n",
       "      <th>2015-08-01</th>\n",
       "      <td>23912.0</td>\n",
       "      <td>-0.877995</td>\n",
       "      <td>-0.222521</td>\n",
       "      <td>0.974928</td>\n",
       "      <td>1</td>\n",
       "      <td>0</td>\n",
       "      <td>-0.478670</td>\n",
       "    </tr>\n",
       "    <tr>\n",
       "      <th>2015-08-02</th>\n",
       "      <td>47197.0</td>\n",
       "      <td>-0.869631</td>\n",
       "      <td>-0.900969</td>\n",
       "      <td>0.433884</td>\n",
       "      <td>0</td>\n",
       "      <td>1</td>\n",
       "      <td>-0.493702</td>\n",
       "    </tr>\n",
       "    <tr>\n",
       "      <th>2015-08-03</th>\n",
       "      <td>110704.0</td>\n",
       "      <td>-0.861010</td>\n",
       "      <td>-0.900969</td>\n",
       "      <td>-0.433884</td>\n",
       "      <td>0</td>\n",
       "      <td>0</td>\n",
       "      <td>-0.508587</td>\n",
       "    </tr>\n",
       "    <tr>\n",
       "      <th>2015-08-04</th>\n",
       "      <td>115831.0</td>\n",
       "      <td>-0.852134</td>\n",
       "      <td>-0.222521</td>\n",
       "      <td>-0.974928</td>\n",
       "      <td>0</td>\n",
       "      <td>0</td>\n",
       "      <td>-0.523323</td>\n",
       "    </tr>\n",
       "    <tr>\n",
       "      <th>2015-08-05</th>\n",
       "      <td>115422.0</td>\n",
       "      <td>-0.843006</td>\n",
       "      <td>0.623490</td>\n",
       "      <td>-0.781831</td>\n",
       "      <td>0</td>\n",
       "      <td>0</td>\n",
       "      <td>-0.537903</td>\n",
       "    </tr>\n",
       "    <tr>\n",
       "      <th>...</th>\n",
       "      <td>...</td>\n",
       "      <td>...</td>\n",
       "      <td>...</td>\n",
       "      <td>...</td>\n",
       "      <td>...</td>\n",
       "      <td>...</td>\n",
       "      <td>...</td>\n",
       "    </tr>\n",
       "    <tr>\n",
       "      <th>2018-07-27</th>\n",
       "      <td>87302.0</td>\n",
       "      <td>-0.914185</td>\n",
       "      <td>0.623490</td>\n",
       "      <td>0.781831</td>\n",
       "      <td>0</td>\n",
       "      <td>0</td>\n",
       "      <td>-0.405297</td>\n",
       "    </tr>\n",
       "    <tr>\n",
       "      <th>2018-07-28</th>\n",
       "      <td>64229.0</td>\n",
       "      <td>-0.907078</td>\n",
       "      <td>-0.222521</td>\n",
       "      <td>0.974928</td>\n",
       "      <td>1</td>\n",
       "      <td>0</td>\n",
       "      <td>-0.420963</td>\n",
       "    </tr>\n",
       "    <tr>\n",
       "      <th>2018-07-29</th>\n",
       "      <td>41493.0</td>\n",
       "      <td>-0.899703</td>\n",
       "      <td>-0.900969</td>\n",
       "      <td>0.433884</td>\n",
       "      <td>0</td>\n",
       "      <td>1</td>\n",
       "      <td>-0.436503</td>\n",
       "    </tr>\n",
       "    <tr>\n",
       "      <th>2018-07-30</th>\n",
       "      <td>87818.0</td>\n",
       "      <td>-0.892061</td>\n",
       "      <td>-0.900969</td>\n",
       "      <td>-0.433884</td>\n",
       "      <td>0</td>\n",
       "      <td>0</td>\n",
       "      <td>-0.451915</td>\n",
       "    </tr>\n",
       "    <tr>\n",
       "      <th>2018-07-31</th>\n",
       "      <td>87602.0</td>\n",
       "      <td>-0.884155</td>\n",
       "      <td>-0.222521</td>\n",
       "      <td>-0.974928</td>\n",
       "      <td>0</td>\n",
       "      <td>0</td>\n",
       "      <td>-0.467193</td>\n",
       "    </tr>\n",
       "  </tbody>\n",
       "</table>\n",
       "<p>1096 rows × 7 columns</p>\n",
       "</div>"
      ],
      "text/plain": [
       "            (02000) cabecera autopista norte  year_cos  week_cos  week_sin  \\\n",
       "timestamp                                                                    \n",
       "2015-08-01                           23912.0 -0.877995 -0.222521  0.974928   \n",
       "2015-08-02                           47197.0 -0.869631 -0.900969  0.433884   \n",
       "2015-08-03                          110704.0 -0.861010 -0.900969 -0.433884   \n",
       "2015-08-04                          115831.0 -0.852134 -0.222521 -0.974928   \n",
       "2015-08-05                          115422.0 -0.843006  0.623490 -0.781831   \n",
       "...                                      ...       ...       ...       ...   \n",
       "2018-07-27                           87302.0 -0.914185  0.623490  0.781831   \n",
       "2018-07-28                           64229.0 -0.907078 -0.222521  0.974928   \n",
       "2018-07-29                           41493.0 -0.899703 -0.900969  0.433884   \n",
       "2018-07-30                           87818.0 -0.892061 -0.900969 -0.433884   \n",
       "2018-07-31                           87602.0 -0.884155 -0.222521 -0.974928   \n",
       "\n",
       "            saturday  holiday  year_sin  \n",
       "timestamp                                \n",
       "2015-08-01         1        0 -0.478670  \n",
       "2015-08-02         0        1 -0.493702  \n",
       "2015-08-03         0        0 -0.508587  \n",
       "2015-08-04         0        0 -0.523323  \n",
       "2015-08-05         0        0 -0.537903  \n",
       "...              ...      ...       ...  \n",
       "2018-07-27         0        0 -0.405297  \n",
       "2018-07-28         1        0 -0.420963  \n",
       "2018-07-29         0        1 -0.436503  \n",
       "2018-07-30         0        0 -0.451915  \n",
       "2018-07-31         0        0 -0.467193  \n",
       "\n",
       "[1096 rows x 7 columns]"
      ]
     },
     "execution_count": 106,
     "metadata": {},
     "output_type": "execute_result"
    }
   ],
   "source": [
    "train[station_single + exog_vars]"
   ]
  },
  {
   "cell_type": "code",
   "execution_count": 104,
   "metadata": {},
   "outputs": [
    {
     "data": {
      "text/plain": [
       "array([[76745.27953149, 72960.61178246, 86543.09306286, 78347.74211219,\n",
       "        63826.79820889, 71660.58630304, 75158.67296821],\n",
       "       [78549.59185754, 87083.30327023, 77784.43259305, 64151.36367601,\n",
       "        71149.36761547, 75853.81056137, 83278.21636381],\n",
       "       [92360.33033836, 78305.39761561, 63629.61267914, 71439.68124541,\n",
       "        75376.62500172, 83964.03939764, 86738.65168132],\n",
       "       [78598.02635868, 63653.28763332, 71406.29830089, 75397.08150723,\n",
       "        83942.13319786, 86776.14494364, 78963.2653474 ],\n",
       "       [58583.27931698, 70901.6635156 , 75920.98147263, 83644.95311022,\n",
       "        87234.90966512, 78305.82823453, 65245.3382123 ]])"
      ]
     },
     "execution_count": 104,
     "metadata": {},
     "output_type": "execute_result"
    }
   ],
   "source": [
    "result"
   ]
  },
  {
   "cell_type": "markdown",
   "metadata": {},
   "source": [
    "# Sarima - Static and Single model"
   ]
  },
  {
   "cell_type": "code",
   "execution_count": null,
   "metadata": {},
   "outputs": [],
   "source": [
    "from models.sarima import sarimaClass"
   ]
  },
  {
   "cell_type": "code",
   "execution_count": null,
   "metadata": {},
   "outputs": [],
   "source": [
    "sarima_ss = sarimaClass(settings,station_single[0])\n",
    "sarima_ss.fit(train[station_single + exog_vars].head(100))\n",
    "result = sarima_ss.predict(test[station_single + exog_vars].head(5),\n",
    "                 train_mean = 0, \n",
    "                 train_std = 1)\n",
    "\n",
    "print ('Expected Output shape: ({},{})'.format(5,7))\n",
    "print ('Output shape: {}'.format(result.shape))"
   ]
  },
  {
   "cell_type": "markdown",
   "metadata": {},
   "source": [
    "## Easy test for all stations"
   ]
  },
  {
   "cell_type": "code",
   "execution_count": 35,
   "metadata": {},
   "outputs": [],
   "source": [
    "from models.dense import denseClass\n",
    "from models.cnn import cnnClass\n",
    "from models.lstm import lstmClass"
   ]
  },
  {
   "cell_type": "code",
   "execution_count": 36,
   "metadata": {},
   "outputs": [],
   "source": [
    "# Settings file\n",
    "TRAIN_DATE = settings['train_date']\n",
    "INPUT_WIDTH = settings['steps_back']\n",
    "LABEL_WIDTH = settings['forecast_window']\n",
    "BATCH_SIZE = 32 #settings['batch_size']"
   ]
  },
  {
   "cell_type": "code",
   "execution_count": 37,
   "metadata": {},
   "outputs": [],
   "source": [
    "def static(model, stations, test_limit = None):\n",
    "    \"\"\" \n",
    "    Simulates a static time series model\n",
    "    \n",
    "    Parameters: \n",
    "    ------------\n",
    "    - model: str. model type e.g.: 'dense', 'cnn', 'lstm'\n",
    "    - stations: list. List of station(s) to model \n",
    "    - limit: int. Maximum test predictions\n",
    "    \n",
    "    Return: \n",
    "    - prediction array. shape:(predictions, forecast_window, stations)\n",
    "    \n",
    "    \"\"\"\n",
    "    # Add one because shifting exogenous variables will remove one\n",
    "    if test_limit:\n",
    "        test_limit+=1 \n",
    "        \n",
    "    train_df = train[stations + exog_vars]\n",
    "    test_df = test[stations + exog_vars].iloc[:test_limit]\n",
    "    \n",
    "    normalize_data = data.min_max(train_df,\n",
    "                                  test_df,\n",
    "                                  stations)\n",
    "    _train, _test, _min, _max = normalize_data\n",
    "    \n",
    "    df = pd.concat((_train, _test))\n",
    "    df[exog_vars] = df[exog_vars].shift(-1)\n",
    "    df = df.iloc[:-1,:]\n",
    "    \n",
    "    w = data.WindowGenerator(input_width=INPUT_WIDTH, \n",
    "                             label_width=LABEL_WIDTH,\n",
    "                             shift=LABEL_WIDTH, \n",
    "                             batch_size=BATCH_SIZE, \n",
    "                             train_date=TRAIN_DATE,\n",
    "                             label_columns=stations,\n",
    "                             data=df)\n",
    "    \n",
    "    if model == 'dense':\n",
    "        model_class = denseClass(settings)\n",
    "    elif model == 'cnn':\n",
    "        model_class = cnnClass(settings)\n",
    "    elif model == 'lstm':\n",
    "        model_class = lstmClass(settings)\n",
    "\n",
    "\n",
    "    model_class.fit(w)\n",
    "    results = model_class.predict(w) # Normalized prediction \n",
    "    results = data.unnormalize_min_max(results, _min, _max)\n",
    "    return results\n"
   ]
  },
  {
   "cell_type": "code",
   "execution_count": 8,
   "metadata": {},
   "outputs": [
    {
     "data": {
      "text/plain": [
       "array([[90592.39825881],\n",
       "       [86908.50382853],\n",
       "       [88782.14395726],\n",
       "       [63895.36220801],\n",
       "       [35326.58712971]])"
      ]
     },
     "execution_count": 8,
     "metadata": {},
     "output_type": "execute_result"
    }
   ],
   "source": [
    "static('dense', station_single, test_limit = 6)[:5,-1]"
   ]
  },
  {
   "cell_type": "code",
   "execution_count": 42,
   "metadata": {},
   "outputs": [],
   "source": [
    "a=static('dense', stations_multi, test_limit = 6)#[:5,-1]"
   ]
  },
  {
   "cell_type": "code",
   "execution_count": 83,
   "metadata": {},
   "outputs": [
    {
     "data": {
      "text/html": [
       "<div>\n",
       "<style scoped>\n",
       "    .dataframe tbody tr th:only-of-type {\n",
       "        vertical-align: middle;\n",
       "    }\n",
       "\n",
       "    .dataframe tbody tr th {\n",
       "        vertical-align: top;\n",
       "    }\n",
       "\n",
       "    .dataframe thead th {\n",
       "        text-align: right;\n",
       "    }\n",
       "</style>\n",
       "<table border=\"1\" class=\"dataframe\">\n",
       "  <thead>\n",
       "    <tr style=\"text-align: right;\">\n",
       "      <th></th>\n",
       "      <th>(02000) cabecera autopista norte</th>\n",
       "      <th>(02001) centro comercial santa fe</th>\n",
       "      <th>(02101) toberin</th>\n",
       "      <th>(02102) calle 161</th>\n",
       "      <th>(02103) mazuren</th>\n",
       "    </tr>\n",
       "    <tr>\n",
       "      <th>timestamp</th>\n",
       "      <th></th>\n",
       "      <th></th>\n",
       "      <th></th>\n",
       "      <th></th>\n",
       "      <th></th>\n",
       "    </tr>\n",
       "  </thead>\n",
       "  <tbody>\n",
       "    <tr>\n",
       "      <th>2018-08-01</th>\n",
       "      <td>91465.0</td>\n",
       "      <td>12909.0</td>\n",
       "      <td>31070.0</td>\n",
       "      <td>5926.0</td>\n",
       "      <td>9708.0</td>\n",
       "    </tr>\n",
       "    <tr>\n",
       "      <th>2018-08-02</th>\n",
       "      <td>92407.0</td>\n",
       "      <td>13134.0</td>\n",
       "      <td>30792.0</td>\n",
       "      <td>6134.0</td>\n",
       "      <td>9628.0</td>\n",
       "    </tr>\n",
       "    <tr>\n",
       "      <th>2018-08-03</th>\n",
       "      <td>93127.0</td>\n",
       "      <td>13976.0</td>\n",
       "      <td>30877.0</td>\n",
       "      <td>6209.0</td>\n",
       "      <td>9986.0</td>\n",
       "    </tr>\n",
       "    <tr>\n",
       "      <th>2018-08-04</th>\n",
       "      <td>65318.0</td>\n",
       "      <td>8621.0</td>\n",
       "      <td>15906.0</td>\n",
       "      <td>3495.0</td>\n",
       "      <td>5368.0</td>\n",
       "    </tr>\n",
       "    <tr>\n",
       "      <th>2018-08-05</th>\n",
       "      <td>39997.0</td>\n",
       "      <td>3854.0</td>\n",
       "      <td>5733.0</td>\n",
       "      <td>1397.0</td>\n",
       "      <td>1776.0</td>\n",
       "    </tr>\n",
       "    <tr>\n",
       "      <th>2018-08-06</th>\n",
       "      <td>90023.0</td>\n",
       "      <td>12164.0</td>\n",
       "      <td>29153.0</td>\n",
       "      <td>5890.0</td>\n",
       "      <td>8623.0</td>\n",
       "    </tr>\n",
       "  </tbody>\n",
       "</table>\n",
       "</div>"
      ],
      "text/plain": [
       "            (02000) cabecera autopista norte  \\\n",
       "timestamp                                      \n",
       "2018-08-01                           91465.0   \n",
       "2018-08-02                           92407.0   \n",
       "2018-08-03                           93127.0   \n",
       "2018-08-04                           65318.0   \n",
       "2018-08-05                           39997.0   \n",
       "2018-08-06                           90023.0   \n",
       "\n",
       "            (02001) centro comercial santa fe  (02101) toberin  \\\n",
       "timestamp                                                        \n",
       "2018-08-01                            12909.0          31070.0   \n",
       "2018-08-02                            13134.0          30792.0   \n",
       "2018-08-03                            13976.0          30877.0   \n",
       "2018-08-04                             8621.0          15906.0   \n",
       "2018-08-05                             3854.0           5733.0   \n",
       "2018-08-06                            12164.0          29153.0   \n",
       "\n",
       "            (02102) calle 161  (02103) mazuren  \n",
       "timestamp                                       \n",
       "2018-08-01             5926.0           9708.0  \n",
       "2018-08-02             6134.0           9628.0  \n",
       "2018-08-03             6209.0           9986.0  \n",
       "2018-08-04             3495.0           5368.0  \n",
       "2018-08-05             1397.0           1776.0  \n",
       "2018-08-06             5890.0           8623.0  "
      ]
     },
     "execution_count": 83,
     "metadata": {},
     "output_type": "execute_result"
    }
   ],
   "source": [
    "test[stations_multi].head(6)"
   ]
  },
  {
   "cell_type": "code",
   "execution_count": 93,
   "metadata": {},
   "outputs": [
    {
     "data": {
      "text/plain": [
       "array([[ 81076.53414369,  82615.68193793,  56398.51495922,\n",
       "         27367.14731999,  67645.02729887,  85542.53891444,\n",
       "         80917.60614002],\n",
       "       [ 83512.46048045,  55007.13888419,  23284.35229415,\n",
       "         68062.65052795,  83951.7704711 ,  80491.37383151,\n",
       "         80607.96343124],\n",
       "       [ 54792.48696488,  22149.85618039,  64697.06200975,\n",
       "         81434.40122819,  81139.24342239,  79287.42874765,\n",
       "         82117.9316895 ],\n",
       "       [ 27425.97363325,  74263.83978081,  89815.44998324,\n",
       "         90354.59146774,  87685.25590503,  91310.56123686,\n",
       "         59499.60346603],\n",
       "       [ 98802.5779295 ,  96913.9590174 ,  95629.71439433,\n",
       "         95456.87655389, 101329.56092632,  66866.15086013,\n",
       "         36619.58290738],\n",
       "       [ 82166.41315365,  81730.47913992,  81508.74037528,\n",
       "         85164.46332681,  55722.35211086,  26811.63420793,\n",
       "         68330.93582809]])"
      ]
     },
     "execution_count": 93,
     "metadata": {},
     "output_type": "execute_result"
    }
   ],
   "source": [
    "a[:,:,0]"
   ]
  },
  {
   "cell_type": "code",
   "execution_count": 74,
   "metadata": {},
   "outputs": [
    {
     "data": {
      "text/plain": [
       "(5, 6, 7)"
      ]
     },
     "execution_count": 74,
     "metadata": {},
     "output_type": "execute_result"
    }
   ],
   "source": [
    "b = np.moveaxis(a, 0, -1)\n",
    "c = np.moveaxis(b, 0, -1)\n",
    "c.shape"
   ]
  },
  {
   "cell_type": "code",
   "execution_count": 98,
   "metadata": {},
   "outputs": [],
   "source": [
    "d = np.moveaxis(a, 2, 0)"
   ]
  },
  {
   "cell_type": "code",
   "execution_count": 101,
   "metadata": {},
   "outputs": [
    {
     "data": {
      "text/plain": [
       "array([[ True,  True,  True,  True,  True,  True,  True],\n",
       "       [ True,  True,  True,  True,  True,  True,  True],\n",
       "       [ True,  True,  True,  True,  True,  True,  True],\n",
       "       [ True,  True,  True,  True,  True,  True,  True],\n",
       "       [ True,  True,  True,  True,  True,  True,  True],\n",
       "       [ True,  True,  True,  True,  True,  True,  True]])"
      ]
     },
     "execution_count": 101,
     "metadata": {},
     "output_type": "execute_result"
    }
   ],
   "source": [
    "d[0,:,] == c[0,:,:]"
   ]
  },
  {
   "cell_type": "code",
   "execution_count": 94,
   "metadata": {},
   "outputs": [
    {
     "data": {
      "text/plain": [
       "array([[ 81076.53414369,  82615.68193793,  56398.51495922,\n",
       "         27367.14731999,  67645.02729887,  85542.53891444,\n",
       "         80917.60614002],\n",
       "       [ 83512.46048045,  55007.13888419,  23284.35229415,\n",
       "         68062.65052795,  83951.7704711 ,  80491.37383151,\n",
       "         80607.96343124],\n",
       "       [ 54792.48696488,  22149.85618039,  64697.06200975,\n",
       "         81434.40122819,  81139.24342239,  79287.42874765,\n",
       "         82117.9316895 ],\n",
       "       [ 27425.97363325,  74263.83978081,  89815.44998324,\n",
       "         90354.59146774,  87685.25590503,  91310.56123686,\n",
       "         59499.60346603],\n",
       "       [ 98802.5779295 ,  96913.9590174 ,  95629.71439433,\n",
       "         95456.87655389, 101329.56092632,  66866.15086013,\n",
       "         36619.58290738],\n",
       "       [ 82166.41315365,  81730.47913992,  81508.74037528,\n",
       "         85164.46332681,  55722.35211086,  26811.63420793,\n",
       "         68330.93582809]])"
      ]
     },
     "execution_count": 94,
     "metadata": {},
     "output_type": "execute_result"
    }
   ],
   "source": [
    "c[0,:,:]"
   ]
  },
  {
   "cell_type": "code",
   "execution_count": 10,
   "metadata": {},
   "outputs": [
    {
     "data": {
      "text/plain": [
       "array([[88941.78910232],\n",
       "       [88628.57421756],\n",
       "       [94516.9274528 ],\n",
       "       [69016.26252562],\n",
       "       [31577.87005241],\n",
       "       [67857.65972096]])"
      ]
     },
     "execution_count": 10,
     "metadata": {},
     "output_type": "execute_result"
    }
   ],
   "source": [
    "static('cnn', station_single, test_limit = 6)[:,-1]"
   ]
  },
  {
   "cell_type": "code",
   "execution_count": 11,
   "metadata": {},
   "outputs": [
    {
     "data": {
      "text/plain": [
       "array([[74170.38137364,  9416.65627366, 21014.80163342,  4589.34429491,\n",
       "         7516.4436661 ],\n",
       "       [75880.68240261,  9729.02192557, 21644.72128212,  4725.69349414,\n",
       "         7659.77809429],\n",
       "       [78549.94354498, 10296.0267632 , 21628.92414892,  4889.39098227,\n",
       "         8095.03169084],\n",
       "       [51299.38935447,  6275.49519226, 11533.25852159,  2399.53972709,\n",
       "         3980.03115422],\n",
       "       [22833.14710126,  2449.44818902,  4371.37216572,   202.81460243,\n",
       "          335.73876149]])"
      ]
     },
     "execution_count": 11,
     "metadata": {},
     "output_type": "execute_result"
    }
   ],
   "source": [
    "static('cnn', stations_multi, test_limit = 6)[:5,-1]"
   ]
  },
  {
   "cell_type": "code",
   "execution_count": 12,
   "metadata": {},
   "outputs": [
    {
     "name": "stdout",
     "output_type": "stream",
     "text": [
      "WARNING:tensorflow:5 out of the last 5 calls to <function Model.make_predict_function.<locals>.predict_function at 0x7f8527506f70> triggered tf.function retracing. Tracing is expensive and the excessive number of tracings could be due to (1) creating @tf.function repeatedly in a loop, (2) passing tensors with different shapes, (3) passing Python objects instead of tensors. For (1), please define your @tf.function outside of the loop. For (2), @tf.function has experimental_relax_shapes=True option that relaxes argument shapes that can avoid unnecessary retracing. For (3), please refer to https://www.tensorflow.org/guide/function#controlling_retracing and https://www.tensorflow.org/api_docs/python/tf/function for  more details.\n"
     ]
    },
    {
     "data": {
      "text/plain": [
       "array([[92250.60505474],\n",
       "       [90159.46135485],\n",
       "       [93936.74653745],\n",
       "       [68895.23138511],\n",
       "       [35648.02546126]])"
      ]
     },
     "execution_count": 12,
     "metadata": {},
     "output_type": "execute_result"
    }
   ],
   "source": [
    "static('lstm', station_single, test_limit = 6)[:5,-1]"
   ]
  },
  {
   "cell_type": "code",
   "execution_count": 13,
   "metadata": {},
   "outputs": [
    {
     "name": "stdout",
     "output_type": "stream",
     "text": [
      "WARNING:tensorflow:6 out of the last 6 calls to <function Model.make_predict_function.<locals>.predict_function at 0x7f8527941d30> triggered tf.function retracing. Tracing is expensive and the excessive number of tracings could be due to (1) creating @tf.function repeatedly in a loop, (2) passing tensors with different shapes, (3) passing Python objects instead of tensors. For (1), please define your @tf.function outside of the loop. For (2), @tf.function has experimental_relax_shapes=True option that relaxes argument shapes that can avoid unnecessary retracing. For (3), please refer to https://www.tensorflow.org/guide/function#controlling_retracing and https://www.tensorflow.org/api_docs/python/tf/function for  more details.\n"
     ]
    },
    {
     "data": {
      "text/plain": [
       "array([[86352.42833555, 12269.17276573, 28993.91927713,  5852.32237184,\n",
       "         9269.06356227],\n",
       "       [86743.29068947, 12497.70637709, 30271.80020714,  6101.09008634,\n",
       "         9517.88446271],\n",
       "       [90159.27192128, 13219.53825718, 30249.80132496,  6150.88832629,\n",
       "         9934.37252307],\n",
       "       [56149.97134376,  8449.96057844, 17670.22072101,  3048.64914346,\n",
       "         4742.6910224 ],\n",
       "       [33630.22553651,  4682.61189052,  9638.59135121,  1291.37058625,\n",
       "         1585.64895442]])"
      ]
     },
     "execution_count": 13,
     "metadata": {},
     "output_type": "execute_result"
    }
   ],
   "source": [
    "static('lstm', stations_multi, test_limit = 6)[:5,-1]"
   ]
  },
  {
   "cell_type": "code",
   "execution_count": 14,
   "metadata": {},
   "outputs": [],
   "source": [
    "def online(model, stations, test_limit = None):\n",
    "    \"\"\" \n",
    "    Simulates a online training time series model\n",
    "    \n",
    "    Parameters: \n",
    "    ------------\n",
    "    - model: str. model type e.g.: 'dense', 'cnn', 'lstm'\n",
    "    - stations: list. List of station(s) to model \n",
    "    - limit: int. Maximum test predictions\n",
    "    \n",
    "    Return: \n",
    "    - prediction array. shape:(predictions, forecast_window, stations)\n",
    "    \n",
    "    \"\"\"\n",
    "    # Add one because shifting exogenous variables will remove one\n",
    "    # Add LABEL_WIDTH because online training will remove it. \n",
    "    if test_limit:\n",
    "        test_limit = test_limit + 1 + LABEL_WIDTH\n",
    "        \n",
    "    train_df = train[stations + exog_vars]\n",
    "    test_df = test[stations + exog_vars].iloc[:test_limit]\n",
    "    \n",
    "    normalized_data = data.min_max(train_df,\n",
    "                                  test_df,\n",
    "                                  stations)\n",
    "    \n",
    "    _train, _test, _min, _max = normalized_data\n",
    "    \n",
    "    df = pd.concat((_train, _test))\n",
    "    df[exog_vars] = df[exog_vars].shift(-1)\n",
    "    df = df.iloc[:-1,:]\n",
    "    \n",
    "    train_index = data.train_index(df, TRAIN_DATE)\n",
    "    predictions = []\n",
    "    for i in df.index[train_index: -LABEL_WIDTH]:\n",
    "        idx_online = data.train_index(df, i)\n",
    "        df_online = df[:idx_online + 1]\n",
    "        \n",
    "        w = data.WindowGenerator(input_width=INPUT_WIDTH, \n",
    "                                 label_width=LABEL_WIDTH,\n",
    "                                 shift=LABEL_WIDTH, \n",
    "                                 batch_size=BATCH_SIZE, \n",
    "                                 train_date=i,\n",
    "                                 label_columns=stations,\n",
    "                                 data=df_online)\n",
    "        \n",
    "        if model == 'dense':\n",
    "            model_class = denseClass(settings)\n",
    "        elif model == 'cnn':\n",
    "            model_class = cnnClass(settings)\n",
    "        elif model == 'lstm':\n",
    "            model_class = lstmClass(settings)\n",
    "\n",
    "        model_class.fit(w)\n",
    "        prediction = model_class.predict(w, True)\n",
    "        predictions.append(prediction)\n",
    "    results = np.array(predictions)\n",
    "    results = data.unnormalize_min_max(results, _min, _max)\n",
    "    return np.squeeze(results, axis = 1)\n",
    "    "
   ]
  },
  {
   "cell_type": "code",
   "execution_count": 15,
   "metadata": {},
   "outputs": [
    {
     "data": {
      "text/plain": [
       "array([[90957.70061111],\n",
       "       [87832.52021289],\n",
       "       [89214.1066314 ],\n",
       "       [63494.23323089],\n",
       "       [36222.88870555]])"
      ]
     },
     "execution_count": 15,
     "metadata": {},
     "output_type": "execute_result"
    }
   ],
   "source": [
    "a = online('dense', station_single, test_limit = 13)\n",
    "a[:5,-1]"
   ]
  },
  {
   "cell_type": "code",
   "execution_count": 16,
   "metadata": {},
   "outputs": [
    {
     "data": {
      "text/plain": [
       "array([[76564.51731074, 10711.45843875, 27277.17199969,  4723.3188203 ,\n",
       "         7452.54956377],\n",
       "       [85288.5084908 , 11956.19811451, 29788.61346102,  5208.55539858,\n",
       "         8552.44961011],\n",
       "       [77426.52126133, 10930.86098313, 26564.20388216,  4682.10757059,\n",
       "         7511.04262412],\n",
       "       [58387.44233185,  7134.58433756, 14635.70634547,  2747.32028121,\n",
       "         3831.54841971],\n",
       "       [33972.08971238,  3290.28231026,  5268.09896153,   722.62846473,\n",
       "          462.64707971]])"
      ]
     },
     "execution_count": 16,
     "metadata": {},
     "output_type": "execute_result"
    }
   ],
   "source": [
    "b = online('dense', stations_multi, test_limit = 13)\n",
    "b[:5,-1]"
   ]
  },
  {
   "cell_type": "code",
   "execution_count": 17,
   "metadata": {},
   "outputs": [
    {
     "data": {
      "text/plain": [
       "array([[89947.89111388],\n",
       "       [87680.70949924],\n",
       "       [97220.46254122],\n",
       "       [70819.48410571],\n",
       "       [28107.81991169]])"
      ]
     },
     "execution_count": 17,
     "metadata": {},
     "output_type": "execute_result"
    }
   ],
   "source": [
    "c = online('cnn', station_single, test_limit = 13)\n",
    "c[:5,-1]"
   ]
  },
  {
   "cell_type": "code",
   "execution_count": 18,
   "metadata": {},
   "outputs": [
    {
     "data": {
      "text/plain": [
       "array([[73672.60068053,  9374.75986689, 20856.19100738,  4558.49817562,\n",
       "         7540.10407186],\n",
       "       [74775.99712914,  9410.25736785, 20857.54726654,  4615.50238168,\n",
       "         7427.87190568],\n",
       "       [74827.18140447,  9677.81596893, 20294.96658254,  4588.83257103,\n",
       "         7514.55007648],\n",
       "       [53412.28408802,  7011.43506607, 13025.52698272,  2514.80252171,\n",
       "         4284.68280232],\n",
       "       [25866.6541232 ,  2955.80954203,  5395.11731273,   443.88783502,\n",
       "          755.871421  ]])"
      ]
     },
     "execution_count": 18,
     "metadata": {},
     "output_type": "execute_result"
    }
   ],
   "source": [
    "d = online('cnn', stations_multi, test_limit = 13)\n",
    "d[:5,-1]"
   ]
  },
  {
   "cell_type": "code",
   "execution_count": 19,
   "metadata": {},
   "outputs": [
    {
     "data": {
      "text/plain": [
       "array([[91528.28806901],\n",
       "       [89485.63259876],\n",
       "       [93075.99420154],\n",
       "       [70415.83498549],\n",
       "       [84702.9151876 ]])"
      ]
     },
     "execution_count": 19,
     "metadata": {},
     "output_type": "execute_result"
    }
   ],
   "source": [
    "e = online('lstm', station_single, test_limit = 13)\n",
    "e[:5,-1]"
   ]
  },
  {
   "cell_type": "code",
   "execution_count": 20,
   "metadata": {},
   "outputs": [
    {
     "data": {
      "text/plain": [
       "array([[92866.1018008 , 11267.47088784, 24161.9143976 ,  6287.72546828,\n",
       "         9391.05251729],\n",
       "       [92895.38958454, 12380.42252409, 26516.56353629,  6566.52100229,\n",
       "         9708.64346075],\n",
       "       [90955.10266495, 12953.35064006, 28028.84827167,  6233.19793701,\n",
       "         9325.08114505],\n",
       "       [64028.96023655,  7981.16055739, 13617.13081628,  3586.53339839,\n",
       "         5252.27134144],\n",
       "       [30969.6884868 ,  4302.71792361,  6557.17848963,  1117.67757788,\n",
       "          765.60801028]])"
      ]
     },
     "execution_count": 20,
     "metadata": {},
     "output_type": "execute_result"
    }
   ],
   "source": [
    "f = online('lstm', stations_multi, test_limit = 13)\n",
    "f[:5,-1]"
   ]
  },
  {
   "cell_type": "markdown",
   "metadata": {},
   "source": [
    "# Creating directory"
   ]
  },
  {
   "cell_type": "code",
   "execution_count": 21,
   "metadata": {},
   "outputs": [],
   "source": [
    "def create_path(path, replace = False):\n",
    "    \"\"\" \n",
    "    Create path if path is not defined. \n",
    "    If replace is True, removes and create\n",
    "    empty path\n",
    "    \"\"\"\n",
    "    try:\n",
    "        os.makedirs(path)\n",
    "    except FileExistsError:\n",
    "        if replace:\n",
    "            shutil.rmtree(path)\n",
    "            os.makedirs(path)"
   ]
  },
  {
   "cell_type": "code",
   "execution_count": 29,
   "metadata": {},
   "outputs": [],
   "source": [
    "output_folder = 'output' #from settings\n",
    "aggregation = 'day' #from settings >> Overwrite in arguments\n",
    "training = 'static' # from settings >> Overwrite in arguments\n",
    "output = 'single' # from settings>> Overwrite in arguments \n",
    "model = 'dense'# from settings >> Overwrite in arguments \n",
    "\n",
    "path = os.path.join(output_folder,\n",
    "                    aggregation,\n",
    "                    training,\n",
    "                    output,\n",
    "                    model)"
   ]
  },
  {
   "cell_type": "code",
   "execution_count": 30,
   "metadata": {},
   "outputs": [
    {
     "data": {
      "text/plain": [
       "'output/day/static/single/dense'"
      ]
     },
     "execution_count": 30,
     "metadata": {},
     "output_type": "execute_result"
    }
   ],
   "source": [
    "path"
   ]
  },
  {
   "cell_type": "code",
   "execution_count": null,
   "metadata": {},
   "outputs": [],
   "source": []
  },
  {
   "cell_type": "code",
   "execution_count": null,
   "metadata": {},
   "outputs": [],
   "source": []
  },
  {
   "cell_type": "code",
   "execution_count": null,
   "metadata": {},
   "outputs": [],
   "source": []
  },
  {
   "cell_type": "code",
   "execution_count": null,
   "metadata": {},
   "outputs": [],
   "source": []
  },
  {
   "cell_type": "code",
   "execution_count": null,
   "metadata": {},
   "outputs": [],
   "source": []
  },
  {
   "cell_type": "markdown",
   "metadata": {},
   "source": [
    "## Dense - single/static"
   ]
  },
  {
   "cell_type": "code",
   "execution_count": null,
   "metadata": {},
   "outputs": [],
   "source": [
    "from models.dense import denseClass"
   ]
  },
  {
   "cell_type": "code",
   "execution_count": null,
   "metadata": {},
   "outputs": [],
   "source": [
    "a,b,c,d = data.min_max_normalize(train[station_single + exog_vars], \n",
    "                       test[station_single + exog_vars].head(6),\n",
    "                       station_single)\n",
    "\n",
    "df = pd.concat((a,b))\n",
    "df[exog_vars] = df[exog_vars].shift(-1)\n",
    "df = df.iloc[:-1,:]\n",
    "\n",
    "TRAIN_DATE = settings['train_date']\n",
    "\n",
    "w = data.WindowGenerator(input_width=14, label_width=7, \n",
    "                         shift=7, data = df, label_columns=station_single, \n",
    "                         batch_size = 32, train_date=TRAIN_DATE)"
   ]
  },
  {
   "cell_type": "code",
   "execution_count": null,
   "metadata": {},
   "outputs": [],
   "source": [
    "dense_ss = lstmClass(settings,station_single[0])\n",
    "dense_ss.fit(w)\n",
    "single_results = dense_ss.predict(w,\n",
    "                 train_mean = 0, \n",
    "                 train_std = 1)\n",
    "\n",
    "print ('Expected Output shape: ({},{})'.format(5,7))\n",
    "print ('Output shape: {}'.format(single_results.shape))"
   ]
  },
  {
   "cell_type": "code",
   "execution_count": null,
   "metadata": {},
   "outputs": [],
   "source": [
    "results = single_results * (d[0]-c[0]) + c[0]\n",
    "results[:,-1]"
   ]
  },
  {
   "cell_type": "markdown",
   "metadata": {},
   "source": [
    "## Dense - multioutput/static"
   ]
  },
  {
   "cell_type": "code",
   "execution_count": null,
   "metadata": {},
   "outputs": [],
   "source": [
    "from models.dense import denseClass\n"
   ]
  },
  {
   "cell_type": "code",
   "execution_count": null,
   "metadata": {},
   "outputs": [],
   "source": [
    "a,b,c,d = data.min_max_normalize(train[stations_multi + exog_vars], \n",
    "                                 test[stations_multi + exog_vars].head(100),\n",
    "                                 stations_multi)\n",
    "\n",
    "df = pd.concat((a,b))\n",
    "TRAIN_DATE = settings['train_date']\n",
    "\n",
    "w = data.WindowGenerator(input_width=14, label_width=7, \n",
    "                         shift=7, data = df, label_columns=stations_multi, \n",
    "                         batch_size = 32, train_date=TRAIN_DATE)"
   ]
  },
  {
   "cell_type": "code",
   "execution_count": null,
   "metadata": {
    "scrolled": true
   },
   "outputs": [],
   "source": [
    "dense_ss = denseClass(settings,'hola')\n",
    "dense_ss.fit(w)\n",
    "multi_results = dense_ss.predict(w,\n",
    "                 train_mean = 0, \n",
    "                 train_std = 1)\n",
    "multi_results.shape"
   ]
  },
  {
   "cell_type": "code",
   "execution_count": null,
   "metadata": {},
   "outputs": [],
   "source": [
    "test[stations_multi + exog_vars].head(5)"
   ]
  },
  {
   "cell_type": "code",
   "execution_count": null,
   "metadata": {},
   "outputs": [],
   "source": [
    "((multi_results * np.array(d-c)) + np.array(c))[:5,-1]"
   ]
  },
  {
   "cell_type": "markdown",
   "metadata": {},
   "source": [
    "## Dense - Single/Online"
   ]
  },
  {
   "cell_type": "code",
   "execution_count": null,
   "metadata": {},
   "outputs": [],
   "source": [
    "from models.dense import denseClass"
   ]
  },
  {
   "cell_type": "code",
   "execution_count": null,
   "metadata": {},
   "outputs": [],
   "source": [
    "df = pd.concat((train[station_single + exog_vars], \n",
    "                test[station_single + exog_vars].head(32)))\n",
    "TRAIN_DATE = settings['train_date']"
   ]
  },
  {
   "cell_type": "code",
   "execution_count": null,
   "metadata": {},
   "outputs": [],
   "source": [
    "# idx = data.train_index(df, TRAIN_DATE)\n",
    "# input_width = 14\n",
    "# shift = 7\n",
    "# train_df = df.iloc[:idx]\n",
    "# test_df = df.iloc[idx - input_width - shift + 1:]"
   ]
  },
  {
   "cell_type": "code",
   "execution_count": null,
   "metadata": {},
   "outputs": [],
   "source": [
    "train_index = data.train_index(df, TRAIN_DATE)\n",
    "df_online = df[:train_index+1]"
   ]
  },
  {
   "cell_type": "code",
   "execution_count": null,
   "metadata": {},
   "outputs": [],
   "source": [
    "w = data.WindowGenerator(input_width=14, label_width=7, \n",
    "                         shift=7, data = df_online, label_columns=station_single, \n",
    "                         batch_size = 32, train_date=TRAIN_DATE)"
   ]
  },
  {
   "cell_type": "code",
   "execution_count": null,
   "metadata": {},
   "outputs": [],
   "source": [
    "train_index = data.train_index(df, TRAIN_DATE)\n",
    "predictions = []\n",
    "for i in df.index[train_index: -7]:\n",
    "    idx_online = data.train_index(df, i)\n",
    "    df_online = df[:idx_online + 1]\n",
    "    w = data.WindowGenerator(input_width=14, label_width=7, shift=7, \n",
    "                             data = df_online, batch_size = 32, train_date=i,\n",
    "                             label_columns=station_single)\n",
    "    \n",
    "    model_class = denseClass(settings, 'ha')\n",
    "    model_class.fit(w)\n",
    "    prediction = model_class.predict(w, 0, 1, True)\n",
    "    predictions.append(prediction)\n",
    "result = np.array(predictions) "
   ]
  },
  {
   "cell_type": "code",
   "execution_count": null,
   "metadata": {},
   "outputs": [],
   "source": [
    "result.shape"
   ]
  },
  {
   "cell_type": "markdown",
   "metadata": {},
   "source": [
    "## Dense - Multioutput/Online"
   ]
  },
  {
   "cell_type": "code",
   "execution_count": null,
   "metadata": {},
   "outputs": [],
   "source": [
    "from models.dense import denseClass"
   ]
  },
  {
   "cell_type": "code",
   "execution_count": null,
   "metadata": {},
   "outputs": [],
   "source": [
    "df = pd.concat((train[stations_multi + exog_vars], \n",
    "                test[stations_multi + exog_vars].head(32)))\n",
    "TRAIN_DATE = settings['train_date']\n",
    "\n",
    "train_index = data.train_index(df, TRAIN_DATE)\n",
    "df_online = df[:train_index+1]"
   ]
  },
  {
   "cell_type": "code",
   "execution_count": null,
   "metadata": {},
   "outputs": [],
   "source": [
    "train_index = data.train_index(df, TRAIN_DATE)\n",
    "predictions = []\n",
    "for i in df.index[train_index: -7]:\n",
    "    idx_online = data.train_index(df, i)\n",
    "    df_online = df[:idx_online + 1]\n",
    "    w = data.WindowGenerator(input_width=14, label_width=7, shift=7, \n",
    "                             data = df_online, batch_size = 32, train_date=i,\n",
    "                             label_columns=stations_multi)\n",
    "    \n",
    "    model_class = denseClass(settings, 'ha')\n",
    "    model_class.fit(w)\n",
    "    prediction = model_class.predict(w, 0, 1, True)\n",
    "    predictions.append(prediction)\n",
    "result = np.array(predictions) "
   ]
  },
  {
   "cell_type": "code",
   "execution_count": null,
   "metadata": {},
   "outputs": [],
   "source": [
    "result.shape"
   ]
  },
  {
   "cell_type": "markdown",
   "metadata": {},
   "source": [
    "## CNN - Dense/multioutput"
   ]
  },
  {
   "cell_type": "code",
   "execution_count": null,
   "metadata": {},
   "outputs": [],
   "source": [
    "from models.cnn import cnnClass\n",
    "\n",
    "df = pd.concat((train[stations_multi + exog_vars], \n",
    "                test[stations_multi + exog_vars].head(32)))\n",
    "TRAIN_DATE = settings['train_date']\n",
    "\n",
    "train_index = data.train_index(df, TRAIN_DATE)\n",
    "df_online = df[:train_index+1]\n",
    "\n",
    "train_index = data.train_index(df, TRAIN_DATE)\n",
    "predictions = []\n",
    "for i in df.index[train_index: -7]:\n",
    "    idx_online = data.train_index(df, i)\n",
    "    df_online = df[:idx_online + 1]\n",
    "    w = data.WindowGenerator(input_width=14, label_width=7, shift=7, \n",
    "                             data = df_online, batch_size = 32, train_date=i,\n",
    "                             label_columns=stations_multi)\n",
    "    \n",
    "    model_class = cnnClass(settings, 'ha')\n",
    "    model_class.fit(w)\n",
    "    prediction = model_class.predict(w, 0, 1, True)\n",
    "    predictions.append(prediction)\n",
    "result = np.array(predictions) "
   ]
  },
  {
   "cell_type": "markdown",
   "metadata": {},
   "source": [
    "## LSTM - Dense/Multioutput"
   ]
  },
  {
   "cell_type": "code",
   "execution_count": null,
   "metadata": {},
   "outputs": [],
   "source": [
    "from models.lstm import lstmClass\n",
    "\n",
    "df = pd.concat((train[stations_multi + exog_vars], \n",
    "                test[stations_multi + exog_vars].head(32)))\n",
    "TRAIN_DATE = settings['train_date']\n",
    "\n",
    "train_index = data.train_index(df, TRAIN_DATE)\n",
    "df_online = df[:train_index+1]\n",
    "\n",
    "train_index = data.train_index(df, TRAIN_DATE)\n",
    "predictions = []\n",
    "for i in df.index[train_index: -7]:\n",
    "    idx_online = data.train_index(df, i)\n",
    "    df_online = df[:idx_online + 1]\n",
    "    w = data.WindowGenerator(input_width=14, label_width=7, shift=7, \n",
    "                             data = df_online, batch_size = 32, train_date=i,\n",
    "                             label_columns=stations_multi)\n",
    "    \n",
    "    model_class = lstmClass(settings, 'ha')\n",
    "    model_class.fit(w)\n",
    "    prediction = model_class.predict(w, 0, 1, True)\n",
    "    predictions.append(prediction)\n",
    "result = np.array(predictions) "
   ]
  },
  {
   "cell_type": "markdown",
   "metadata": {},
   "source": [
    "## LSTM - Single/static"
   ]
  },
  {
   "cell_type": "code",
   "execution_count": null,
   "metadata": {},
   "outputs": [],
   "source": [
    "from models.lstm import lstmClass\n",
    "\n",
    "a,b,c,d = data.min_max_normalize(train[station_single + exog_vars], \n",
    "                       test[station_single + exog_vars].head(6),\n",
    "                       station_single)\n",
    "\n",
    "df = pd.concat((a,b))\n",
    "\n",
    "df[exog_vars] = df[exog_vars].shift(-1)\n",
    "df = df.iloc[:-1,:]\n",
    "\n",
    "TRAIN_DATE = settings['train_date']\n",
    "\n",
    "w = data.WindowGenerator(input_width=14, label_width=1, \n",
    "                         shift=1, data = df, label_columns=station_single, \n",
    "                         batch_size = 32, train_date=TRAIN_DATE)"
   ]
  },
  {
   "cell_type": "code",
   "execution_count": null,
   "metadata": {},
   "outputs": [],
   "source": [
    "lstm_ss = lstmClass(settings,station_single[0])\n",
    "lstm_ss.fit(w)\n",
    "single_results = lstm_ss.predict(w,\n",
    "                 train_mean = 0, \n",
    "                 train_std = 1)"
   ]
  },
  {
   "cell_type": "code",
   "execution_count": null,
   "metadata": {},
   "outputs": [],
   "source": [
    "single_results * (d[0] - c[0]) + c[0]"
   ]
  },
  {
   "cell_type": "code",
   "execution_count": null,
   "metadata": {},
   "outputs": [],
   "source": [
    "(test[station_single].head(6) - c)/(d-c)"
   ]
  },
  {
   "cell_type": "code",
   "execution_count": null,
   "metadata": {},
   "outputs": [],
   "source": [
    "test[station_single].head(6)"
   ]
  },
  {
   "cell_type": "code",
   "execution_count": null,
   "metadata": {},
   "outputs": [],
   "source": [
    "b * (d-c) + c"
   ]
  },
  {
   "cell_type": "markdown",
   "metadata": {},
   "source": [
    "# Savig the resutls "
   ]
  },
  {
   "cell_type": "code",
   "execution_count": null,
   "metadata": {},
   "outputs": [],
   "source": [
    "def prediction_dict(station, prediction, time):\n",
    "    \"\"\" Saves a <station_name>.json file in the path directory. \n",
    "    \n",
    "    Parameters:\n",
    "    ------------\n",
    "    path: 'str'. Directory path to save prediction \n",
    "    station_name: 'str'. Name of the station.\n",
    "    time: float. Running time in secongs \n",
    "    prediction: array-like. Prediction array of the shape (n, OUT STEPS)\n",
    "    \"\"\"\n",
    "    dict_ = {}\n",
    "    dict_['name'] = station\n",
    "    dict_['time'] = time\n",
    "    dict_['prediction'] = prediction.tolist()\n",
    "    return dict_"
   ]
  },
  {
   "cell_type": "code",
   "execution_count": null,
   "metadata": {},
   "outputs": [],
   "source": [
    "multi_results.shape"
   ]
  },
  {
   "cell_type": "code",
   "execution_count": null,
   "metadata": {},
   "outputs": [],
   "source": [
    "single_results.shape"
   ]
  },
  {
   "cell_type": "code",
   "execution_count": null,
   "metadata": {},
   "outputs": [],
   "source": [
    "single_results"
   ]
  },
  {
   "cell_type": "code",
   "execution_count": null,
   "metadata": {},
   "outputs": [],
   "source": [
    "np.squeeze(single_results, axis=None)"
   ]
  },
  {
   "cell_type": "code",
   "execution_count": null,
   "metadata": {},
   "outputs": [],
   "source": [
    "prediction_dict(station_single[0],single_results,2)"
   ]
  },
  {
   "cell_type": "code",
   "execution_count": null,
   "metadata": {},
   "outputs": [],
   "source": []
  }
 ],
 "metadata": {
  "kernelspec": {
   "display_name": "Python 3",
   "language": "python",
   "name": "python3"
  },
  "language_info": {
   "codemirror_mode": {
    "name": "ipython",
    "version": 3
   },
   "file_extension": ".py",
   "mimetype": "text/x-python",
   "name": "python",
   "nbconvert_exporter": "python",
   "pygments_lexer": "ipython3",
   "version": "3.8.8"
  }
 },
 "nbformat": 4,
 "nbformat_minor": 2
}
