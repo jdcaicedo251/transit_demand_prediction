{
 "cells": [
  {
   "cell_type": "code",
   "execution_count": 256,
   "metadata": {},
   "outputs": [],
   "source": [
    "import numpy as np \n",
    "import pandas as pd\n",
    "import os\n",
    "import time\n",
    "\n",
    "import data \n",
    "import sarima\n",
    "# import arima\n",
    "import utils\n",
    "import pmdarima as pm"
   ]
  },
  {
   "cell_type": "code",
   "execution_count": 2,
   "metadata": {},
   "outputs": [],
   "source": [
    "directory = 'output/arima'\n",
    "data_directory = 'data'\n",
    "aggregation = 'day'\n",
    "transformation = 'log'\n",
    "overwrite = False\n",
    "limit = None\n",
    "station = \"(02000) cabecera autopista norte\"\n",
    "# arima_models = arima.arimaClass(directory, data_directory, aggregation, transformation)\n"
   ]
  },
  {
   "cell_type": "code",
   "execution_count": 3,
   "metadata": {},
   "outputs": [],
   "source": [
    "path = os.path.join(directory, 'results', aggregation, station + '.json' )\n",
    "results = np.array(utils.read_json(path)['prediction'])"
   ]
  },
  {
   "cell_type": "code",
   "execution_count": 3,
   "metadata": {},
   "outputs": [],
   "source": [
    "train, test = data.split_data('data', aggregation = 'day')"
   ]
  },
  {
   "cell_type": "code",
   "execution_count": 4,
   "metadata": {},
   "outputs": [
    {
     "data": {
      "text/html": "<div>\n<style scoped>\n    .dataframe tbody tr th:only-of-type {\n        vertical-align: middle;\n    }\n\n    .dataframe tbody tr th {\n        vertical-align: top;\n    }\n\n    .dataframe thead th {\n        text-align: right;\n    }\n</style>\n<table border=\"1\" class=\"dataframe\">\n  <thead>\n    <tr style=\"text-align: right;\">\n      <th></th>\n      <th>year</th>\n      <th>month</th>\n      <th>day</th>\n      <th>dayofweek</th>\n      <th>weekday</th>\n      <th>(02000) cabecera autopista norte</th>\n      <th>(02001) centro comercial santa fe</th>\n      <th>(02101) toberin</th>\n      <th>(02102) calle 161</th>\n      <th>(02103) mazuren</th>\n      <th>...</th>\n      <th>(12004) carrera 22</th>\n      <th>(12007) zona industrial</th>\n      <th>(14001) la sabana</th>\n      <th>(14004) museo del oro</th>\n      <th>(14005) las aguas</th>\n      <th>(07010) bosa</th>\n      <th>(40000) cable portal tunal</th>\n      <th>(40001) juan pablo ii</th>\n      <th>(40002) manitas</th>\n      <th>(40003) mirador del paraiso</th>\n    </tr>\n  </thead>\n  <tbody>\n    <tr>\n      <th>0</th>\n      <td>2015</td>\n      <td>8</td>\n      <td>1</td>\n      <td>5</td>\n      <td>0</td>\n      <td>23912.0</td>\n      <td>0.0</td>\n      <td>0.0</td>\n      <td>0.0</td>\n      <td>6867.0</td>\n      <td>...</td>\n      <td>9135.0</td>\n      <td>5954.0</td>\n      <td>4632.0</td>\n      <td>6068.0</td>\n      <td>15035.0</td>\n      <td>0.0</td>\n      <td>0.0</td>\n      <td>0.0</td>\n      <td>0.0</td>\n      <td>0.0</td>\n    </tr>\n    <tr>\n      <th>1</th>\n      <td>2015</td>\n      <td>8</td>\n      <td>2</td>\n      <td>6</td>\n      <td>0</td>\n      <td>47197.0</td>\n      <td>0.0</td>\n      <td>0.0</td>\n      <td>0.0</td>\n      <td>2327.0</td>\n      <td>...</td>\n      <td>3431.0</td>\n      <td>1702.0</td>\n      <td>1645.0</td>\n      <td>0.0</td>\n      <td>4579.0</td>\n      <td>0.0</td>\n      <td>0.0</td>\n      <td>0.0</td>\n      <td>0.0</td>\n      <td>0.0</td>\n    </tr>\n    <tr>\n      <th>2</th>\n      <td>2015</td>\n      <td>8</td>\n      <td>3</td>\n      <td>0</td>\n      <td>1</td>\n      <td>110704.0</td>\n      <td>0.0</td>\n      <td>0.0</td>\n      <td>0.0</td>\n      <td>11468.0</td>\n      <td>...</td>\n      <td>8127.0</td>\n      <td>9023.0</td>\n      <td>5654.0</td>\n      <td>20975.0</td>\n      <td>29341.0</td>\n      <td>0.0</td>\n      <td>0.0</td>\n      <td>0.0</td>\n      <td>0.0</td>\n      <td>0.0</td>\n    </tr>\n    <tr>\n      <th>3</th>\n      <td>2015</td>\n      <td>8</td>\n      <td>4</td>\n      <td>1</td>\n      <td>1</td>\n      <td>115831.0</td>\n      <td>0.0</td>\n      <td>0.0</td>\n      <td>0.0</td>\n      <td>11857.0</td>\n      <td>...</td>\n      <td>7960.0</td>\n      <td>8671.0</td>\n      <td>5673.0</td>\n      <td>20465.0</td>\n      <td>32489.0</td>\n      <td>0.0</td>\n      <td>0.0</td>\n      <td>0.0</td>\n      <td>0.0</td>\n      <td>0.0</td>\n    </tr>\n    <tr>\n      <th>4</th>\n      <td>2015</td>\n      <td>8</td>\n      <td>5</td>\n      <td>2</td>\n      <td>1</td>\n      <td>115422.0</td>\n      <td>0.0</td>\n      <td>0.0</td>\n      <td>0.0</td>\n      <td>11841.0</td>\n      <td>...</td>\n      <td>8265.0</td>\n      <td>8493.0</td>\n      <td>5672.0</td>\n      <td>20307.0</td>\n      <td>32860.0</td>\n      <td>0.0</td>\n      <td>0.0</td>\n      <td>0.0</td>\n      <td>0.0</td>\n      <td>0.0</td>\n    </tr>\n    <tr>\n      <th>...</th>\n      <td>...</td>\n      <td>...</td>\n      <td>...</td>\n      <td>...</td>\n      <td>...</td>\n      <td>...</td>\n      <td>...</td>\n      <td>...</td>\n      <td>...</td>\n      <td>...</td>\n      <td>...</td>\n      <td>...</td>\n      <td>...</td>\n      <td>...</td>\n      <td>...</td>\n      <td>...</td>\n      <td>...</td>\n      <td>...</td>\n      <td>...</td>\n      <td>...</td>\n      <td>...</td>\n    </tr>\n    <tr>\n      <th>1091</th>\n      <td>2018</td>\n      <td>7</td>\n      <td>27</td>\n      <td>4</td>\n      <td>1</td>\n      <td>87302.0</td>\n      <td>12840.0</td>\n      <td>30739.0</td>\n      <td>5938.0</td>\n      <td>9551.0</td>\n      <td>...</td>\n      <td>6997.0</td>\n      <td>8103.0</td>\n      <td>4851.0</td>\n      <td>20794.0</td>\n      <td>19617.0</td>\n      <td>3367.0</td>\n      <td>0.0</td>\n      <td>0.0</td>\n      <td>0.0</td>\n      <td>0.0</td>\n    </tr>\n    <tr>\n      <th>1092</th>\n      <td>2018</td>\n      <td>7</td>\n      <td>28</td>\n      <td>5</td>\n      <td>0</td>\n      <td>64229.0</td>\n      <td>8405.0</td>\n      <td>15731.0</td>\n      <td>3436.0</td>\n      <td>5334.0</td>\n      <td>...</td>\n      <td>6209.0</td>\n      <td>4641.0</td>\n      <td>4218.0</td>\n      <td>7974.0</td>\n      <td>12198.0</td>\n      <td>2951.0</td>\n      <td>0.0</td>\n      <td>0.0</td>\n      <td>0.0</td>\n      <td>0.0</td>\n    </tr>\n    <tr>\n      <th>1093</th>\n      <td>2018</td>\n      <td>7</td>\n      <td>29</td>\n      <td>6</td>\n      <td>0</td>\n      <td>41493.0</td>\n      <td>3852.0</td>\n      <td>6195.0</td>\n      <td>1351.0</td>\n      <td>2307.0</td>\n      <td>...</td>\n      <td>2225.0</td>\n      <td>1321.0</td>\n      <td>1779.0</td>\n      <td>1.0</td>\n      <td>3614.0</td>\n      <td>1305.0</td>\n      <td>0.0</td>\n      <td>0.0</td>\n      <td>0.0</td>\n      <td>0.0</td>\n    </tr>\n    <tr>\n      <th>1094</th>\n      <td>2018</td>\n      <td>7</td>\n      <td>30</td>\n      <td>0</td>\n      <td>1</td>\n      <td>87818.0</td>\n      <td>12309.0</td>\n      <td>30249.0</td>\n      <td>5906.0</td>\n      <td>8898.0</td>\n      <td>...</td>\n      <td>6750.0</td>\n      <td>8277.0</td>\n      <td>5278.0</td>\n      <td>22011.0</td>\n      <td>19235.0</td>\n      <td>3000.0</td>\n      <td>0.0</td>\n      <td>0.0</td>\n      <td>0.0</td>\n      <td>0.0</td>\n    </tr>\n    <tr>\n      <th>1095</th>\n      <td>2018</td>\n      <td>7</td>\n      <td>31</td>\n      <td>1</td>\n      <td>1</td>\n      <td>87602.0</td>\n      <td>12702.0</td>\n      <td>30013.0</td>\n      <td>6075.0</td>\n      <td>9565.0</td>\n      <td>...</td>\n      <td>6736.0</td>\n      <td>7669.0</td>\n      <td>5468.0</td>\n      <td>22295.0</td>\n      <td>20467.0</td>\n      <td>3287.0</td>\n      <td>0.0</td>\n      <td>0.0</td>\n      <td>0.0</td>\n      <td>0.0</td>\n    </tr>\n  </tbody>\n</table>\n<p>1096 rows × 156 columns</p>\n</div>",
      "text/plain": "      year  month  day  dayofweek  weekday  (02000) cabecera autopista norte  \\\n0     2015      8    1          5        0                           23912.0   \n1     2015      8    2          6        0                           47197.0   \n2     2015      8    3          0        1                          110704.0   \n3     2015      8    4          1        1                          115831.0   \n4     2015      8    5          2        1                          115422.0   \n...    ...    ...  ...        ...      ...                               ...   \n1091  2018      7   27          4        1                           87302.0   \n1092  2018      7   28          5        0                           64229.0   \n1093  2018      7   29          6        0                           41493.0   \n1094  2018      7   30          0        1                           87818.0   \n1095  2018      7   31          1        1                           87602.0   \n\n      (02001) centro comercial santa fe  (02101) toberin  (02102) calle 161  \\\n0                                   0.0              0.0                0.0   \n1                                   0.0              0.0                0.0   \n2                                   0.0              0.0                0.0   \n3                                   0.0              0.0                0.0   \n4                                   0.0              0.0                0.0   \n...                                 ...              ...                ...   \n1091                            12840.0          30739.0             5938.0   \n1092                             8405.0          15731.0             3436.0   \n1093                             3852.0           6195.0             1351.0   \n1094                            12309.0          30249.0             5906.0   \n1095                            12702.0          30013.0             6075.0   \n\n      (02103) mazuren  ...  (12004) carrera 22  (12007) zona industrial  \\\n0              6867.0  ...              9135.0                   5954.0   \n1              2327.0  ...              3431.0                   1702.0   \n2             11468.0  ...              8127.0                   9023.0   \n3             11857.0  ...              7960.0                   8671.0   \n4             11841.0  ...              8265.0                   8493.0   \n...               ...  ...                 ...                      ...   \n1091           9551.0  ...              6997.0                   8103.0   \n1092           5334.0  ...              6209.0                   4641.0   \n1093           2307.0  ...              2225.0                   1321.0   \n1094           8898.0  ...              6750.0                   8277.0   \n1095           9565.0  ...              6736.0                   7669.0   \n\n      (14001) la sabana  (14004) museo del oro  (14005) las aguas  \\\n0                4632.0                 6068.0            15035.0   \n1                1645.0                    0.0             4579.0   \n2                5654.0                20975.0            29341.0   \n3                5673.0                20465.0            32489.0   \n4                5672.0                20307.0            32860.0   \n...                 ...                    ...                ...   \n1091             4851.0                20794.0            19617.0   \n1092             4218.0                 7974.0            12198.0   \n1093             1779.0                    1.0             3614.0   \n1094             5278.0                22011.0            19235.0   \n1095             5468.0                22295.0            20467.0   \n\n      (07010) bosa  (40000) cable portal tunal  (40001) juan pablo ii  \\\n0              0.0                         0.0                    0.0   \n1              0.0                         0.0                    0.0   \n2              0.0                         0.0                    0.0   \n3              0.0                         0.0                    0.0   \n4              0.0                         0.0                    0.0   \n...            ...                         ...                    ...   \n1091        3367.0                         0.0                    0.0   \n1092        2951.0                         0.0                    0.0   \n1093        1305.0                         0.0                    0.0   \n1094        3000.0                         0.0                    0.0   \n1095        3287.0                         0.0                    0.0   \n\n      (40002) manitas  (40003) mirador del paraiso  \n0                 0.0                          0.0  \n1                 0.0                          0.0  \n2                 0.0                          0.0  \n3                 0.0                          0.0  \n4                 0.0                          0.0  \n...               ...                          ...  \n1091              0.0                          0.0  \n1092              0.0                          0.0  \n1093              0.0                          0.0  \n1094              0.0                          0.0  \n1095              0.0                          0.0  \n\n[1096 rows x 156 columns]"
     },
     "execution_count": 4,
     "metadata": {},
     "output_type": "execute_result"
    }
   ],
   "source": [
    "train"
   ]
  },
  {
   "cell_type": "code",
   "execution_count": 8,
   "metadata": {},
   "outputs": [],
   "source": [
    "stations = train.columns.str.contains(\"\\(\")\n",
    "stations = train.columns[stations]"
   ]
  },
  {
   "cell_type": "code",
   "execution_count": 14,
   "metadata": {},
   "outputs": [
    {
     "data": {
      "text/html": "<div>\n<style scoped>\n    .dataframe tbody tr th:only-of-type {\n        vertical-align: middle;\n    }\n\n    .dataframe tbody tr th {\n        vertical-align: top;\n    }\n\n    .dataframe thead th {\n        text-align: right;\n    }\n</style>\n<table border=\"1\" class=\"dataframe\">\n  <thead>\n    <tr style=\"text-align: right;\">\n      <th></th>\n      <th>(02000) cabecera autopista norte</th>\n      <th>(02001) centro comercial santa fe</th>\n      <th>(02101) toberin</th>\n      <th>(02102) calle 161</th>\n      <th>(02103) mazuren</th>\n      <th>(02104) calle 146</th>\n      <th>(02105) calle 142</th>\n      <th>(02200) alcala</th>\n      <th>(02201) prado</th>\n      <th>(02202) calle 127</th>\n      <th>...</th>\n      <th>(12004) carrera 22</th>\n      <th>(12007) zona industrial</th>\n      <th>(14001) la sabana</th>\n      <th>(14004) museo del oro</th>\n      <th>(14005) las aguas</th>\n      <th>(07010) bosa</th>\n      <th>(40000) cable portal tunal</th>\n      <th>(40001) juan pablo ii</th>\n      <th>(40002) manitas</th>\n      <th>(40003) mirador del paraiso</th>\n    </tr>\n  </thead>\n  <tbody>\n    <tr>\n      <th>0</th>\n      <td>10.082178</td>\n      <td>0.000000</td>\n      <td>0.000000</td>\n      <td>0.000000</td>\n      <td>8.834628</td>\n      <td>9.161570</td>\n      <td>9.801289</td>\n      <td>10.503560</td>\n      <td>0.000000</td>\n      <td>9.647110</td>\n      <td>...</td>\n      <td>9.119978</td>\n      <td>8.691986</td>\n      <td>8.440960</td>\n      <td>8.710949</td>\n      <td>9.618203</td>\n      <td>0.000000</td>\n      <td>0.0</td>\n      <td>0.0</td>\n      <td>0.0</td>\n      <td>0.0</td>\n    </tr>\n    <tr>\n      <th>1</th>\n      <td>10.762107</td>\n      <td>0.000000</td>\n      <td>0.000000</td>\n      <td>0.000000</td>\n      <td>7.752765</td>\n      <td>8.387540</td>\n      <td>8.706987</td>\n      <td>9.584040</td>\n      <td>0.000000</td>\n      <td>8.518193</td>\n      <td>...</td>\n      <td>8.140898</td>\n      <td>7.440147</td>\n      <td>7.406103</td>\n      <td>0.000000</td>\n      <td>8.429454</td>\n      <td>0.000000</td>\n      <td>0.0</td>\n      <td>0.0</td>\n      <td>0.0</td>\n      <td>0.0</td>\n    </tr>\n    <tr>\n      <th>2</th>\n      <td>11.614624</td>\n      <td>0.000000</td>\n      <td>0.000000</td>\n      <td>0.000000</td>\n      <td>9.347403</td>\n      <td>9.617537</td>\n      <td>10.263013</td>\n      <td>10.974780</td>\n      <td>0.000000</td>\n      <td>10.083557</td>\n      <td>...</td>\n      <td>9.003070</td>\n      <td>9.107643</td>\n      <td>8.640295</td>\n      <td>9.951134</td>\n      <td>10.286775</td>\n      <td>0.000000</td>\n      <td>0.0</td>\n      <td>0.0</td>\n      <td>0.0</td>\n      <td>0.0</td>\n    </tr>\n    <tr>\n      <th>3</th>\n      <td>11.659896</td>\n      <td>0.000000</td>\n      <td>0.000000</td>\n      <td>0.000000</td>\n      <td>9.380758</td>\n      <td>9.675645</td>\n      <td>10.295699</td>\n      <td>11.026126</td>\n      <td>0.000000</td>\n      <td>10.088514</td>\n      <td>...</td>\n      <td>8.982310</td>\n      <td>9.067855</td>\n      <td>8.643650</td>\n      <td>9.926520</td>\n      <td>10.388688</td>\n      <td>0.000000</td>\n      <td>0.0</td>\n      <td>0.0</td>\n      <td>0.0</td>\n      <td>0.0</td>\n    </tr>\n    <tr>\n      <th>4</th>\n      <td>11.656359</td>\n      <td>0.000000</td>\n      <td>0.000000</td>\n      <td>0.000000</td>\n      <td>9.379408</td>\n      <td>9.657203</td>\n      <td>10.291637</td>\n      <td>11.018842</td>\n      <td>0.000000</td>\n      <td>10.090506</td>\n      <td>...</td>\n      <td>9.019906</td>\n      <td>9.047115</td>\n      <td>8.643473</td>\n      <td>9.918770</td>\n      <td>10.400042</td>\n      <td>0.000000</td>\n      <td>0.0</td>\n      <td>0.0</td>\n      <td>0.0</td>\n      <td>0.0</td>\n    </tr>\n    <tr>\n      <th>...</th>\n      <td>...</td>\n      <td>...</td>\n      <td>...</td>\n      <td>...</td>\n      <td>...</td>\n      <td>...</td>\n      <td>...</td>\n      <td>...</td>\n      <td>...</td>\n      <td>...</td>\n      <td>...</td>\n      <td>...</td>\n      <td>...</td>\n      <td>...</td>\n      <td>...</td>\n      <td>...</td>\n      <td>...</td>\n      <td>...</td>\n      <td>...</td>\n      <td>...</td>\n      <td>...</td>\n    </tr>\n    <tr>\n      <th>1091</th>\n      <td>11.377140</td>\n      <td>9.460398</td>\n      <td>10.333320</td>\n      <td>8.689296</td>\n      <td>9.164506</td>\n      <td>9.788021</td>\n      <td>10.340807</td>\n      <td>11.027361</td>\n      <td>9.565073</td>\n      <td>10.077945</td>\n      <td>...</td>\n      <td>8.853380</td>\n      <td>9.000113</td>\n      <td>8.487146</td>\n      <td>9.942468</td>\n      <td>9.884203</td>\n      <td>8.122074</td>\n      <td>0.0</td>\n      <td>0.0</td>\n      <td>0.0</td>\n      <td>0.0</td>\n    </tr>\n    <tr>\n      <th>1092</th>\n      <td>11.070226</td>\n      <td>9.036701</td>\n      <td>9.663452</td>\n      <td>8.142354</td>\n      <td>8.582044</td>\n      <td>9.186253</td>\n      <td>9.851036</td>\n      <td>10.457171</td>\n      <td>9.140347</td>\n      <td>9.585415</td>\n      <td>...</td>\n      <td>8.733916</td>\n      <td>8.442901</td>\n      <td>8.347353</td>\n      <td>8.984067</td>\n      <td>9.409109</td>\n      <td>7.990238</td>\n      <td>0.0</td>\n      <td>0.0</td>\n      <td>0.0</td>\n      <td>0.0</td>\n    </tr>\n    <tr>\n      <th>1093</th>\n      <td>10.633304</td>\n      <td>8.256607</td>\n      <td>8.731659</td>\n      <td>7.209340</td>\n      <td>7.744137</td>\n      <td>8.427487</td>\n      <td>8.808369</td>\n      <td>9.500395</td>\n      <td>8.291045</td>\n      <td>8.506132</td>\n      <td>...</td>\n      <td>7.707962</td>\n      <td>7.186901</td>\n      <td>7.484369</td>\n      <td>0.693147</td>\n      <td>8.192847</td>\n      <td>7.174724</td>\n      <td>0.0</td>\n      <td>0.0</td>\n      <td>0.0</td>\n      <td>0.0</td>\n    </tr>\n    <tr>\n      <th>1094</th>\n      <td>11.383033</td>\n      <td>9.418167</td>\n      <td>10.317251</td>\n      <td>8.683893</td>\n      <td>9.093694</td>\n      <td>9.769327</td>\n      <td>10.302532</td>\n      <td>10.997891</td>\n      <td>9.582731</td>\n      <td>10.061175</td>\n      <td>...</td>\n      <td>8.817446</td>\n      <td>9.021357</td>\n      <td>8.571492</td>\n      <td>9.999343</td>\n      <td>9.864539</td>\n      <td>8.006701</td>\n      <td>0.0</td>\n      <td>0.0</td>\n      <td>0.0</td>\n      <td>0.0</td>\n    </tr>\n    <tr>\n      <th>1095</th>\n      <td>11.380571</td>\n      <td>9.449593</td>\n      <td>10.309419</td>\n      <td>8.712102</td>\n      <td>9.165970</td>\n      <td>9.784310</td>\n      <td>10.322757</td>\n      <td>11.027816</td>\n      <td>9.584521</td>\n      <td>10.077525</td>\n      <td>...</td>\n      <td>8.815370</td>\n      <td>8.945072</td>\n      <td>8.606851</td>\n      <td>10.012163</td>\n      <td>9.926618</td>\n      <td>8.098035</td>\n      <td>0.0</td>\n      <td>0.0</td>\n      <td>0.0</td>\n      <td>0.0</td>\n    </tr>\n  </tbody>\n</table>\n<p>1096 rows × 151 columns</p>\n</div>",
      "text/plain": "      (02000) cabecera autopista norte  (02001) centro comercial santa fe  \\\n0                            10.082178                           0.000000   \n1                            10.762107                           0.000000   \n2                            11.614624                           0.000000   \n3                            11.659896                           0.000000   \n4                            11.656359                           0.000000   \n...                                ...                                ...   \n1091                         11.377140                           9.460398   \n1092                         11.070226                           9.036701   \n1093                         10.633304                           8.256607   \n1094                         11.383033                           9.418167   \n1095                         11.380571                           9.449593   \n\n      (02101) toberin  (02102) calle 161  (02103) mazuren  (02104) calle 146  \\\n0            0.000000           0.000000         8.834628           9.161570   \n1            0.000000           0.000000         7.752765           8.387540   \n2            0.000000           0.000000         9.347403           9.617537   \n3            0.000000           0.000000         9.380758           9.675645   \n4            0.000000           0.000000         9.379408           9.657203   \n...               ...                ...              ...                ...   \n1091        10.333320           8.689296         9.164506           9.788021   \n1092         9.663452           8.142354         8.582044           9.186253   \n1093         8.731659           7.209340         7.744137           8.427487   \n1094        10.317251           8.683893         9.093694           9.769327   \n1095        10.309419           8.712102         9.165970           9.784310   \n\n      (02105) calle 142  (02200) alcala  (02201) prado  (02202) calle 127  \\\n0              9.801289       10.503560       0.000000           9.647110   \n1              8.706987        9.584040       0.000000           8.518193   \n2             10.263013       10.974780       0.000000          10.083557   \n3             10.295699       11.026126       0.000000          10.088514   \n4             10.291637       11.018842       0.000000          10.090506   \n...                 ...             ...            ...                ...   \n1091          10.340807       11.027361       9.565073          10.077945   \n1092           9.851036       10.457171       9.140347           9.585415   \n1093           8.808369        9.500395       8.291045           8.506132   \n1094          10.302532       10.997891       9.582731          10.061175   \n1095          10.322757       11.027816       9.584521          10.077525   \n\n      ...  (12004) carrera 22  (12007) zona industrial  (14001) la sabana  \\\n0     ...            9.119978                 8.691986           8.440960   \n1     ...            8.140898                 7.440147           7.406103   \n2     ...            9.003070                 9.107643           8.640295   \n3     ...            8.982310                 9.067855           8.643650   \n4     ...            9.019906                 9.047115           8.643473   \n...   ...                 ...                      ...                ...   \n1091  ...            8.853380                 9.000113           8.487146   \n1092  ...            8.733916                 8.442901           8.347353   \n1093  ...            7.707962                 7.186901           7.484369   \n1094  ...            8.817446                 9.021357           8.571492   \n1095  ...            8.815370                 8.945072           8.606851   \n\n      (14004) museo del oro  (14005) las aguas  (07010) bosa  \\\n0                  8.710949           9.618203      0.000000   \n1                  0.000000           8.429454      0.000000   \n2                  9.951134          10.286775      0.000000   \n3                  9.926520          10.388688      0.000000   \n4                  9.918770          10.400042      0.000000   \n...                     ...                ...           ...   \n1091               9.942468           9.884203      8.122074   \n1092               8.984067           9.409109      7.990238   \n1093               0.693147           8.192847      7.174724   \n1094               9.999343           9.864539      8.006701   \n1095              10.012163           9.926618      8.098035   \n\n      (40000) cable portal tunal  (40001) juan pablo ii  (40002) manitas  \\\n0                            0.0                    0.0              0.0   \n1                            0.0                    0.0              0.0   \n2                            0.0                    0.0              0.0   \n3                            0.0                    0.0              0.0   \n4                            0.0                    0.0              0.0   \n...                          ...                    ...              ...   \n1091                         0.0                    0.0              0.0   \n1092                         0.0                    0.0              0.0   \n1093                         0.0                    0.0              0.0   \n1094                         0.0                    0.0              0.0   \n1095                         0.0                    0.0              0.0   \n\n      (40003) mirador del paraiso  \n0                             0.0  \n1                             0.0  \n2                             0.0  \n3                             0.0  \n4                             0.0  \n...                           ...  \n1091                          0.0  \n1092                          0.0  \n1093                          0.0  \n1094                          0.0  \n1095                          0.0  \n\n[1096 rows x 151 columns]"
     },
     "execution_count": 14,
     "metadata": {},
     "output_type": "execute_result"
    }
   ],
   "source": [
    "train[stations]"
   ]
  },
  {
   "cell_type": "code",
   "execution_count": 12,
   "metadata": {},
   "outputs": [
    {
     "data": {
      "text/plain": "(02000) cabecera autopista norte     11.322723\n(02001) centro comercial santa fe     9.044109\n(02101) toberin                       9.663826\n(02102) calle 161                     8.424390\n(02103) mazuren                       8.915666\n                                       ...    \n(07010) bosa                          6.553638\n(40000) cable portal tunal            0.000000\n(40001) juan pablo ii                 0.000000\n(40002) manitas                       0.000000\n(40003) mirador del paraiso           0.000000\nLength: 151, dtype: float64"
     },
     "execution_count": 12,
     "metadata": {},
     "output_type": "execute_result"
    }
   ],
   "source": [
    "train[stations].mean(axis = 0)"
   ]
  },
  {
   "cell_type": "code",
   "execution_count": 15,
   "metadata": {},
   "outputs": [
    {
     "data": {
      "text/html": "<div>\n<style scoped>\n    .dataframe tbody tr th:only-of-type {\n        vertical-align: middle;\n    }\n\n    .dataframe tbody tr th {\n        vertical-align: top;\n    }\n\n    .dataframe thead th {\n        text-align: right;\n    }\n</style>\n<table border=\"1\" class=\"dataframe\">\n  <thead>\n    <tr style=\"text-align: right;\">\n      <th></th>\n      <th>(02000) cabecera autopista norte</th>\n      <th>(02001) centro comercial santa fe</th>\n      <th>(02101) toberin</th>\n      <th>(02102) calle 161</th>\n      <th>(02103) mazuren</th>\n      <th>(02104) calle 146</th>\n      <th>(02105) calle 142</th>\n      <th>(02200) alcala</th>\n      <th>(02201) prado</th>\n      <th>(02202) calle 127</th>\n      <th>...</th>\n      <th>(12004) carrera 22</th>\n      <th>(12007) zona industrial</th>\n      <th>(14001) la sabana</th>\n      <th>(14004) museo del oro</th>\n      <th>(14005) las aguas</th>\n      <th>(07010) bosa</th>\n      <th>(40000) cable portal tunal</th>\n      <th>(40001) juan pablo ii</th>\n      <th>(40002) manitas</th>\n      <th>(40003) mirador del paraiso</th>\n    </tr>\n  </thead>\n  <tbody>\n    <tr>\n      <th>0</th>\n      <td>-3.111359</td>\n      <td>-6.761104</td>\n      <td>-8.259953</td>\n      <td>-7.630117</td>\n      <td>-0.115856</td>\n      <td>0.193204</td>\n      <td>-0.203781</td>\n      <td>-0.210518</td>\n      <td>-8.574557</td>\n      <td>-0.047336</td>\n      <td>...</td>\n      <td>0.792392</td>\n      <td>0.135752</td>\n      <td>0.266649</td>\n      <td>0.544969</td>\n      <td>0.036804</td>\n      <td>-2.224312</td>\n      <td>NaN</td>\n      <td>NaN</td>\n      <td>NaN</td>\n      <td>NaN</td>\n    </tr>\n    <tr>\n      <th>1</th>\n      <td>-1.406057</td>\n      <td>-6.761104</td>\n      <td>-8.259953</td>\n      <td>-7.630117</td>\n      <td>-1.662539</td>\n      <td>-0.131070</td>\n      <td>-1.868517</td>\n      <td>-1.679496</td>\n      <td>-8.574557</td>\n      <td>-1.802633</td>\n      <td>...</td>\n      <td>-1.214979</td>\n      <td>-1.660833</td>\n      <td>-1.623001</td>\n      <td>-1.317356</td>\n      <td>-1.342202</td>\n      <td>-2.224312</td>\n      <td>NaN</td>\n      <td>NaN</td>\n      <td>NaN</td>\n      <td>NaN</td>\n    </tr>\n    <tr>\n      <th>2</th>\n      <td>0.732106</td>\n      <td>-6.761104</td>\n      <td>-8.259953</td>\n      <td>-7.630117</td>\n      <td>0.617232</td>\n      <td>0.384228</td>\n      <td>0.498630</td>\n      <td>0.542280</td>\n      <td>-8.574557</td>\n      <td>0.631272</td>\n      <td>...</td>\n      <td>0.552701</td>\n      <td>0.732284</td>\n      <td>0.630636</td>\n      <td>0.810110</td>\n      <td>0.812381</td>\n      <td>-2.224312</td>\n      <td>NaN</td>\n      <td>NaN</td>\n      <td>NaN</td>\n      <td>NaN</td>\n    </tr>\n    <tr>\n      <th>3</th>\n      <td>0.845650</td>\n      <td>-6.761104</td>\n      <td>-8.259953</td>\n      <td>-7.630117</td>\n      <td>0.664918</td>\n      <td>0.408572</td>\n      <td>0.548353</td>\n      <td>0.624307</td>\n      <td>-8.574557</td>\n      <td>0.638979</td>\n      <td>...</td>\n      <td>0.510137</td>\n      <td>0.675181</td>\n      <td>0.636761</td>\n      <td>0.804848</td>\n      <td>0.930604</td>\n      <td>-2.224312</td>\n      <td>NaN</td>\n      <td>NaN</td>\n      <td>NaN</td>\n      <td>NaN</td>\n    </tr>\n    <tr>\n      <th>4</th>\n      <td>0.836779</td>\n      <td>-6.761104</td>\n      <td>-8.259953</td>\n      <td>-7.630117</td>\n      <td>0.662987</td>\n      <td>0.400846</td>\n      <td>0.542174</td>\n      <td>0.612672</td>\n      <td>-8.574557</td>\n      <td>0.642078</td>\n      <td>...</td>\n      <td>0.587218</td>\n      <td>0.645417</td>\n      <td>0.636439</td>\n      <td>0.803191</td>\n      <td>0.943776</td>\n      <td>-2.224312</td>\n      <td>NaN</td>\n      <td>NaN</td>\n      <td>NaN</td>\n      <td>NaN</td>\n    </tr>\n    <tr>\n      <th>...</th>\n      <td>...</td>\n      <td>...</td>\n      <td>...</td>\n      <td>...</td>\n      <td>...</td>\n      <td>...</td>\n      <td>...</td>\n      <td>...</td>\n      <td>...</td>\n      <td>...</td>\n      <td>...</td>\n      <td>...</td>\n      <td>...</td>\n      <td>...</td>\n      <td>...</td>\n      <td>...</td>\n      <td>...</td>\n      <td>...</td>\n      <td>...</td>\n      <td>...</td>\n      <td>...</td>\n    </tr>\n    <tr>\n      <th>1091</th>\n      <td>0.136482</td>\n      <td>0.311205</td>\n      <td>0.572236</td>\n      <td>0.239930</td>\n      <td>0.355753</td>\n      <td>0.455651</td>\n      <td>0.616974</td>\n      <td>0.626281</td>\n      <td>0.346508</td>\n      <td>0.622547</td>\n      <td>...</td>\n      <td>0.245796</td>\n      <td>0.577962</td>\n      <td>0.350985</td>\n      <td>0.808257</td>\n      <td>0.345377</td>\n      <td>0.532329</td>\n      <td>NaN</td>\n      <td>NaN</td>\n      <td>NaN</td>\n      <td>NaN</td>\n    </tr>\n    <tr>\n      <th>1092</th>\n      <td>-0.633277</td>\n      <td>-0.005538</td>\n      <td>-0.000320</td>\n      <td>-0.255445</td>\n      <td>-0.476962</td>\n      <td>0.203545</td>\n      <td>-0.128103</td>\n      <td>-0.284625</td>\n      <td>-0.049622</td>\n      <td>-0.143263</td>\n      <td>...</td>\n      <td>0.000864</td>\n      <td>-0.221725</td>\n      <td>0.095723</td>\n      <td>0.603360</td>\n      <td>-0.205755</td>\n      <td>0.487584</td>\n      <td>NaN</td>\n      <td>NaN</td>\n      <td>NaN</td>\n      <td>NaN</td>\n    </tr>\n    <tr>\n      <th>1093</th>\n      <td>-1.729102</td>\n      <td>-0.588713</td>\n      <td>-0.796750</td>\n      <td>-1.100492</td>\n      <td>-1.674875</td>\n      <td>-0.114334</td>\n      <td>-1.714287</td>\n      <td>-1.813123</td>\n      <td>-0.841741</td>\n      <td>-1.821385</td>\n      <td>...</td>\n      <td>-2.102614</td>\n      <td>-2.024279</td>\n      <td>-1.480088</td>\n      <td>-1.169167</td>\n      <td>-1.616678</td>\n      <td>0.210798</td>\n      <td>NaN</td>\n      <td>NaN</td>\n      <td>NaN</td>\n      <td>NaN</td>\n    </tr>\n    <tr>\n      <th>1094</th>\n      <td>0.151262</td>\n      <td>0.279634</td>\n      <td>0.558501</td>\n      <td>0.235036</td>\n      <td>0.254518</td>\n      <td>0.447819</td>\n      <td>0.558748</td>\n      <td>0.579201</td>\n      <td>0.362977</td>\n      <td>0.596472</td>\n      <td>...</td>\n      <td>0.172122</td>\n      <td>0.608449</td>\n      <td>0.505001</td>\n      <td>0.820417</td>\n      <td>0.322566</td>\n      <td>0.493171</td>\n      <td>NaN</td>\n      <td>NaN</td>\n      <td>NaN</td>\n      <td>NaN</td>\n    </tr>\n    <tr>\n      <th>1095</th>\n      <td>0.145085</td>\n      <td>0.303128</td>\n      <td>0.551807</td>\n      <td>0.260585</td>\n      <td>0.357847</td>\n      <td>0.454096</td>\n      <td>0.589516</td>\n      <td>0.627008</td>\n      <td>0.364647</td>\n      <td>0.621893</td>\n      <td>...</td>\n      <td>0.167866</td>\n      <td>0.498969</td>\n      <td>0.569566</td>\n      <td>0.823158</td>\n      <td>0.394581</td>\n      <td>0.524170</td>\n      <td>NaN</td>\n      <td>NaN</td>\n      <td>NaN</td>\n      <td>NaN</td>\n    </tr>\n  </tbody>\n</table>\n<p>1096 rows × 151 columns</p>\n</div>",
      "text/plain": "      (02000) cabecera autopista norte  (02001) centro comercial santa fe  \\\n0                            -3.111359                          -6.761104   \n1                            -1.406057                          -6.761104   \n2                             0.732106                          -6.761104   \n3                             0.845650                          -6.761104   \n4                             0.836779                          -6.761104   \n...                                ...                                ...   \n1091                          0.136482                           0.311205   \n1092                         -0.633277                          -0.005538   \n1093                         -1.729102                          -0.588713   \n1094                          0.151262                           0.279634   \n1095                          0.145085                           0.303128   \n\n      (02101) toberin  (02102) calle 161  (02103) mazuren  (02104) calle 146  \\\n0           -8.259953          -7.630117        -0.115856           0.193204   \n1           -8.259953          -7.630117        -1.662539          -0.131070   \n2           -8.259953          -7.630117         0.617232           0.384228   \n3           -8.259953          -7.630117         0.664918           0.408572   \n4           -8.259953          -7.630117         0.662987           0.400846   \n...               ...                ...              ...                ...   \n1091         0.572236           0.239930         0.355753           0.455651   \n1092        -0.000320          -0.255445        -0.476962           0.203545   \n1093        -0.796750          -1.100492        -1.674875          -0.114334   \n1094         0.558501           0.235036         0.254518           0.447819   \n1095         0.551807           0.260585         0.357847           0.454096   \n\n      (02105) calle 142  (02200) alcala  (02201) prado  (02202) calle 127  \\\n0             -0.203781       -0.210518      -8.574557          -0.047336   \n1             -1.868517       -1.679496      -8.574557          -1.802633   \n2              0.498630        0.542280      -8.574557           0.631272   \n3              0.548353        0.624307      -8.574557           0.638979   \n4              0.542174        0.612672      -8.574557           0.642078   \n...                 ...             ...            ...                ...   \n1091           0.616974        0.626281       0.346508           0.622547   \n1092          -0.128103       -0.284625      -0.049622          -0.143263   \n1093          -1.714287       -1.813123      -0.841741          -1.821385   \n1094           0.558748        0.579201       0.362977           0.596472   \n1095           0.589516        0.627008       0.364647           0.621893   \n\n      ...  (12004) carrera 22  (12007) zona industrial  (14001) la sabana  \\\n0     ...            0.792392                 0.135752           0.266649   \n1     ...           -1.214979                -1.660833          -1.623001   \n2     ...            0.552701                 0.732284           0.630636   \n3     ...            0.510137                 0.675181           0.636761   \n4     ...            0.587218                 0.645417           0.636439   \n...   ...                 ...                      ...                ...   \n1091  ...            0.245796                 0.577962           0.350985   \n1092  ...            0.000864                -0.221725           0.095723   \n1093  ...           -2.102614                -2.024279          -1.480088   \n1094  ...            0.172122                 0.608449           0.505001   \n1095  ...            0.167866                 0.498969           0.569566   \n\n      (14004) museo del oro  (14005) las aguas  (07010) bosa  \\\n0                  0.544969           0.036804     -2.224312   \n1                 -1.317356          -1.342202     -2.224312   \n2                  0.810110           0.812381     -2.224312   \n3                  0.804848           0.930604     -2.224312   \n4                  0.803191           0.943776     -2.224312   \n...                     ...                ...           ...   \n1091               0.808257           0.345377      0.532329   \n1092               0.603360          -0.205755      0.487584   \n1093              -1.169167          -1.616678      0.210798   \n1094               0.820417           0.322566      0.493171   \n1095               0.823158           0.394581      0.524170   \n\n      (40000) cable portal tunal  (40001) juan pablo ii  (40002) manitas  \\\n0                            NaN                    NaN              NaN   \n1                            NaN                    NaN              NaN   \n2                            NaN                    NaN              NaN   \n3                            NaN                    NaN              NaN   \n4                            NaN                    NaN              NaN   \n...                          ...                    ...              ...   \n1091                         NaN                    NaN              NaN   \n1092                         NaN                    NaN              NaN   \n1093                         NaN                    NaN              NaN   \n1094                         NaN                    NaN              NaN   \n1095                         NaN                    NaN              NaN   \n\n      (40003) mirador del paraiso  \n0                             NaN  \n1                             NaN  \n2                             NaN  \n3                             NaN  \n4                             NaN  \n...                           ...  \n1091                          NaN  \n1092                          NaN  \n1093                          NaN  \n1094                          NaN  \n1095                          NaN  \n\n[1096 rows x 151 columns]"
     },
     "execution_count": 15,
     "metadata": {},
     "output_type": "execute_result"
    }
   ],
   "source": [
    "(train[stations] - train[stations].mean(axis = 0))/(train[stations].std(axis = 0))"
   ]
  },
  {
   "cell_type": "code",
   "execution_count": 5,
   "metadata": {},
   "outputs": [
    {
     "data": {
      "text/plain": "<AxesSubplot:ylabel='Frequency'>"
     },
     "execution_count": 5,
     "metadata": {},
     "output_type": "execute_result"
    },
    {
     "data": {
      "image/png": "[encoded data removed]",
      "text/plain": "<Figure size 432x288 with 1 Axes>"
     },
     "metadata": {
      "needs_background": "light"
     },
     "output_type": "display_data"
    }
   ],
   "source": [
    "train[station].plot.hist()"
   ]
  },
  {
   "cell_type": "code",
   "execution_count": 37,
   "metadata": {},
   "outputs": [],
   "source": [
    "path = os.path.join(directory, 'models', aggregation, 'train', station + '.pkl' )\n",
    "model = utils.read_plk(path)"
   ]
  },
  {
   "cell_type": "code",
   "execution_count": 42,
   "metadata": {},
   "outputs": [
    {
     "data": {
      "text/html": "<table class=\"simpletable\">\n<caption>SARIMAX Results</caption>\n<tr>\n  <th>Dep. Variable:</th>           <td>y</td>        <th>  No. Observations:  </th>   <td>1096</td>   \n</tr>\n<tr>\n  <th>Model:</th>           <td>SARIMAX(9, 0, 6)</td> <th>  Log Likelihood     </th> <td>-4998.427</td>\n</tr>\n<tr>\n  <th>Date:</th>            <td>Wed, 03 Nov 2021</td> <th>  AIC                </th> <td>10030.855</td>\n</tr>\n<tr>\n  <th>Time:</th>                <td>15:33:49</td>     <th>  BIC                </th> <td>10115.845</td>\n</tr>\n<tr>\n  <th>Sample:</th>                  <td>0</td>        <th>  HQIC               </th> <td>10063.013</td>\n</tr>\n<tr>\n  <th></th>                      <td> - 1096</td>     <th>                     </th>     <td> </td>    \n</tr>\n<tr>\n  <th>Covariance Type:</th>        <td>opg</td>       <th>                     </th>     <td> </td>    \n</tr>\n</table>\n<table class=\"simpletable\">\n<tr>\n      <td></td>         <th>coef</th>     <th>std err</th>      <th>z</th>      <th>P>|z|</th>  <th>[0.025</th>    <th>0.975]</th>  \n</tr>\n<tr>\n  <th>intercept</th> <td>  168.1770</td> <td>  133.175</td> <td>    1.263</td> <td> 0.207</td> <td>  -92.841</td> <td>  429.195</td>\n</tr>\n<tr>\n  <th>ar.L1</th>     <td>   -0.6060</td> <td>    0.049</td> <td>  -12.247</td> <td> 0.000</td> <td>   -0.703</td> <td>   -0.509</td>\n</tr>\n<tr>\n  <th>ar.L2</th>     <td>   -0.2429</td> <td>    0.059</td> <td>   -4.137</td> <td> 0.000</td> <td>   -0.358</td> <td>   -0.128</td>\n</tr>\n<tr>\n  <th>ar.L3</th>     <td>   -0.0317</td> <td>    0.045</td> <td>   -0.707</td> <td> 0.480</td> <td>   -0.120</td> <td>    0.056</td>\n</tr>\n<tr>\n  <th>ar.L4</th>     <td>   -0.0261</td> <td>    0.041</td> <td>   -0.630</td> <td> 0.529</td> <td>   -0.107</td> <td>    0.055</td>\n</tr>\n<tr>\n  <th>ar.L5</th>     <td>   -0.0362</td> <td>    0.037</td> <td>   -0.971</td> <td> 0.332</td> <td>   -0.109</td> <td>    0.037</td>\n</tr>\n<tr>\n  <th>ar.L6</th>     <td>   -0.0475</td> <td>    0.036</td> <td>   -1.312</td> <td> 0.190</td> <td>   -0.118</td> <td>    0.023</td>\n</tr>\n<tr>\n  <th>ar.L7</th>     <td>    0.9273</td> <td>    0.039</td> <td>   23.809</td> <td> 0.000</td> <td>    0.851</td> <td>    1.004</td>\n</tr>\n<tr>\n  <th>ar.L8</th>     <td>    0.5421</td> <td>    0.055</td> <td>    9.880</td> <td> 0.000</td> <td>    0.435</td> <td>    0.650</td>\n</tr>\n<tr>\n  <th>ar.L9</th>     <td>    0.1928</td> <td>    0.047</td> <td>    4.075</td> <td> 0.000</td> <td>    0.100</td> <td>    0.286</td>\n</tr>\n<tr>\n  <th>ma.L1</th>     <td>    1.0359</td> <td>    0.045</td> <td>   22.942</td> <td> 0.000</td> <td>    0.947</td> <td>    1.124</td>\n</tr>\n<tr>\n  <th>ma.L2</th>     <td>    0.8518</td> <td>    0.068</td> <td>   12.469</td> <td> 0.000</td> <td>    0.718</td> <td>    0.986</td>\n</tr>\n<tr>\n  <th>ma.L3</th>     <td>    0.5960</td> <td>    0.069</td> <td>    8.594</td> <td> 0.000</td> <td>    0.460</td> <td>    0.732</td>\n</tr>\n<tr>\n  <th>ma.L4</th>     <td>    0.4421</td> <td>    0.059</td> <td>    7.555</td> <td> 0.000</td> <td>    0.327</td> <td>    0.557</td>\n</tr>\n<tr>\n  <th>ma.L5</th>     <td>    0.4857</td> <td>    0.043</td> <td>   11.328</td> <td> 0.000</td> <td>    0.402</td> <td>    0.570</td>\n</tr>\n<tr>\n  <th>ma.L6</th>     <td>    0.6735</td> <td>    0.027</td> <td>   24.760</td> <td> 0.000</td> <td>    0.620</td> <td>    0.727</td>\n</tr>\n<tr>\n  <th>sigma2</th>    <td>  570.7695</td> <td>   20.880</td> <td>   27.336</td> <td> 0.000</td> <td>  529.845</td> <td>  611.694</td>\n</tr>\n</table>\n<table class=\"simpletable\">\n<tr>\n  <th>Ljung-Box (L1) (Q):</th>     <td>11.24</td> <th>  Jarque-Bera (JB):  </th> <td>1950.57</td>\n</tr>\n<tr>\n  <th>Prob(Q):</th>                <td>0.00</td>  <th>  Prob(JB):          </th>  <td>0.00</td>  \n</tr>\n<tr>\n  <th>Heteroskedasticity (H):</th> <td>0.69</td>  <th>  Skew:              </th>  <td>-1.58</td> \n</tr>\n<tr>\n  <th>Prob(H) (two-sided):</th>    <td>0.00</td>  <th>  Kurtosis:          </th>  <td>8.72</td>  \n</tr>\n</table><br/><br/>Warnings:<br/>[1] Covariance matrix calculated using the outer product of gradients (complex-step).",
      "text/plain": "<class 'statsmodels.iolib.summary.Summary'>\n\"\"\"\n                               SARIMAX Results                                \n==============================================================================\nDep. Variable:                      y   No. Observations:                 1096\nModel:               SARIMAX(9, 0, 6)   Log Likelihood               -4998.427\nDate:                Wed, 03 Nov 2021   AIC                          10030.855\nTime:                        15:33:49   BIC                          10115.845\nSample:                             0   HQIC                         10063.013\n                               - 1096                                         \nCovariance Type:                  opg                                         \n==============================================================================\n                 coef    std err          z      P>|z|      [0.025      0.975]\n------------------------------------------------------------------------------\nintercept    168.1770    133.175      1.263      0.207     -92.841     429.195\nar.L1         -0.6060      0.049    -12.247      0.000      -0.703      -0.509\nar.L2         -0.2429      0.059     -4.137      0.000      -0.358      -0.128\nar.L3         -0.0317      0.045     -0.707      0.480      -0.120       0.056\nar.L4         -0.0261      0.041     -0.630      0.529      -0.107       0.055\nar.L5         -0.0362      0.037     -0.971      0.332      -0.109       0.037\nar.L6         -0.0475      0.036     -1.312      0.190      -0.118       0.023\nar.L7          0.9273      0.039     23.809      0.000       0.851       1.004\nar.L8          0.5421      0.055      9.880      0.000       0.435       0.650\nar.L9          0.1928      0.047      4.075      0.000       0.100       0.286\nma.L1          1.0359      0.045     22.942      0.000       0.947       1.124\nma.L2          0.8518      0.068     12.469      0.000       0.718       0.986\nma.L3          0.5960      0.069      8.594      0.000       0.460       0.732\nma.L4          0.4421      0.059      7.555      0.000       0.327       0.557\nma.L5          0.4857      0.043     11.328      0.000       0.402       0.570\nma.L6          0.6735      0.027     24.760      0.000       0.620       0.727\nsigma2       570.7695     20.880     27.336      0.000     529.845     611.694\n===================================================================================\nLjung-Box (L1) (Q):                  11.24   Jarque-Bera (JB):              1950.57\nProb(Q):                              0.00   Prob(JB):                         0.00\nHeteroskedasticity (H):               0.69   Skew:                            -1.58\nProb(H) (two-sided):                  0.00   Kurtosis:                         8.72\n===================================================================================\n\nWarnings:\n[1] Covariance matrix calculated using the outer product of gradients (complex-step).\n\"\"\""
     },
     "execution_count": 42,
     "metadata": {},
     "output_type": "execute_result"
    }
   ],
   "source": [
    "model.summary()"
   ]
  },
  {
   "cell_type": "code",
   "execution_count": 39,
   "metadata": {},
   "outputs": [
    {
     "data": {
      "text/plain": "array([510.73070099, 506.08498152, 500.63560438, 488.37736536,\n       449.04313235, 502.31361878, 515.90799137])"
     },
     "execution_count": 39,
     "metadata": {},
     "output_type": "execute_result"
    }
   ],
   "source": [
    "model.predict(7)"
   ]
  },
  {
   "cell_type": "code",
   "execution_count": 10,
   "metadata": {},
   "outputs": [
    {
     "name": "stderr",
     "output_type": "stream",
     "text": [
      "INFO:root:Model for station (02000) cabecera autopista norte compleated. Time 0.01 minutes\n"
     ]
    }
   ],
   "source": [
    "arima_models.fit_arima(station)"
   ]
  },
  {
   "cell_type": "code",
   "execution_count": 7,
   "metadata": {},
   "outputs": [
    {
     "name": "stderr",
     "output_type": "stream",
     "text": [
      "INFO:root:Model for station (02000) cabecera autopista norte compleated. Time 1.44 minutes\n"
     ]
    }
   ],
   "source": [
    "arima_models.fit_arima(station)"
   ]
  },
  {
   "cell_type": "code",
   "execution_count": 41,
   "metadata": {},
   "outputs": [
    {
     "name": "stderr",
     "output_type": "stream",
     "text": [
      "INFO:root:Model for station (02000) cabecera autopista norte compleated. Time 1.51 minutes\n"
     ]
    }
   ],
   "source": [
    "arima_models.fit_arima(station)"
   ]
  },
  {
   "cell_type": "code",
   "execution_count": 13,
   "metadata": {},
   "outputs": [],
   "source": [
    "path = os.path.join(directory, 'models', aggregation, 'train', station + '.pkl' )\n",
    "model = utils.read_plk(path)\n",
    "predictions = model.predict(7)"
   ]
  },
  {
   "cell_type": "markdown",
   "metadata": {},
   "source": [
    "# Experiments on selecting the right transformation\n",
    "\n",
    "The motivation to do this experiments is to be able to select the best transformation to the data. \n",
    "We explore log, standarization, and minmax transformations (and combiantion of them). \n",
    "\n",
    "Unfortunatly, since transformation will lead to diferent scales, traditional metrics such as AIC, log-likelihood, BIC cannot be compared. To select the best transformation, I take into account the MAPE metric with a 7 days prediction, and the running time. \n",
    "\n",
    "For each transformation, we fit a model using pm.auto_arima which selects the best model with give hyperparameters. To compare model with different transformation, we only use the best model of the auto_arima function. For this function, the selection criteria is the AIC. \n",
    "\n",
    "I took one station (porta norte) and transformed the data. Regular standarization is the one that has the best performance. The MAPE is 0.13 compared to 0.25 of the second best model (log transformation). Also, compared to the second best model, the running time to fir the model is X3 times faster. \n",
    "\n",
    "More research: I would need to figure out if the same transformation has similar results with other stations. For now I have only tested one. "
   ]
  },
  {
   "cell_type": "code",
   "execution_count": 345,
   "metadata": {},
   "outputs": [],
   "source": [
    "def normalize(x):\n",
    "    return (x - np.mean(x))/(np.std(x))\n",
    "\n",
    "def normalize1(x):\n",
    "    return (x - np.min(x))/(np.max(x) - np.min(x))"
   ]
  },
  {
   "cell_type": "code",
   "execution_count": 346,
   "metadata": {},
   "outputs": [],
   "source": [
    "def APE(target, predicted):\n",
    "    return np.abs((target - predicted) / target)\n",
    "\n",
    "def mape(target, predicted, axis = None):\n",
    "    return np.mean(APE(target, predicted), axis = axis)"
   ]
  },
  {
   "cell_type": "code",
   "execution_count": 347,
   "metadata": {},
   "outputs": [],
   "source": [
    "s_raw = train[station]\n",
    "s_log = s_raw.transform(np.log1p)\n",
    "s_log_nor = normalize(s_log)\n",
    "s_nor = normalize(s_raw)\n",
    "s_log_nor1 = normalize1(s_log)\n",
    "s_nor1 = normalize1(s_raw)"
   ]
  },
  {
   "cell_type": "code",
   "execution_count": 384,
   "metadata": {},
   "outputs": [
    {
     "name": "stdout",
     "output_type": "stream",
     "text": [
      "2.926056146621704\n",
      "65.68860793113708\n",
      "2.1380200386047363\n",
      "20.929821014404297\n",
      "4.973753213882446\n",
      "3.901477336883545\n"
     ]
    }
   ],
   "source": [
    "# Raw model \n",
    "s_data = [s_raw, s_log, s_log_nor, s_nor, s_log_nor1, s_nor1]\n",
    "models = []\n",
    "test_size = 7\n",
    "for s in s_data:\n",
    "    start = time.time()\n",
    "    model = pm.auto_arima(s, start_p=2, start_q=2, max_p=7, max_q=7, seasonal=False,\n",
    "                        stepwise=True, suppress_warnings=True, error_action='ignore', d = 0, \n",
    "                        maxiter = 200, out_of_sample_size = test_size, scoring = 'mse')\n",
    "    models.append(model)\n",
    "    end = time.time()\n",
    "    print (end - start)"
   ]
  },
  {
   "cell_type": "markdown",
   "metadata": {},
   "source": [
    "Log transformation took 65 seconds, and stadarition took 20 seconds. The are the second and first best models. "
   ]
  },
  {
   "cell_type": "code",
   "execution_count": 396,
   "metadata": {},
   "outputs": [
    {
     "name": "stdout",
     "output_type": "stream",
     "text": [
      "Model 0 - Raw MAPE: 0.24128880092487925\n",
      "Model 1 - log MAPE: 0.21380937184363305\n",
      "Model 3 - nor MAPE: 0.13745761654768238\n",
      "Model 4 - log_nor1 MAPE: 0.24608887583088443\n",
      "Model 5 - nor1 MAPE: 0.24122682803419906\n"
     ]
    }
   ],
   "source": [
    "target = np.array(s_raw[-test_size:])\n",
    "#Model 0\n",
    "p50_raw = models[0].oob_preds_\n",
    "print ('Model 0 - Raw MAPE:', mape(target, p50_raw))\n",
    "\n",
    "#Model 1\n",
    "p50_log = np.expm1(models[1].oob_preds_)\n",
    "print ('Model 1 - log MAPE:', mape(target, p50_log))\n",
    "\n",
    "#Model 2 \n",
    "\n",
    "#Model 3\n",
    "p50_nor = (models[3].oob_preds_ * s_raw.std()) + s_raw.mean()\n",
    "print ('Model 3 - nor MAPE:', mape(target, p50_nor))\n",
    "\n",
    "#Model 4 \n",
    "p50_log_nor1 = np.expm1(models[4].oob_preds_ * (s_log.max() - s_log.min()) + s_log.min())\n",
    "print ('Model 4 - log_nor1 MAPE:', mape(target, p50_log_nor1))\n",
    "\n",
    "#Model 5\n",
    "p50_nor1 = (models[5].oob_preds_ * (s_raw.max() - s_raw.min())) + s_raw.min()\n",
    "print ('Model 5 - nor1 MAPE:', mape(target, p50_nor1))"
   ]
  },
  {
   "cell_type": "markdown",
   "metadata": {},
   "source": [
    "## Predicting 20 time steps into the future: "
   ]
  },
  {
   "cell_type": "code",
   "execution_count": 386,
   "metadata": {},
   "outputs": [],
   "source": [
    "# Values to keep in mind \n",
    "mean = s_raw.mean()\n",
    "std = s_raw.std()\n",
    "max_raw = s_raw.max()\n",
    "min_raw = s_raw.min()\n",
    "\n",
    "max_log = s_log.mean()\n",
    "min_log = s_log.mean()\n",
    "forecast_period = 1"
   ]
  },
  {
   "cell_type": "code",
   "execution_count": 388,
   "metadata": {},
   "outputs": [],
   "source": [
    "## Measure the forcasting error of 20 predicitions\n",
    "total_forcast_period = 20\n",
    "target = test[station][:total_forcast_period]\n",
    "\n",
    "t_raw = test[station][:total_forcast_period]\n",
    "t_log = t_raw.transform(np.log1p)\n",
    "t_log_nor = (t_log - s_log.mean())/(s_log.std())\n",
    "t_nor = (t_raw - s_raw.mean())/(s_raw.std())\n",
    "t_log_nor1 = (t_log - s_log.min())/(s_log.max() - s_log.min())\n",
    "t_nor1 = (t_raw - s_raw.min())/(s_raw.max() - s_raw.min())"
   ]
  },
  {
   "cell_type": "code",
   "execution_count": 389,
   "metadata": {},
   "outputs": [],
   "source": [
    "def prediction(model, target, forecast_period = 1):\n",
    "    prediction_list = []\n",
    "    for t in target:\n",
    "        p = model.predict(forecast_period)\n",
    "        prediction_list.append(p)\n",
    "        model.update(t)\n",
    "    return np.array(prediction_list)"
   ]
  },
  {
   "cell_type": "code",
   "execution_count": 390,
   "metadata": {},
   "outputs": [],
   "source": [
    "#Model 0 \n",
    "p20_raw = prediction(models[0], t_raw, forecast_period = 1)\n",
    "\n",
    "#Model 1 \n",
    "p20_log = prediction(models[1], t_log, forecast_period = 1)\n",
    "p20_log =  np.expm1(p20_log)\n",
    "\n",
    "#Model 2\n",
    "# p20_log_nor = prediction(models[2], t_log_nor, forecast_period = 1)\n",
    "# Ignore model 2\n",
    "\n",
    "#Model 3\n",
    "p20_nor = prediction(models[3], t_nor, forecast_period = 1)\n",
    "p20_nor = (p20_nor*s_raw.std())+ s_raw.mean()\n",
    "\n",
    "#Model 4 \n",
    "p20_log_nor1 = prediction(models[4], t_log_nor1, forecast_period = 1)\n",
    "p20_log_nor1 = np.expm1(p20_log_nor1*(max_log - min_log) + min_log)\n",
    "\n",
    "#Model 5\n",
    "p20_nor1 = prediction(models[5], t_nor1, forecast_period = 1)\n",
    "p20_nor1 = (p20_nor1*(s_raw.max() - s_raw.min())) + (s_raw.min())\n",
    "\n",
    "# (t_raw - s_raw.min())/(s_raw.max() - s_raw.min())"
   ]
  },
  {
   "cell_type": "code",
   "execution_count": 391,
   "metadata": {},
   "outputs": [
    {
     "name": "stdout",
     "output_type": "stream",
     "text": [
      "Model 0 - Raw MAPE: 0.35637711614881107\n",
      "Model 1 - log MAPE: 0.3016776303962018\n",
      "Model 3 - nor MAPE: 0.25350074254782845\n",
      "Model 4 - log_nor1 MAPE: 0.38677325679848945\n",
      "Model 5 - nor1 MAPE: 0.35635911311489044\n"
     ]
    }
   ],
   "source": [
    "print ('Model 0 - Raw MAPE:', mape(target, p20_raw.flatten()))\n",
    "print ('Model 1 - log MAPE:', mape(target, p20_log.flatten()))\n",
    "print ('Model 3 - nor MAPE:', mape(target, p20_nor.flatten()))\n",
    "print ('Model 4 - log_nor1 MAPE:', mape(target, p20_log_nor1.flatten()))\n",
    "print ('Model 5 - nor1 MAPE:', mape(target, p20_nor1.flatten()))"
   ]
  }
 ],
 "metadata": {
  "kernelspec": {
   "display_name": "Python 3.8.8 64-bit ('prediction': conda)",
   "name": "python388jvsc74a57bd09156c5fe81c128768729ffddff8e92efa661f491c3f6eae9c54847e138d37eca"
  },
  "language_info": {
   "codemirror_mode": {
    "name": "ipython",
    "version": 3
   },
   "file_extension": ".py",
   "mimetype": "text/x-python",
   "name": "python",
   "nbconvert_exporter": "python",
   "pygments_lexer": "ipython3",
   "version": "3.8.8"
  },
  "orig_nbformat": 2
 },
 "nbformat": 4,
 "nbformat_minor": 2
}