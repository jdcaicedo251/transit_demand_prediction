{
 "cells": [
  {
   "cell_type": "code",
   "execution_count": 2,
   "metadata": {},
   "outputs": [],
   "source": [
    "import warnings\n",
    "warnings.filterwarnings(\"ignore\")\n",
    "\n",
    "import numpy as np \n",
    "import pandas as pd\n",
    "import time\n",
    "import matplotlib.pyplot as plt \n",
    "\n",
    "import os\n",
    "os.chdir('../')\n",
    "\n",
    "import data\n",
    "import utils"
   ]
  },
  {
   "cell_type": "code",
   "execution_count": 3,
   "metadata": {},
   "outputs": [],
   "source": [
    "import statsmodels.api as sm\n",
    "from statsmodels.iolib.summary2 import summary_col"
   ]
  },
  {
   "cell_type": "code",
   "execution_count": 4,
   "metadata": {},
   "outputs": [],
   "source": [
    "def clean_target_predicted(target, predicted, remove_zeros = True):\n",
    "    if isinstance(target, list):\n",
    "        target = np.array(target)\n",
    "    if isinstance(predicted, list):\n",
    "        predicted = np.array(predicted)\n",
    "\n",
    "    assert target.shape == predicted.shape, \"Target and prediction don't have the same shape\"\n",
    "    assert isinstance(target, np.ndarray) and isinstance(predicted, np.ndarray), \"Target and prediction should be numpy array\"\n",
    "    \n",
    "    ## Removing zero observations in target data. \n",
    "    if remove_zeros:\n",
    "        non_zeros = target != 0\n",
    "        target = target[non_zeros]\n",
    "        predicted = predicted[non_zeros]\n",
    "    return target, predicted\n",
    "\n",
    "def APE(target, predicted):\n",
    "    return np.abs((target - predicted) / target)\n",
    "\n",
    "def MAPE(target, predicted, axis = None):\n",
    "    ape = APE(target, predicted)\n",
    "    ape[ape == np.inf] = np.nan\n",
    "    return np.nanmean(ape, axis = axis)\n",
    "\n",
    "def MAAPE(target, predicted, axis = None):\n",
    "    return np.mean(np.arctan(APE(target, predicted)), axis = axis)\n",
    "\n",
    "def VAPE(target, predicted, axis = None):\n",
    "    ape = APE(target, predicted)\n",
    "    ape[ape == np.inf] = np.nan\n",
    "    return np.nanvar(ape, axis = axis)\n",
    "\n",
    "# def RMSE(target, predicted):\n",
    "#     target, predicted = clean_target_predicted(target, predicted)\n",
    "#     return np.sqrt(np.mean((target - predicted)**2))"
   ]
  },
  {
   "cell_type": "code",
   "execution_count": 5,
   "metadata": {},
   "outputs": [],
   "source": [
    "def read_target(df, station, aggregation):\n",
    "    data = df[station]\n",
    "\n",
    "    if aggregation == 'day':\n",
    "        forecast_window = 7\n",
    "    elif aggregation == 'hour':\n",
    "        forecast_window = 24\n",
    "    elif aggregation == 'month':\n",
    "        forecast_window = 12\n",
    "    elif aggregation == '15mins':\n",
    "        forecast_window = 8\n",
    "    else:\n",
    "        raise KeyError ('aggregation parameter is one of [day, hour, month, 15 mins]')\n",
    "\n",
    "    shift_list = []\n",
    "    col_list = []\n",
    "    for i in range(forecast_window):\n",
    "        shift_list.append(data.shift(-i))\n",
    "        col_list.append('forecast_period_' + str(i + 1))\n",
    "    target = pd.concat(shift_list, axis = 1)\n",
    "    target.columns = col_list\n",
    "    target = np.array(target.dropna())\n",
    "    assert target.shape[1] == forecast_window\n",
    "    target[target<10] = 0.0    ## Target less than 10 are put as zero. #Data cleaning\n",
    "    return target"
   ]
  },
  {
   "cell_type": "code",
   "execution_count": 6,
   "metadata": {},
   "outputs": [],
   "source": [
    "def read_prediction(model, station, aggregation):\n",
    "    path = os.path.join('output', model, 'results', aggregation , station + '.json' )\n",
    "    prediction = utils.read_json(path)\n",
    "    prediction = np.array(prediction['prediction'])\n",
    "    return prediction"
   ]
  },
  {
   "cell_type": "code",
   "execution_count": 7,
   "metadata": {},
   "outputs": [],
   "source": [
    "def pre_post_split(df, date = '2020-03-15'):\n",
    "    idx = dates[dates == date].index[0]\n",
    "    pre = df[:idx,:]\n",
    "    post = df[idx:,:]\n",
    "    return pre, post"
   ]
  },
  {
   "cell_type": "code",
   "execution_count": 8,
   "metadata": {},
   "outputs": [],
   "source": [
    "def analyis_process(directory, aggregation, metric):\n",
    "    \n",
    "    if metric == 'mape':\n",
    "        func = MAPE\n",
    "    elif metric == 'maape':\n",
    "        func = MAAPE\n",
    "    elif metric == 'vape':\n",
    "        func = VAPE\n",
    "    else:\n",
    "        raise ValueError (\"{} is not a valid metric function\". format(metric))\n",
    "\n",
    "    results = {}\n",
    "    models = os.listdir(directory)\n",
    "\n",
    "    for model in models:\n",
    "        out_folder = os.path.join(directory, model, 'results', aggregation)\n",
    "        \n",
    "        try: \n",
    "            stations = os.listdir(out_folder)\n",
    "            stations = list(set([x[:-5] for x in stations]))\n",
    "            results[model] = {}\n",
    "            row_list = []\n",
    "            pre_post_list = []\n",
    "            station_list = []\n",
    "        except FileNotFoundError: \n",
    "            stations = None\n",
    "\n",
    "        if stations is not None:\n",
    "\n",
    "            for station in stations:\n",
    "                \n",
    "                target = read_target(test, station, aggregation)\n",
    "                predicted = read_prediction(model, station, aggregation)[:999,:] # FIX ME \n",
    "\n",
    "                pre_target, post_target = pre_post_split(target)\n",
    "                pre_predicted, post_predicted = pre_post_split(predicted)\n",
    "\n",
    "                row_metric = func(target, predicted, axis = 1)\n",
    "                pre_metric = func(pre_target, pre_predicted)\n",
    "                post_metric = func(post_target, post_predicted)\n",
    "                row_list.append(row_metric)\n",
    "                pre_post_list.append([pre_metric, post_metric])\n",
    "                station_list.append(station)\n",
    "                \n",
    "            #Store results\n",
    "            results[model]['trend'] = row_list\n",
    "            results[model]['pre_post'] = pre_post_list\n",
    "            results[model]['stations'] = station_list\n",
    "\n",
    "    sys_evolution_df = {}\n",
    "    pre_post_df = {}\n",
    "\n",
    "    for model in results.keys():\n",
    "        value = np.vstack(results[model]['trend']).T\n",
    "        value = pd.DataFrame(value, columns = results[model]['stations'], index = dates[:999]) #FIX ME\n",
    "        value['mean_metric'] = value.mean(axis = 1)\n",
    "        sys_evolution_df[model] = value\n",
    "\n",
    "        df = pd.DataFrame(data = results[model]['pre_post'], \n",
    "                        index = results[model]['stations'], columns = ['pre', 'post'])\n",
    "        pre_post_df[model] = df\n",
    "\n",
    "    return sys_evolution_df, pre_post_df"
   ]
  },
  {
   "cell_type": "code",
   "execution_count": 9,
   "metadata": {},
   "outputs": [],
   "source": [
    "def plot_model_results(sys_evolution, pre_post):\n",
    "    rows = 2 \n",
    "    cols = len(sys_evolution)\n",
    "    fig, axs = plt.subplots(rows, cols, sharey=True, figsize = (12,8))\n",
    "\n",
    "    counter = 0\n",
    "    for model in sys_evolution.keys():\n",
    "        sys_evolution[model]['mean_metric'].plot(ax = axs[0][counter])\n",
    "        pre_post[model].plot.scatter(x = 'pre', y = 'post', ax = axs[1][counter])\n",
    "        axs[1][counter].plot([0, 4], [0, 4], linewidth=2)\n",
    "        axs[0][counter].set_title(model)\n",
    "        counter +=1"
   ]
  },
  {
   "cell_type": "code",
   "execution_count": 10,
   "metadata": {},
   "outputs": [],
   "source": [
    "def linear_regression(results):\n",
    "\n",
    "    models_list = []\n",
    "    models = list(results.keys())\n",
    "\n",
    "    for model in models:\n",
    "        # pre_name = 'pre_' + model\n",
    "        # post_name = 'post_' + model\n",
    "        # to_drop = ['(14004) museo del oro', '(10006) san victorino']\n",
    "        xy = results[model]#.drop(index = to_drop)\n",
    "        x = sm.add_constant(xy['pre'].rename('pre COVID-19'), prepend=False)\n",
    "        y = xy['post']\n",
    "        model = sm.OLS(y, x).fit()\n",
    "        models_list.append(model)\n",
    "\n",
    "    ols_results = summary_col(models_list,stars=True, info_dict = {\"N\":lambda x:(x.nobs)},\n",
    "                              model_names = models, float_format='%.3f')\n",
    "\n",
    "    return ols_results"
   ]
  },
  {
   "cell_type": "code",
   "execution_count": 11,
   "metadata": {},
   "outputs": [],
   "source": [
    "directory = 'output'\n",
    "data_directory = 'data'\n",
    "aggregation = 'day'\n",
    "\n",
    "train, test = data.split_data(data_directory, aggregation = aggregation)\n",
    "dates = pd.to_datetime(test[['year', 'month', 'day']])\n",
    "dates = dates.reset_index(drop = True)"
   ]
  },
  {
   "cell_type": "code",
   "execution_count": 12,
   "metadata": {},
   "outputs": [],
   "source": [
    "trend, pre_post = analyis_process(directory, aggregation, metric = 'mape')"
   ]
  },
  {
   "cell_type": "code",
   "execution_count": 13,
   "metadata": {},
   "outputs": [
    {
     "data": {
      "image/png": "[encoded data removed]",
      "text/plain": "<Figure size 864x576 with 4 Axes>"
     },
     "metadata": {
      "needs_background": "light"
     },
     "output_type": "display_data"
    }
   ],
   "source": [
    "plot_model_results(trend, pre_post)"
   ]
  },
  {
   "cell_type": "code",
   "execution_count": 14,
   "metadata": {},
   "outputs": [
    {
     "data": {
      "text/html": "<table class=\"simpletable\">\n<tr>\n         <td></td>          <th>arima</th>   <th>sarima</th> \n</tr>\n<tr>\n  <th>pre COVID-19</th>   <td>1.195***</td> <td>0.536***</td>\n</tr>\n<tr>\n  <th></th>                <td>(0.320)</td>  <td>(0.113)</td>\n</tr>\n<tr>\n  <th>const</th>          <td>1.795***</td> <td>0.463***</td>\n</tr>\n<tr>\n  <th></th>                <td>(0.220)</td>  <td>(0.046)</td>\n</tr>\n<tr>\n  <th>R-squared</th>        <td>0.088</td>    <td>0.192</td> \n</tr>\n<tr>\n  <th>R-squared Adj.</th>   <td>0.082</td>    <td>0.184</td> \n</tr>\n<tr>\n  <th>N</th>              <td>147.0000</td>  <td>97.0000</td>\n</tr>\n</table>",
      "text/plain": "<class 'statsmodels.iolib.summary2.Summary'>\n\"\"\"\n\n================================\n                arima    sarima \n--------------------------------\npre COVID-19   1.195*** 0.536***\n               (0.320)  (0.113) \nconst          1.795*** 0.463***\n               (0.220)  (0.046) \nR-squared      0.088    0.192   \nR-squared Adj. 0.082    0.184   \nN              147.0000 97.0000 \n================================\nStandard errors in parentheses.\n* p<.1, ** p<.05, ***p<.01\n\"\"\""
     },
     "execution_count": 14,
     "metadata": {},
     "output_type": "execute_result"
    }
   ],
   "source": [
    "linear_regression(pre_post)"
   ]
  },
  {
   "cell_type": "markdown",
   "metadata": {},
   "source": [
    "There are some stations that have very little number of observations. For those stations, I should filter if there are less than 10 transactions per day. \n",
    "\n",
    "Also, in read_target, it seems that I drop np.nan. This shoul not happen. Check. "
   ]
  }
 ],
 "metadata": {
  "kernelspec": {
   "display_name": "Python 3.8.8 64-bit ('prediction': conda)",
   "name": "python388jvsc74a57bd09156c5fe81c128768729ffddff8e92efa661f491c3f6eae9c54847e138d37eca"
  },
  "language_info": {
   "name": "python",
   "version": ""
  },
  "orig_nbformat": 2
 },
 "nbformat": 4,
 "nbformat_minor": 2
}