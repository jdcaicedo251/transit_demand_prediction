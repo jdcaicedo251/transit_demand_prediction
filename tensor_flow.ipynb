{
 "cells": [
  {
   "cell_type": "code",
   "execution_count": 7,
   "metadata": {},
   "outputs": [],
   "source": [
    "import os\n",
    "import datetime\n",
    "\n",
    "import IPython\n",
    "import IPython.display\n",
    "import matplotlib as mpl\n",
    "import matplotlib.pyplot as plt\n",
    "import numpy as np\n",
    "import pandas as pd\n",
    "import seaborn as sns\n",
    "import tensorflow as tf\n",
    "import math\n",
    "\n",
    "mpl.rcParams['figure.figsize'] = (8, 6)\n",
    "mpl.rcParams['axes.grid'] = False\n",
    "\n",
    "# warnings.filterwarnings('ignore')"
   ]
  },
  {
   "cell_type": "code",
   "execution_count": 8,
   "metadata": {},
   "outputs": [],
   "source": [
    "from data import train_test_data, read_settings, normalize, tf_dataframe\n",
    "settings = read_settings()\n",
    "train, test = train_test_data(settings)"
   ]
  },
  {
   "cell_type": "code",
   "execution_count": 9,
   "metadata": {},
   "outputs": [],
   "source": [
    "data = pd.concat((train, test))\n",
    "data = data[['dayofweek','weekday','(02000) cabecera autopista norte']]\n",
    "mean = data['(02000) cabecera autopista norte'].mean()\n",
    "std = data['(02000) cabecera autopista norte'].std()\n",
    "data['(02000) cabecera autopista norte'] = (data['(02000) cabecera autopista norte'] - mean)/std\n",
    "df = data"
   ]
  },
  {
   "cell_type": "code",
   "execution_count": 295,
   "metadata": {},
   "outputs": [],
   "source": [
    "df = data.filter(items = [2015, 8], axis=0)"
   ]
  },
  {
   "cell_type": "code",
   "execution_count": 305,
   "metadata": {},
   "outputs": [
    {
     "data": {
      "text/plain": "31"
     },
     "execution_count": 305,
     "metadata": {},
     "output_type": "execute_result"
    }
   ],
   "source": [
    "df.index.get_loc((2015, 9, 1))"
   ]
  },
  {
   "cell_type": "code",
   "execution_count": 292,
   "metadata": {},
   "outputs": [
    {
     "data": {
      "text/plain": "<AxesSubplot:>"
     },
     "execution_count": 292,
     "metadata": {},
     "output_type": "execute_result"
    },
    {
     "data": {
      "image/png": "[encoded data removed]",
      "text/plain": "<Figure size 576x432 with 1 Axes>"
     },
     "metadata": {
      "needs_background": "light"
     },
     "output_type": "display_data"
    }
   ],
   "source": [
    "data['(02000) cabecera autopista norte'].plot()"
   ]
  },
  {
   "cell_type": "code",
   "execution_count": 44,
   "metadata": {},
   "outputs": [],
   "source": [
    "input_ = tf.keras.utils.timeseries_dataset_from_array(\n",
    "      data=data[:-14],\n",
    "      targets=None,\n",
    "      sequence_length=14,\n",
    "      sequence_stride=1,\n",
    "      shuffle=False,\n",
    "      batch_size=3,)"
   ]
  },
  {
   "cell_type": "code",
   "execution_count": 45,
   "metadata": {},
   "outputs": [
    {
     "name": "stdout",
     "output_type": "stream",
     "text": [
      "tf.Tensor(\n",
      "[[[2.39120e+04 5.00000e+00 0.00000e+00]\n",
      "  [4.71970e+04 6.00000e+00 0.00000e+00]\n",
      "  [1.10704e+05 0.00000e+00 1.00000e+00]\n",
      "  [1.15831e+05 1.00000e+00 1.00000e+00]\n",
      "  [1.15422e+05 2.00000e+00 1.00000e+00]\n",
      "  [1.19695e+05 3.00000e+00 1.00000e+00]\n",
      "  [4.70220e+04 4.00000e+00 1.00000e+00]\n",
      "  [6.97220e+04 5.00000e+00 0.00000e+00]\n",
      "  [4.44800e+04 6.00000e+00 0.00000e+00]\n",
      "  [1.16179e+05 0.00000e+00 1.00000e+00]\n",
      "  [1.17085e+05 1.00000e+00 1.00000e+00]\n",
      "  [1.17729e+05 2.00000e+00 1.00000e+00]\n",
      "  [1.16898e+05 3.00000e+00 1.00000e+00]\n",
      "  [1.19356e+05 4.00000e+00 1.00000e+00]]\n",
      "\n",
      " [[4.71970e+04 6.00000e+00 0.00000e+00]\n",
      "  [1.10704e+05 0.00000e+00 1.00000e+00]\n",
      "  [1.15831e+05 1.00000e+00 1.00000e+00]\n",
      "  [1.15422e+05 2.00000e+00 1.00000e+00]\n",
      "  [1.19695e+05 3.00000e+00 1.00000e+00]\n",
      "  [4.70220e+04 4.00000e+00 1.00000e+00]\n",
      "  [6.97220e+04 5.00000e+00 0.00000e+00]\n",
      "  [4.44800e+04 6.00000e+00 0.00000e+00]\n",
      "  [1.16179e+05 0.00000e+00 1.00000e+00]\n",
      "  [1.17085e+05 1.00000e+00 1.00000e+00]\n",
      "  [1.17729e+05 2.00000e+00 1.00000e+00]\n",
      "  [1.16898e+05 3.00000e+00 1.00000e+00]\n",
      "  [1.19356e+05 4.00000e+00 1.00000e+00]\n",
      "  [8.10650e+04 5.00000e+00 0.00000e+00]]\n",
      "\n",
      " [[1.10704e+05 0.00000e+00 1.00000e+00]\n",
      "  [1.15831e+05 1.00000e+00 1.00000e+00]\n",
      "  [1.15422e+05 2.00000e+00 1.00000e+00]\n",
      "  [1.19695e+05 3.00000e+00 1.00000e+00]\n",
      "  [4.70220e+04 4.00000e+00 1.00000e+00]\n",
      "  [6.97220e+04 5.00000e+00 0.00000e+00]\n",
      "  [4.44800e+04 6.00000e+00 0.00000e+00]\n",
      "  [1.16179e+05 0.00000e+00 1.00000e+00]\n",
      "  [1.17085e+05 1.00000e+00 1.00000e+00]\n",
      "  [1.17729e+05 2.00000e+00 1.00000e+00]\n",
      "  [1.16898e+05 3.00000e+00 1.00000e+00]\n",
      "  [1.19356e+05 4.00000e+00 1.00000e+00]\n",
      "  [8.10650e+04 5.00000e+00 0.00000e+00]\n",
      "  [4.13230e+04 6.00000e+00 0.00000e+00]]], shape=(3, 14, 3), dtype=float32)\n"
     ]
    }
   ],
   "source": [
    "for row in input_.take(1):\n",
    "  print(row)"
   ]
  },
  {
   "cell_type": "code",
   "execution_count": 48,
   "metadata": {},
   "outputs": [],
   "source": [
    "target = tf.keras.utils.timeseries_dataset_from_array(\n",
    "      data=data[14:,0],\n",
    "      targets=None,\n",
    "      sequence_length=7,\n",
    "      sequence_stride=1,\n",
    "      shuffle=False,\n",
    "      batch_size=3,)"
   ]
  },
  {
   "cell_type": "code",
   "execution_count": 49,
   "metadata": {},
   "outputs": [
    {
     "name": "stdout",
     "output_type": "stream",
     "text": [
      "tf.Tensor(\n",
      "[[ 81065.  41323.  42998. 118358. 116541. 117910. 115881.]\n",
      " [ 41323.  42998. 118358. 116541. 117910. 115881.  81662.]\n",
      " [ 42998. 118358. 116541. 117910. 115881.  81662.  43079.]], shape=(3, 7), dtype=float32)\n"
     ]
    }
   ],
   "source": [
    "for row in target.take(1):\n",
    "  print(row)"
   ]
  },
  {
   "cell_type": "code",
   "execution_count": 50,
   "metadata": {},
   "outputs": [],
   "source": [
    "for batch in zip(input_, target):\n",
    "  inputs, targets = batch"
   ]
  },
  {
   "cell_type": "code",
   "execution_count": 55,
   "metadata": {},
   "outputs": [
    {
     "data": {
      "text/plain": "<tf.Tensor: shape=(3, 7), dtype=float32, numpy=\narray([[84998., 87905., 38203., 54666., 39475., 86076., 85034.],\n       [87905., 38203., 54666., 39475., 86076., 85034., 85431.],\n       [38203., 54666., 39475., 86076., 85034., 85431., 84854.]],\n      dtype=float32)>"
     },
     "execution_count": 55,
     "metadata": {},
     "output_type": "execute_result"
    }
   ],
   "source": [
    "targets"
   ]
  },
  {
   "cell_type": "code",
   "execution_count": 89,
   "metadata": {},
   "outputs": [],
   "source": [
    "df = pd.DataFrame({'a': range(0,1000), 'b': range(1000,2000), 'c': range(2000,3000)})"
   ]
  },
  {
   "cell_type": "code",
   "execution_count": 90,
   "metadata": {},
   "outputs": [],
   "source": [
    "column_indices = {name: i for i, name in enumerate(df.columns)}\n",
    "\n",
    "n = len(df)\n",
    "train_df = df[0:int(n*0.7)]\n",
    "val_df = df[int(n*0.7):int(n*0.9)]\n",
    "test_df = df[int(n*0.9):]\n"
   ]
  },
  {
   "cell_type": "code",
   "execution_count": 3,
   "metadata": {},
   "outputs": [],
   "source": [
    "class WindowGenerator():\n",
    "  def __init__(self, input_width, label_width, shift,\n",
    "               data, label_columns=None, train_date=(2018,8,1), \n",
    "               val_date=(2018, 9, 1), batch_size=32):\n",
    "    # Store the raw data.\n",
    "    self.batch_size = batch_size\n",
    "    self.input_width = input_width\n",
    "    self.label_width = label_width\n",
    "    self.shift = shift\n",
    "    train_index = data.index.get_loc(train_date)\n",
    "    val_index = data.index.get_loc(val_date) \n",
    "\n",
    "    self.train_df = data.iloc[:train_index]\n",
    "    self.val_df = data.iloc[train_index - input_width: val_index]\n",
    "    self.test_df = data.iloc[val_index  - input_width:]\n",
    "\n",
    "    # Work out the label column indices.\n",
    "    self.label_columns = label_columns\n",
    "    if label_columns is not None:\n",
    "      self.label_columns_indices = {name: i for i, name in\n",
    "                                    enumerate(label_columns)}\n",
    "    self.column_indices = {name: i for i, name in\n",
    "                           enumerate(data.columns)}\n",
    "\n",
    "    # Work out the window parameters.\n",
    "    self.total_window_size = input_width + shift\n",
    "\n",
    "    self.input_slice = slice(0, input_width)\n",
    "    self.input_indices = np.arange(self.total_window_size)[self.input_slice]\n",
    "\n",
    "    self.label_start = self.total_window_size - self.label_width\n",
    "    self.labels_slice = slice(self.label_start, None)\n",
    "    self.label_indices = np.arange(self.total_window_size)[self.labels_slice]\n",
    "\n",
    "  def __repr__(self):\n",
    "    return '\\n'.join([\n",
    "        f'Total window size: {self.total_window_size}',\n",
    "        f'Input indices: {self.input_indices}',\n",
    "        f'Label indices: {self.label_indices}',\n",
    "        f'Label column name(s): {self.label_columns}'])\n",
    "\n",
    "def split_window(self, features):\n",
    "  inputs = features[:, self.input_slice, :]\n",
    "  labels = features[:, self.labels_slice, :]\n",
    "  if self.label_columns is not None:\n",
    "    labels = tf.stack(\n",
    "        [labels[:, :, self.column_indices[name]] for name in self.label_columns],\n",
    "        axis=-1)\n",
    "\n",
    "  # Slicing doesn't preserve static shape information, so set the shapes\n",
    "  # manually. This way the `tf.data.Datasets` are easier to inspect.\n",
    "  inputs.set_shape([None, self.input_width, None])\n",
    "  labels.set_shape([None, self.label_width, None])\n",
    "\n",
    "  return inputs, labels\n",
    "\n",
    "WindowGenerator.split_window = split_window\n",
    "\n",
    "def make_dataset(self, data):\n",
    "  data = np.array(data, dtype=np.float32)\n",
    "  ds = tf.keras.utils.timeseries_dataset_from_array(\n",
    "      data=data,\n",
    "      targets=None,\n",
    "      sequence_length=self.total_window_size,\n",
    "      sequence_stride=1,\n",
    "      shuffle=False, \n",
    "      batch_size= self.batch_size)\n",
    "\n",
    "  ds = ds.map(self.split_window)\n",
    "\n",
    "  return ds\n",
    "\n",
    "WindowGenerator.make_dataset = make_dataset\n",
    "\n",
    "@property\n",
    "def train(self):\n",
    "  return self.make_dataset(self.train_df)\n",
    "\n",
    "@property\n",
    "def val(self):\n",
    "  return self.make_dataset(self.val_df)\n",
    "\n",
    "@property\n",
    "def test(self):\n",
    "  return self.make_dataset(self.test_df)\n",
    "\n",
    "WindowGenerator.train = train\n",
    "WindowGenerator.val = val\n",
    "WindowGenerator.test = test"
   ]
  },
  {
   "cell_type": "code",
   "execution_count": 651,
   "metadata": {},
   "outputs": [
    {
     "data": {
      "text/plain": "[array([7, 8, 9]), array([10, 11, 12]), array([13, 14, 15]), array([16])]"
     },
     "execution_count": 651,
     "metadata": {},
     "output_type": "execute_result"
    }
   ],
   "source": [
    "dataset = tf.data.Dataset.range(50)\n",
    "dataset = dataset.skip(7).take(10).batch(3)\n",
    "list(dataset.as_numpy_iterator())"
   ]
  },
  {
   "cell_type": "code",
   "execution_count": 652,
   "metadata": {},
   "outputs": [],
   "source": [
    "w1 = WindowGenerator(input_width=14, label_width=7, shift=7, data = df,\n",
    "                     label_columns=['(02000) cabecera autopista norte'])"
   ]
  },
  {
   "cell_type": "code",
   "execution_count": 643,
   "metadata": {},
   "outputs": [
    {
     "ename": "AttributeError",
     "evalue": "'WindowGenerator' object has no attribute 'train_index'",
     "output_type": "error",
     "traceback": [
      "\u001b[0;31m---------------------------------------------------------------------------\u001b[0m",
      "\u001b[0;31mAttributeError\u001b[0m                            Traceback (most recent call last)",
      "\u001b[0;32m<ipython-input-643-767e28552501>\u001b[0m in \u001b[0;36m<module>\u001b[0;34m\u001b[0m\n\u001b[0;32m----> 1\u001b[0;31m \u001b[0mw1\u001b[0m\u001b[0;34m.\u001b[0m\u001b[0mtrain_index\u001b[0m\u001b[0;34m\u001b[0m\u001b[0;34m\u001b[0m\u001b[0m\n\u001b[0m",
      "\u001b[0;31mAttributeError\u001b[0m: 'WindowGenerator' object has no attribute 'train_index'"
     ]
    }
   ],
   "source": [
    "w1.train_index"
   ]
  },
  {
   "cell_type": "code",
   "execution_count": 653,
   "metadata": {},
   "outputs": [
    {
     "name": "stdout",
     "output_type": "stream",
     "text": [
      "Inputs shape (batch, time, features): (32, 14, 3)\n",
      "Labels shape (batch, time, features): (32, 7, 1)\n"
     ]
    }
   ],
   "source": [
    "for example_inputs, example_labels in w1.train.take(1):\n",
    "  print(f'Inputs shape (batch, time, features): {example_inputs.shape}')\n",
    "  print(f'Labels shape (batch, time, features): {example_labels.shape}')"
   ]
  },
  {
   "cell_type": "code",
   "execution_count": 584,
   "metadata": {},
   "outputs": [
    {
     "data": {
      "text/plain": "2081"
     },
     "execution_count": 584,
     "metadata": {},
     "output_type": "execute_result"
    }
   ],
   "source": [
    "dataset_length = [i for i,_ in enumerate(w1.make_dataset(df))][-1] + 1\n",
    "dataset_length"
   ]
  },
  {
   "cell_type": "code",
   "execution_count": 623,
   "metadata": {},
   "outputs": [
    {
     "data": {
      "text/plain": "34"
     },
     "execution_count": 623,
     "metadata": {},
     "output_type": "execute_result"
    }
   ],
   "source": [
    "dataset_length = [i for i,_ in enumerate(w1.train)][-1] + 1\n",
    "dataset_length"
   ]
  },
  {
   "cell_type": "code",
   "execution_count": 624,
   "metadata": {},
   "outputs": [
    {
     "data": {
      "text/plain": "1"
     },
     "execution_count": 624,
     "metadata": {},
     "output_type": "execute_result"
    }
   ],
   "source": [
    "dataset_length = [i for i,_ in enumerate(w1.val)][-1] + 1\n",
    "dataset_length"
   ]
  },
  {
   "cell_type": "code",
   "execution_count": 625,
   "metadata": {},
   "outputs": [
    {
     "data": {
      "text/plain": "31"
     },
     "execution_count": 625,
     "metadata": {},
     "output_type": "execute_result"
    }
   ],
   "source": [
    "dataset_length = [i for i,_ in enumerate(w1.test)][-1] + 1\n",
    "dataset_length"
   ]
  },
  {
   "cell_type": "code",
   "execution_count": 660,
   "metadata": {},
   "outputs": [],
   "source": [
    "# val_date = (2018,8,1)\n",
    "# val_index = df.index.get_loc(val_date) \n",
    "# test = df.iloc[val_index - 14:]\n",
    "# test.head(50)"
   ]
  },
  {
   "cell_type": "code",
   "execution_count": 659,
   "metadata": {},
   "outputs": [],
   "source": [
    "# for example_inputs, example_labels in w1.val.take(1):\n",
    "#   print(f'Inputs shape (batch, time, features): {example_inputs}')\n",
    "#   print(f'Labels shape (batch, time, features): {example_labels}')"
   ]
  },
  {
   "cell_type": "code",
   "execution_count": 560,
   "metadata": {},
   "outputs": [
    {
     "data": {
      "text/plain": "34"
     },
     "execution_count": 560,
     "metadata": {},
     "output_type": "execute_result"
    }
   ],
   "source": [
    "dataset_length = [i for i,_ in enumerate(w1.train)][-1] + 1\n",
    "dataset_length"
   ]
  },
  {
   "cell_type": "code",
   "execution_count": 561,
   "metadata": {},
   "outputs": [
    {
     "data": {
      "text/plain": "<property at 0x7f81cf0d0450>"
     },
     "execution_count": 561,
     "metadata": {},
     "output_type": "execute_result"
    }
   ],
   "source": [
    "train"
   ]
  },
  {
   "cell_type": "code",
   "execution_count": 202,
   "metadata": {},
   "outputs": [
    {
     "name": "stdout",
     "output_type": "stream",
     "text": [
      "All shapes are: (batch, time, features)\n",
      "Window shape: (3, 7, 3)\n",
      "Inputs shape: (3, 6, 3)\n",
      "Labels shape: (3, 3, 1)\n"
     ]
    }
   ],
   "source": [
    "example_window = tf.stack([np.array(train_df[:w2.total_window_size]),\n",
    "                           np.array(train_df[100:100+w2.total_window_size]),\n",
    "                           np.array(train_df[200:200+w2.total_window_size])])\n",
    "\n",
    "example_inputs, example_labels = w2.split_window(example_window)\n",
    "\n",
    "print('All shapes are: (batch, time, features)')\n",
    "print(f'Window shape: {example_window.shape}')\n",
    "print(f'Inputs shape: {example_inputs.shape}')\n",
    "print(f'Labels shape: {example_labels.shape}')"
   ]
  },
  {
   "cell_type": "code",
   "execution_count": 239,
   "metadata": {},
   "outputs": [
    {
     "data": {
      "text/plain": "(TensorSpec(shape=(None, 14, 6), dtype=tf.float32, name=None),\n TensorSpec(shape=(None, 7, 1), dtype=tf.float32, name=None))"
     },
     "execution_count": 239,
     "metadata": {},
     "output_type": "execute_result"
    }
   ],
   "source": [
    "w1.train.element_spec"
   ]
  },
  {
   "cell_type": "code",
   "execution_count": 204,
   "metadata": {},
   "outputs": [
    {
     "name": "stdout",
     "output_type": "stream",
     "text": [
      "Inputs shape (batch, time, features): (2, 6, 3)\n",
      "Labels shape (batch, time, features): (2, 3, 1)\n"
     ]
    }
   ],
   "source": [
    "for example_inputs, example_labels in w2.train.take(1):\n",
    "  print(f'Inputs shape (batch, time, features): {example_inputs.shape}')\n",
    "  print(f'Labels shape (batch, time, features): {example_labels.shape}')"
   ]
  },
  {
   "cell_type": "code",
   "execution_count": 205,
   "metadata": {},
   "outputs": [
    {
     "name": "stdout",
     "output_type": "stream",
     "text": [
      "Inputs shape (batch, time, features): [[[ 700. 1700. 2700.]\n",
      "  [ 701. 1701. 2701.]\n",
      "  [ 702. 1702. 2702.]\n",
      "  [ 703. 1703. 2703.]\n",
      "  [ 704. 1704. 2704.]\n",
      "  [ 705. 1705. 2705.]]\n",
      "\n",
      " [[ 701. 1701. 2701.]\n",
      "  [ 702. 1702. 2702.]\n",
      "  [ 703. 1703. 2703.]\n",
      "  [ 704. 1704. 2704.]\n",
      "  [ 705. 1705. 2705.]\n",
      "  [ 706. 1706. 2706.]]]\n",
      "Labels shape (batch, time, features): [[[1704.]\n",
      "  [1705.]\n",
      "  [1706.]]\n",
      "\n",
      " [[1705.]\n",
      "  [1706.]\n",
      "  [1707.]]]\n"
     ]
    }
   ],
   "source": [
    "for example_inputs, example_labels in w2.val.take(1):\n",
    "  print(f'Inputs shape (batch, time, features): {example_inputs}')\n",
    "  print(f'Labels shape (batch, time, features): {example_labels}')"
   ]
  },
  {
   "cell_type": "markdown",
   "metadata": {},
   "source": [
    "# Neural Networks"
   ]
  },
  {
   "cell_type": "code",
   "execution_count": 4,
   "metadata": {},
   "outputs": [],
   "source": [
    "MAX_EPOCHS = 20\n",
    "\n",
    "def compile_and_fit(model, window, patience=2):\n",
    "  early_stopping = tf.keras.callbacks.EarlyStopping(monitor='val_loss',\n",
    "                                                    patience=patience,\n",
    "                                                    mode='min')\n",
    "\n",
    "  model.compile(loss=tf.losses.MeanSquaredError(),\n",
    "                optimizer=tf.optimizers.Adam(),\n",
    "                metrics=[tf.metrics.MeanAbsoluteError()])\n",
    "\n",
    "  history = model.fit(window.train, epochs=MAX_EPOCHS,\n",
    "                      validation_data=window.val,\n",
    "                      callbacks=[early_stopping],\n",
    "                      verbose = True)\n",
    "  return history"
   ]
  },
  {
   "cell_type": "markdown",
   "metadata": {},
   "source": [
    "## Convolutional neural network"
   ]
  },
  {
   "cell_type": "code",
   "execution_count": 35,
   "metadata": {},
   "outputs": [
    {
     "data": {
      "text/plain": "Total window size: 21\nInput indices: [ 0  1  2  3  4  5  6  7  8  9 10 11 12 13]\nLabel indices: [14 15 16 17 18 19 20]\nLabel column name(s): ['(02000) cabecera autopista norte']"
     },
     "execution_count": 35,
     "metadata": {},
     "output_type": "execute_result"
    }
   ],
   "source": [
    "CONV_WIDTH = 14\n",
    "num_features = 1\n",
    "OUT_STEPS = 7\n",
    "w1 = WindowGenerator(input_width=14, label_width=OUT_STEPS, shift=OUT_STEPS, data = df,\n",
    "                     label_columns=['(02000) cabecera autopista norte'], batch_size = 32, \n",
    "                     train_date=(2018,8,1), val_date=(2018, 9, 1))\n",
    "w1"
   ]
  },
  {
   "cell_type": "code",
   "execution_count": 39,
   "metadata": {},
   "outputs": [
    {
     "data": {
      "text/html": "<div>\n<style scoped>\n    .dataframe tbody tr th:only-of-type {\n        vertical-align: middle;\n    }\n\n    .dataframe tbody tr th {\n        vertical-align: top;\n    }\n\n    .dataframe thead th {\n        text-align: right;\n    }\n</style>\n<table border=\"1\" class=\"dataframe\">\n  <thead>\n    <tr style=\"text-align: right;\">\n      <th></th>\n      <th></th>\n      <th></th>\n      <th>dayofweek</th>\n      <th>weekday</th>\n      <th>(02000) cabecera autopista norte</th>\n    </tr>\n    <tr>\n      <th>year</th>\n      <th>month</th>\n      <th>day</th>\n      <th></th>\n      <th></th>\n      <th></th>\n    </tr>\n  </thead>\n  <tbody>\n    <tr>\n      <th rowspan=\"20\" valign=\"top\">2018</th>\n      <th rowspan=\"20\" valign=\"top\">9</th>\n      <th>1</th>\n      <td>5</td>\n      <td>0</td>\n      <td>-0.030295</td>\n    </tr>\n    <tr>\n      <th>2</th>\n      <td>6</td>\n      <td>0</td>\n      <td>-0.872788</td>\n    </tr>\n    <tr>\n      <th>3</th>\n      <td>0</td>\n      <td>1</td>\n      <td>0.725662</td>\n    </tr>\n    <tr>\n      <th>4</th>\n      <td>1</td>\n      <td>1</td>\n      <td>0.750568</td>\n    </tr>\n    <tr>\n      <th>5</th>\n      <td>2</td>\n      <td>1</td>\n      <td>0.614899</td>\n    </tr>\n    <tr>\n      <th>6</th>\n      <td>3</td>\n      <td>1</td>\n      <td>0.441000</td>\n    </tr>\n    <tr>\n      <th>7</th>\n      <td>4</td>\n      <td>1</td>\n      <td>1.196928</td>\n    </tr>\n    <tr>\n      <th>8</th>\n      <td>5</td>\n      <td>0</td>\n      <td>-0.056206</td>\n    </tr>\n    <tr>\n      <th>9</th>\n      <td>6</td>\n      <td>0</td>\n      <td>-0.939529</td>\n    </tr>\n    <tr>\n      <th>10</th>\n      <td>0</td>\n      <td>1</td>\n      <td>0.693074</td>\n    </tr>\n    <tr>\n      <th>11</th>\n      <td>1</td>\n      <td>1</td>\n      <td>0.686309</td>\n    </tr>\n    <tr>\n      <th>12</th>\n      <td>2</td>\n      <td>1</td>\n      <td>0.707197</td>\n    </tr>\n    <tr>\n      <th>13</th>\n      <td>3</td>\n      <td>1</td>\n      <td>0.675023</td>\n    </tr>\n    <tr>\n      <th>14</th>\n      <td>4</td>\n      <td>1</td>\n      <td>0.763095</td>\n    </tr>\n    <tr>\n      <th>15</th>\n      <td>5</td>\n      <td>0</td>\n      <td>-0.053871</td>\n    </tr>\n    <tr>\n      <th>16</th>\n      <td>6</td>\n      <td>0</td>\n      <td>-0.863570</td>\n    </tr>\n    <tr>\n      <th>17</th>\n      <td>0</td>\n      <td>1</td>\n      <td>0.655907</td>\n    </tr>\n    <tr>\n      <th>18</th>\n      <td>1</td>\n      <td>1</td>\n      <td>0.703208</td>\n    </tr>\n    <tr>\n      <th>19</th>\n      <td>2</td>\n      <td>1</td>\n      <td>0.666277</td>\n    </tr>\n    <tr>\n      <th>20</th>\n      <td>3</td>\n      <td>1</td>\n      <td>0.652096</td>\n    </tr>\n  </tbody>\n</table>\n</div>",
      "text/plain": "                dayofweek  weekday  (02000) cabecera autopista norte\nyear month day                                                      \n2018 9     1            5        0                         -0.030295\n           2            6        0                         -0.872788\n           3            0        1                          0.725662\n           4            1        1                          0.750568\n           5            2        1                          0.614899\n           6            3        1                          0.441000\n           7            4        1                          1.196928\n           8            5        0                         -0.056206\n           9            6        0                         -0.939529\n           10           0        1                          0.693074\n           11           1        1                          0.686309\n           12           2        1                          0.707197\n           13           3        1                          0.675023\n           14           4        1                          0.763095\n           15           5        0                         -0.053871\n           16           6        0                         -0.863570\n           17           0        1                          0.655907\n           18           1        1                          0.703208\n           19           2        1                          0.666277\n           20           3        1                          0.652096"
     },
     "execution_count": 39,
     "metadata": {},
     "output_type": "execute_result"
    }
   ],
   "source": [
    "df.iloc[df.index.get_loc((2018,9,1)):].head(20)\n",
    "df.iloc[0:].head(20)\n",
    "df.iloc[df.index.get_loc((2018,9,1)):].head(20)"
   ]
  },
  {
   "cell_type": "code",
   "execution_count": 38,
   "metadata": {},
   "outputs": [
    {
     "name": "stdout",
     "output_type": "stream",
     "text": [
      "Labels shape (batch, time, features): [[[-0.03029493]\n",
      "  [-0.87278795]\n",
      "  [ 0.72566205]\n",
      "  [ 0.75056815]\n",
      "  [ 0.61489946]\n",
      "  [ 0.4410001 ]\n",
      "  [ 1.1969275 ]]\n",
      "\n",
      " [[-0.87278795]\n",
      "  [ 0.72566205]\n",
      "  [ 0.75056815]\n",
      "  [ 0.61489946]\n",
      "  [ 0.4410001 ]\n",
      "  [ 1.1969275 ]\n",
      "  [-0.05620552]]\n",
      "\n",
      " [[ 0.72566205]\n",
      "  [ 0.75056815]\n",
      "  [ 0.61489946]\n",
      "  [ 0.4410001 ]\n",
      "  [ 1.1969275 ]\n",
      "  [-0.05620552]\n",
      "  [-0.9395292 ]]\n",
      "\n",
      " [[ 0.75056815]\n",
      "  [ 0.61489946]\n",
      "  [ 0.4410001 ]\n",
      "  [ 1.1969275 ]\n",
      "  [-0.05620552]\n",
      "  [-0.9395292 ]\n",
      "  [ 0.6930744 ]]\n",
      "\n",
      " [[ 0.61489946]\n",
      "  [ 0.4410001 ]\n",
      "  [ 1.1969275 ]\n",
      "  [-0.05620552]\n",
      "  [-0.9395292 ]\n",
      "  [ 0.6930744 ]\n",
      "  [ 0.6863087 ]]\n",
      "\n",
      " [[ 0.4410001 ]\n",
      "  [ 1.1969275 ]\n",
      "  [-0.05620552]\n",
      "  [-0.9395292 ]\n",
      "  [ 0.6930744 ]\n",
      "  [ 0.6863087 ]\n",
      "  [ 0.7071967 ]]\n",
      "\n",
      " [[ 1.1969275 ]\n",
      "  [-0.05620552]\n",
      "  [-0.9395292 ]\n",
      "  [ 0.6930744 ]\n",
      "  [ 0.6863087 ]\n",
      "  [ 0.7071967 ]\n",
      "  [ 0.67502266]]\n",
      "\n",
      " [[-0.05620552]\n",
      "  [-0.9395292 ]\n",
      "  [ 0.6930744 ]\n",
      "  [ 0.6863087 ]\n",
      "  [ 0.7071967 ]\n",
      "  [ 0.67502266]\n",
      "  [ 0.763095  ]]\n",
      "\n",
      " [[-0.9395292 ]\n",
      "  [ 0.6930744 ]\n",
      "  [ 0.6863087 ]\n",
      "  [ 0.7071967 ]\n",
      "  [ 0.67502266]\n",
      "  [ 0.763095  ]\n",
      "  [-0.0538715 ]]\n",
      "\n",
      " [[ 0.6930744 ]\n",
      "  [ 0.6863087 ]\n",
      "  [ 0.7071967 ]\n",
      "  [ 0.67502266]\n",
      "  [ 0.763095  ]\n",
      "  [-0.0538715 ]\n",
      "  [-0.86357003]]\n",
      "\n",
      " [[ 0.6863087 ]\n",
      "  [ 0.7071967 ]\n",
      "  [ 0.67502266]\n",
      "  [ 0.763095  ]\n",
      "  [-0.0538715 ]\n",
      "  [-0.86357003]\n",
      "  [ 0.65590733]]\n",
      "\n",
      " [[ 0.7071967 ]\n",
      "  [ 0.67502266]\n",
      "  [ 0.763095  ]\n",
      "  [-0.0538715 ]\n",
      "  [-0.86357003]\n",
      "  [ 0.65590733]\n",
      "  [ 0.7032082 ]]\n",
      "\n",
      " [[ 0.67502266]\n",
      "  [ 0.763095  ]\n",
      "  [-0.0538715 ]\n",
      "  [-0.86357003]\n",
      "  [ 0.65590733]\n",
      "  [ 0.7032082 ]\n",
      "  [ 0.66627747]]\n",
      "\n",
      " [[ 0.763095  ]\n",
      "  [-0.0538715 ]\n",
      "  [-0.86357003]\n",
      "  [ 0.65590733]\n",
      "  [ 0.7032082 ]\n",
      "  [ 0.66627747]\n",
      "  [ 0.6520961 ]]\n",
      "\n",
      " [[-0.0538715 ]\n",
      "  [-0.86357003]\n",
      "  [ 0.65590733]\n",
      "  [ 0.7032082 ]\n",
      "  [ 0.66627747]\n",
      "  [ 0.6520961 ]\n",
      "  [ 0.78259444]]\n",
      "\n",
      " [[-0.86357003]\n",
      "  [ 0.65590733]\n",
      "  [ 0.7032082 ]\n",
      "  [ 0.66627747]\n",
      "  [ 0.6520961 ]\n",
      "  [ 0.78259444]\n",
      "  [-0.1017928 ]]\n",
      "\n",
      " [[ 0.65590733]\n",
      "  [ 0.7032082 ]\n",
      "  [ 0.66627747]\n",
      "  [ 0.6520961 ]\n",
      "  [ 0.78259444]\n",
      "  [-0.1017928 ]\n",
      "  [-0.92918855]]\n",
      "\n",
      " [[ 0.7032082 ]\n",
      "  [ 0.66627747]\n",
      "  [ 0.6520961 ]\n",
      "  [ 0.78259444]\n",
      "  [-0.1017928 ]\n",
      "  [-0.92918855]\n",
      "  [ 0.65398693]]\n",
      "\n",
      " [[ 0.66627747]\n",
      "  [ 0.6520961 ]\n",
      "  [ 0.78259444]\n",
      "  [-0.1017928 ]\n",
      "  [-0.92918855]\n",
      "  [ 0.65398693]\n",
      "  [ 0.64988023]]\n",
      "\n",
      " [[ 0.6520961 ]\n",
      "  [ 0.78259444]\n",
      "  [-0.1017928 ]\n",
      "  [-0.92918855]\n",
      "  [ 0.65398693]\n",
      "  [ 0.64988023]\n",
      "  [ 0.6711523 ]]\n",
      "\n",
      " [[ 0.78259444]\n",
      "  [-0.1017928 ]\n",
      "  [-0.92918855]\n",
      "  [ 0.65398693]\n",
      "  [ 0.64988023]\n",
      "  [ 0.6711523 ]\n",
      "  [ 0.6560255 ]]\n",
      "\n",
      " [[-0.1017928 ]\n",
      "  [-0.92918855]\n",
      "  [ 0.65398693]\n",
      "  [ 0.64988023]\n",
      "  [ 0.6711523 ]\n",
      "  [ 0.6560255 ]\n",
      "  [ 0.73402315]]\n",
      "\n",
      " [[-0.92918855]\n",
      "  [ 0.65398693]\n",
      "  [ 0.64988023]\n",
      "  [ 0.6711523 ]\n",
      "  [ 0.6560255 ]\n",
      "  [ 0.73402315]\n",
      "  [-0.05496465]]\n",
      "\n",
      " [[ 0.65398693]\n",
      "  [ 0.64988023]\n",
      "  [ 0.6711523 ]\n",
      "  [ 0.6560255 ]\n",
      "  [ 0.73402315]\n",
      "  [-0.05496465]\n",
      "  [-0.8554748 ]]\n",
      "\n",
      " [[ 0.64988023]\n",
      "  [ 0.6711523 ]\n",
      "  [ 0.6560255 ]\n",
      "  [ 0.73402315]\n",
      "  [-0.05496465]\n",
      "  [-0.8554748 ]\n",
      "  [ 0.6644457 ]]\n",
      "\n",
      " [[ 0.6711523 ]\n",
      "  [ 0.6560255 ]\n",
      "  [ 0.73402315]\n",
      "  [-0.05496465]\n",
      "  [-0.8554748 ]\n",
      "  [ 0.6644457 ]\n",
      "  [ 0.70418316]]\n",
      "\n",
      " [[ 0.6560255 ]\n",
      "  [ 0.73402315]\n",
      "  [-0.05496465]\n",
      "  [-0.8554748 ]\n",
      "  [ 0.6644457 ]\n",
      "  [ 0.70418316]\n",
      "  [ 0.66899556]]\n",
      "\n",
      " [[ 0.73402315]\n",
      "  [-0.05496465]\n",
      "  [-0.8554748 ]\n",
      "  [ 0.6644457 ]\n",
      "  [ 0.70418316]\n",
      "  [ 0.66899556]\n",
      "  [ 0.5678054 ]]\n",
      "\n",
      " [[-0.05496465]\n",
      "  [-0.8554748 ]\n",
      "  [ 0.6644457 ]\n",
      "  [ 0.70418316]\n",
      "  [ 0.66899556]\n",
      "  [ 0.5678054 ]\n",
      "  [ 0.75198627]]\n",
      "\n",
      " [[-0.8554748 ]\n",
      "  [ 0.6644457 ]\n",
      "  [ 0.70418316]\n",
      "  [ 0.66899556]\n",
      "  [ 0.5678054 ]\n",
      "  [ 0.75198627]\n",
      "  [-0.0514193 ]]\n",
      "\n",
      " [[ 0.6644457 ]\n",
      "  [ 0.70418316]\n",
      "  [ 0.66899556]\n",
      "  [ 0.5678054 ]\n",
      "  [ 0.75198627]\n",
      "  [-0.0514193 ]\n",
      "  [-0.80956256]]\n",
      "\n",
      " [[ 0.70418316]\n",
      "  [ 0.66899556]\n",
      "  [ 0.5678054 ]\n",
      "  [ 0.75198627]\n",
      "  [-0.0514193 ]\n",
      "  [-0.80956256]\n",
      "  [ 0.6442668 ]]]\n"
     ]
    }
   ],
   "source": [
    "for example_inputs, example_labels in w1.test.take(1):\n",
    "  # print(f'Inputs shape (batch, time, features): {example_inputs}')\n",
    "  print(f'Labels shape (batch, time, features): {example_labels}')"
   ]
  },
  {
   "cell_type": "code",
   "execution_count": 19,
   "metadata": {},
   "outputs": [],
   "source": [
    "## TO DO: \n",
    "## Get the actual implementation for multiple outputs\n",
    "multi_conv_model = tf.keras.Sequential([\n",
    "    # Shape [batch, time, features] => [batch, CONV_WIDTH, features]\n",
    "    tf.keras.layers.Lambda(lambda x: x[:, -CONV_WIDTH:, :]),\n",
    "    # Shape => [batch, 1, conv_units]\n",
    "    tf.keras.layers.Conv1D(256, activation='relu', kernel_size=(CONV_WIDTH)),\n",
    "    # Shape => [batch, 1,  out_steps*features]\n",
    "    tf.keras.layers.Dense(OUT_STEPS*num_features,\n",
    "                          kernel_initializer=tf.initializers.zeros()),\n",
    "    # Shape => [batch, out_steps, features]\n",
    "    tf.keras.layers.Reshape([OUT_STEPS, num_features])\n",
    "])"
   ]
  },
  {
   "cell_type": "code",
   "execution_count": 20,
   "metadata": {},
   "outputs": [
    {
     "name": "stdout",
     "output_type": "stream",
     "text": [
      "Epoch 1/20\n",
      "34/34 [==============================] - 1s 7ms/step - loss: 0.5330 - mean_absolute_error: 0.5830 - val_loss: 0.1937 - val_mean_absolute_error: 0.3277\n",
      "Epoch 2/20\n",
      "34/34 [==============================] - 0s 4ms/step - loss: 0.3490 - mean_absolute_error: 0.4395 - val_loss: 0.1428 - val_mean_absolute_error: 0.2958\n",
      "Epoch 3/20\n",
      "34/34 [==============================] - 0s 4ms/step - loss: 0.3108 - mean_absolute_error: 0.4057 - val_loss: 0.1269 - val_mean_absolute_error: 0.2611\n",
      "Epoch 4/20\n",
      "34/34 [==============================] - 0s 3ms/step - loss: 0.2735 - mean_absolute_error: 0.3609 - val_loss: 0.1126 - val_mean_absolute_error: 0.2266\n",
      "Epoch 5/20\n",
      "34/34 [==============================] - 0s 3ms/step - loss: 0.2551 - mean_absolute_error: 0.3361 - val_loss: 0.1090 - val_mean_absolute_error: 0.2168\n",
      "Epoch 6/20\n",
      "34/34 [==============================] - 0s 3ms/step - loss: 0.2413 - mean_absolute_error: 0.3158 - val_loss: 0.1081 - val_mean_absolute_error: 0.2147\n",
      "Epoch 7/20\n",
      "34/34 [==============================] - 0s 3ms/step - loss: 0.2317 - mean_absolute_error: 0.3008 - val_loss: 0.1079 - val_mean_absolute_error: 0.2156\n",
      "Epoch 8/20\n",
      "34/34 [==============================] - 0s 3ms/step - loss: 0.2254 - mean_absolute_error: 0.2914 - val_loss: 0.1084 - val_mean_absolute_error: 0.2182\n",
      "Epoch 9/20\n",
      "34/34 [==============================] - 0s 3ms/step - loss: 0.2209 - mean_absolute_error: 0.2853 - val_loss: 0.1093 - val_mean_absolute_error: 0.2211\n"
     ]
    }
   ],
   "source": [
    "history = compile_and_fit(multi_conv_model, w1)"
   ]
  },
  {
   "cell_type": "code",
   "execution_count": 22,
   "metadata": {},
   "outputs": [],
   "source": [
    "prediction = multi_conv_model.predict(w1.test)"
   ]
  },
  {
   "cell_type": "code",
   "execution_count": 28,
   "metadata": {},
   "outputs": [
    {
     "data": {
      "text/plain": "array([[ 0.5154574 ],\n       [ 0.5685845 ],\n       [-0.17964496],\n       [-0.99001515],\n       [ 0.2956371 ],\n       [ 0.58719724],\n       [ 0.586471  ]], dtype=float32)"
     },
     "execution_count": 28,
     "metadata": {},
     "output_type": "execute_result"
    }
   ],
   "source": [
    "prediction[0]"
   ]
  },
  {
   "cell_type": "code",
   "execution_count": 32,
   "metadata": {},
   "outputs": [
    {
     "data": {
      "text/plain": "array([[ 0.5154574 ],\n       [ 0.5685845 ],\n       [-0.17964496],\n       [-0.99001515],\n       [ 0.2956371 ],\n       [ 0.58719724],\n       [ 0.586471  ]], dtype=float32)"
     },
     "execution_count": 32,
     "metadata": {},
     "output_type": "execute_result"
    }
   ],
   "source": [
    "prediction[0]"
   ]
  },
  {
   "cell_type": "code",
   "execution_count": 31,
   "metadata": {},
   "outputs": [
    {
     "data": {
      "text/plain": "array([[ 0.5154574 ,  0.5685845 , -0.17964496, ...,  0.2956371 ,\n         0.58719724,  0.586471  ],\n       [ 0.5492369 , -0.19462383, -1.0012038 , ...,  0.59493226,\n         0.60057825,  0.5538131 ],\n       [-0.20751888, -1.0126997 ,  0.28648305, ...,  0.596973  ,\n         0.5507713 ,  0.57015485],\n       ...,\n       [ 0.08184681, -0.19968712, -0.5274714 , ...,  0.2195263 ,\n         0.23125388,  0.21915556],\n       [-0.286252  , -0.5881661 ,  0.07155177, ...,  0.21396534,\n         0.17940313,  0.18948688],\n       [-0.597405  ,  0.01019074,  0.15183105, ...,  0.1623775 ,\n         0.2062358 , -0.12917067]], dtype=float32)"
     },
     "execution_count": 31,
     "metadata": {},
     "output_type": "execute_result"
    }
   ],
   "source": [
    "prediction.reshape((907, 7))"
   ]
  },
  {
   "cell_type": "code",
   "execution_count": null,
   "metadata": {},
   "outputs": [],
   "source": []
  },
  {
   "cell_type": "code",
   "execution_count": 667,
   "metadata": {},
   "outputs": [],
   "source": [
    "multi_lstm_model = tf.keras.Sequential([\n",
    "    # Shape [batch, time, features] => [batch, lstm_units].\n",
    "    # Adding more `lstm_units` just overfits more quickly.\n",
    "    tf.keras.layers.LSTM(32, return_sequences=False),\n",
    "    # Shape => [batch, out_steps*features].\n",
    "    tf.keras.layers.Dense(OUT_STEPS*num_features,\n",
    "                          kernel_initializer=tf.initializers.zeros()),\n",
    "    # Shape => [batch, out_steps, features].\n",
    "    # tf.keras.layers.Reshape([OUT_STEPS, num_features])\n",
    "])"
   ]
  },
  {
   "cell_type": "code",
   "execution_count": 668,
   "metadata": {},
   "outputs": [
    {
     "name": "stdout",
     "output_type": "stream",
     "text": [
      "Inputs shape (batch, time, features): (32, 14, 3)\n",
      "Labels shape (batch, time, features): (32, 7, 1)\n"
     ]
    }
   ],
   "source": [
    "for example_inputs, example_labels in w1.val.take(1):\n",
    "  print(f'Inputs shape (batch, time, features): {example_inputs.shape}')\n",
    "  print(f'Labels shape (batch, time, features): {example_labels.shape}')"
   ]
  },
  {
   "cell_type": "code",
   "execution_count": 669,
   "metadata": {},
   "outputs": [
    {
     "name": "stdout",
     "output_type": "stream",
     "text": [
      "Epoch 1/20\n",
      "34/34 [==============================] - 3s 18ms/step - loss: 0.8217 - mean_absolute_error: 0.7845 - val_loss: 0.4079 - val_mean_absolute_error: 0.5070\n",
      "Epoch 2/20\n",
      "34/34 [==============================] - 0s 7ms/step - loss: 0.7068 - mean_absolute_error: 0.7073 - val_loss: 0.4048 - val_mean_absolute_error: 0.4856\n",
      "Epoch 3/20\n",
      "34/34 [==============================] - 0s 7ms/step - loss: 0.6761 - mean_absolute_error: 0.6921 - val_loss: 0.3821 - val_mean_absolute_error: 0.4748\n",
      "Epoch 4/20\n",
      "34/34 [==============================] - 0s 7ms/step - loss: 0.6427 - mean_absolute_error: 0.6713 - val_loss: 0.3610 - val_mean_absolute_error: 0.4572\n",
      "Epoch 5/20\n",
      "34/34 [==============================] - 0s 8ms/step - loss: 0.6068 - mean_absolute_error: 0.6485 - val_loss: 0.3391 - val_mean_absolute_error: 0.4414\n",
      "Epoch 6/20\n",
      "34/34 [==============================] - 0s 7ms/step - loss: 0.5704 - mean_absolute_error: 0.6244 - val_loss: 0.3172 - val_mean_absolute_error: 0.4278\n",
      "Epoch 7/20\n",
      "34/34 [==============================] - 0s 7ms/step - loss: 0.5317 - mean_absolute_error: 0.5975 - val_loss: 0.2944 - val_mean_absolute_error: 0.4152\n",
      "Epoch 8/20\n",
      "34/34 [==============================] - 0s 7ms/step - loss: 0.4919 - mean_absolute_error: 0.5681 - val_loss: 0.2733 - val_mean_absolute_error: 0.4014\n",
      "Epoch 9/20\n",
      "34/34 [==============================] - 0s 7ms/step - loss: 0.4514 - mean_absolute_error: 0.5361 - val_loss: 0.2523 - val_mean_absolute_error: 0.3874\n",
      "Epoch 10/20\n",
      "34/34 [==============================] - 0s 7ms/step - loss: 0.4121 - mean_absolute_error: 0.5037 - val_loss: 0.2333 - val_mean_absolute_error: 0.3758\n",
      "Epoch 11/20\n",
      "34/34 [==============================] - 0s 7ms/step - loss: 0.3798 - mean_absolute_error: 0.4771 - val_loss: 0.2212 - val_mean_absolute_error: 0.3701\n",
      "Epoch 12/20\n",
      "34/34 [==============================] - 0s 7ms/step - loss: 0.3585 - mean_absolute_error: 0.4606 - val_loss: 0.2159 - val_mean_absolute_error: 0.3691\n",
      "Epoch 13/20\n",
      "34/34 [==============================] - 0s 7ms/step - loss: 0.3465 - mean_absolute_error: 0.4529 - val_loss: 0.2136 - val_mean_absolute_error: 0.3698\n",
      "Epoch 14/20\n",
      "34/34 [==============================] - 0s 7ms/step - loss: 0.3393 - mean_absolute_error: 0.4487 - val_loss: 0.2118 - val_mean_absolute_error: 0.3692\n",
      "Epoch 15/20\n",
      "34/34 [==============================] - 0s 7ms/step - loss: 0.3336 - mean_absolute_error: 0.4448 - val_loss: 0.2095 - val_mean_absolute_error: 0.3670\n",
      "Epoch 16/20\n",
      "34/34 [==============================] - 0s 7ms/step - loss: 0.3284 - mean_absolute_error: 0.4405 - val_loss: 0.2069 - val_mean_absolute_error: 0.3641\n",
      "Epoch 17/20\n",
      "34/34 [==============================] - 0s 7ms/step - loss: 0.3233 - mean_absolute_error: 0.4359 - val_loss: 0.2041 - val_mean_absolute_error: 0.3604\n",
      "Epoch 18/20\n",
      "34/34 [==============================] - 0s 8ms/step - loss: 0.3181 - mean_absolute_error: 0.4310 - val_loss: 0.2012 - val_mean_absolute_error: 0.3562\n",
      "Epoch 19/20\n",
      "34/34 [==============================] - 0s 9ms/step - loss: 0.3130 - mean_absolute_error: 0.4258 - val_loss: 0.1983 - val_mean_absolute_error: 0.3517\n",
      "Epoch 20/20\n",
      "34/34 [==============================] - 0s 9ms/step - loss: 0.3078 - mean_absolute_error: 0.4203 - val_loss: 0.1952 - val_mean_absolute_error: 0.3468\n"
     ]
    }
   ],
   "source": [
    "history = compile_and_fit(multi_lstm_model, w1)"
   ]
  },
  {
   "cell_type": "code",
   "execution_count": null,
   "metadata": {},
   "outputs": [],
   "source": []
  }
 ],
 "metadata": {
  "kernelspec": {
   "display_name": "Python 3.8.8 64-bit ('prediction': conda)",
   "name": "python388jvsc74a57bd09156c5fe81c128768729ffddff8e92efa661f491c3f6eae9c54847e138d37eca"
  },
  "language_info": {
   "codemirror_mode": {
    "name": "ipython",
    "version": 3
   },
   "file_extension": ".py",
   "mimetype": "text/x-python",
   "name": "python",
   "nbconvert_exporter": "python",
   "pygments_lexer": "ipython3",
   "version": "3.8.8"
  },
  "orig_nbformat": 3
 },
 "nbformat": 4,
 "nbformat_minor": 2
}