{
 "cells": [
  {
   "cell_type": "markdown",
   "metadata": {},
   "source": [
    "## Adjacency Matrices\n",
    "This Jupyter Notebook generates an adjacency matrix of a graph with TM stations\n",
    "<p>\n",
    "Inputs: <br>\n",
    "1. TM Stations Shapefile (point vector) - Taken from Datos Abiertos Transmilenio <br>\n",
    "2. Edges.csv - This file connects the nodes of TM stations\n",
    "</p>\n"
   ]
  },
  {
   "cell_type": "code",
   "execution_count": 23,
   "metadata": {},
   "outputs": [],
   "source": [
    "import pandas as pd\n",
    "import os\n",
    "import logging\n",
    "#import matplotlib.pyplot as plt\n",
    "import geopandas as gpd\n",
    "import networkx as nx"
   ]
  },
  {
   "cell_type": "code",
   "execution_count": 19,
   "metadata": {},
   "outputs": [],
   "source": [
    "#Read file with TM stations & create a data frame 't' (location, station name, etc.)\n",
    "estaciones=pd.read_csv('Estaciones_Troncales_de_TRANSMILENIO.csv')\n",
    "t=estaciones.sort_values(by='numero_estacion',ascending=True)"
   ]
  },
  {
   "cell_type": "code",
   "execution_count": 18,
   "metadata": {},
   "outputs": [],
   "source": [
    "#Create df from csv file with the edges of the graph\n",
    "E=pd.read_csv('Edges.csv')\n",
    "\n",
    "#Create empty graph\n",
    "G=nx.Graph()\n",
    "\n",
    "#Create dictionary with the positions of the nodes (stations)\n",
    "pos= dict([(i,[a,b]) for i, a,b in zip(t.numero_estacion, t.X,t.Y)])\n",
    "\n",
    "#Add nodes to the existing graph\n",
    "G.add_nodes_from(pos.keys())\n",
    "\n",
    "#Add edges to the existing graph\n",
    "for i, elrow in E.iterrows():\n",
    "    G.add_edge(elrow[0], elrow[1])"
   ]
  },
  {
   "cell_type": "code",
   "execution_count": 9,
   "metadata": {},
   "outputs": [
    {
     "data": {
      "image/png": "[encoded data removed]",
      "text/plain": [
       "<Figure size 432x288 with 1 Axes>"
      ]
     },
     "metadata": {},
     "output_type": "display_data"
    }
   ],
   "source": [
    "#Draw graph\n",
    "nx.draw(G, pos, with_labels=False, edge_color='red', node_size=12, font_size=8)\n",
    "plt.show()"
   ]
  },
  {
   "cell_type": "code",
   "execution_count": 11,
   "metadata": {},
   "outputs": [
    {
     "name": "stdout",
     "output_type": "stream",
     "text": [
      "[[0 1 0 ... 0 0 0]\n",
      " [1 0 1 ... 0 0 0]\n",
      " [0 1 0 ... 0 0 0]\n",
      " ...\n",
      " [0 0 0 ... 0 0 0]\n",
      " [0 0 0 ... 0 0 1]\n",
      " [0 0 0 ... 0 1 0]]\n"
     ]
    },
    {
     "name": "stderr",
     "output_type": "stream",
     "text": [
      "C:\\Users\\jrodo\\AppData\\Local\\Temp\\ipykernel_792\\2815746273.py:2: FutureWarning: adjacency_matrix will return a scipy.sparse array instead of a matrix in Networkx 3.0.\n",
      "  M = nx.adjacency_matrix(G)\n"
     ]
    },
    {
     "data": {
      "text/plain": [
       "scipy.sparse._csr.csr_matrix"
      ]
     },
     "execution_count": 11,
     "metadata": {},
     "output_type": "execute_result"
    }
   ],
   "source": [
    "#Creates adjacency matrix \n",
    "M = nx.adjacency_matrix(G)\n",
    "print(M.todense())\n",
    "type(M)"
   ]
  }
 ],
 "metadata": {
  "kernelspec": {
   "display_name": "Python 3.10.4 ('ox')",
   "language": "python",
   "name": "python3"
  },
  "language_info": {
   "codemirror_mode": {
    "name": "ipython",
    "version": 3
   },
   "file_extension": ".py",
   "mimetype": "text/x-python",
   "name": "python",
   "nbconvert_exporter": "python",
   "pygments_lexer": "ipython3",
   "version": "3.10.4"
  },
  "orig_nbformat": 4,
  "vscode": {
   "interpreter": {
    "hash": "de7d7c59447815f9d7b90484f3bb80e016083ea6fb985c2c96b5b422416cdf91"
   }
  }
 },
 "nbformat": 4,
 "nbformat_minor": 2
}
